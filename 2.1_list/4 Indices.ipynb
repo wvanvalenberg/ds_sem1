{
 "cells": [
  {
   "cell_type": "markdown",
   "metadata": {},
   "source": [
    "# Indices\n",
    "\n",
    "A List in Python stores data sequentially. Each element of a List is assigned a number - its position or index. The first index is zero, the second index is one, and so forth.\n",
    "\n",
    "| Index | 0 | 1 | 2 | 3 | 4 |   |\n",
    "|-------|---|---|---|---|---|---|\n",
    "| a = [ | 2 | 3 | 7 | 5 | 6 | ] |\n",
    "\n",
    "You can use `[index]`, where index is the index number to point to a specific element. Indices are always numbered from 0. A negative index counts back from the end of the List.\n",
    "\n",
    "|       | result | comment |\n",
    "|:------|:-------|:--------|\n",
    "| a[0]  | 2      | the first element in the list (indices always start at 0) |\n",
    "| a[3]  | 5      | the fourth element in the list |\n",
    "| a[-1] | 6      | negative indices count back from the end, -1 being the last value |\n",
    "| a[-3] | 7      ||\n",
    "| a[1] = 9 | a = [2, 9, 7, 5, 6] | you can also assign a new value to a specific position |\n",
    "\n",
    "You can also use indices to point to a range of elements. For this we can take a 'slice' from the List by specifiying a begin and end in between squared brackets, i.e. `[begin:end]`. The slice taken contains all elements from the `begin` position until the `end` position. An important detail is that the element at the `begin` position is included but the element at the `end` position is excluded. If you do not specify `begin` 0 is used, e.g. `[:2]`. If you do not specify `end` all element from begin until the end of the list are taken. \n",
    "\n",
    "|       | result | comment |\n",
    "|:------|:-------|:--------|\n",
    "| a[1:3]  | [ 3, 7 ]      | A slice is taken from index 1 until index 3, the last index excluded  |\n",
    "| a[:2]  | [ 2, 9 ]      | Leaving out `begin` means 0 is used |\n",
    "| a[0:-2] | [ 2, 3, 7 ]      | Negative indices countback from the end |\n",
    "| a[-3:] | [ 7, 5 6 ]      | |\n",
    "\n",
    "\n"
   ]
  },
  {
   "cell_type": "markdown",
   "metadata": {},
   "source": [
    "# Assignments"
   ]
  },
  {
   "cell_type": "markdown",
   "metadata": {},
   "source": [
    "#### Give time of the last lap in lap_times"
   ]
  },
  {
   "cell_type": "code",
   "execution_count": null,
   "metadata": {},
   "outputs": [],
   "source": [
    "lap_times = [ 20.3, 23.5, 21.2, 21.3 ]"
   ]
  },
  {
   "cell_type": "code",
   "execution_count": null,
   "metadata": {
    "deletable": false,
    "nbgrader": {
     "cell_type": "code",
     "checksum": "fb989a43fa722400671a89d17c120278",
     "grade": false,
     "grade_id": "cell-8c64b8a19b3d872e",
     "locked": false,
     "schema_version": 3,
     "solution": true,
     "task": false
    }
   },
   "outputs": [],
   "source": [
    "%%assignment\n",
    "# YOUR CODE HERE"
   ]
  },
  {
   "cell_type": "code",
   "execution_count": null,
   "metadata": {
    "deletable": false,
    "editable": false,
    "nbgrader": {
     "cell_type": "code",
     "checksum": "08655544e0c23c2f176ad7f8672dca8e",
     "grade": true,
     "grade_id": "cell-013935db878c64c7",
     "locked": true,
     "points": 1,
     "schema_version": 3,
     "solution": false,
     "task": false
    }
   },
   "outputs": [],
   "source": [
    "%%check\n",
    "lap_times = [ 20.3, 23.5, 21.2, 21.3 ]\n",
    "result == 21.3\n",
    "lap_times = [ 20.3, 23.5, 21.2 ]\n",
    "result == 21.2"
   ]
  },
  {
   "cell_type": "markdown",
   "metadata": {},
   "source": [
    "#### Give the time of the second lap in lap_times"
   ]
  },
  {
   "cell_type": "code",
   "execution_count": null,
   "metadata": {},
   "outputs": [],
   "source": [
    "lap_times = [ 20.3, 23.5, 21.2, 21.3 ]"
   ]
  },
  {
   "cell_type": "code",
   "execution_count": null,
   "metadata": {
    "deletable": false,
    "nbgrader": {
     "cell_type": "code",
     "checksum": "23f5212e243e666eea4038eb7826336c",
     "grade": false,
     "grade_id": "cell-b5dc21b5c7c9691b",
     "locked": false,
     "schema_version": 3,
     "solution": true,
     "task": false
    }
   },
   "outputs": [],
   "source": [
    "%%assignment\n",
    "# YOUR CODE HERE"
   ]
  },
  {
   "cell_type": "code",
   "execution_count": null,
   "metadata": {
    "deletable": false,
    "editable": false,
    "nbgrader": {
     "cell_type": "code",
     "checksum": "ce8f4e75b734c021d99d21ffea61effb",
     "grade": true,
     "grade_id": "cell-a70eeae2b26ba1f1",
     "locked": true,
     "points": 1,
     "schema_version": 3,
     "solution": false,
     "task": false
    }
   },
   "outputs": [],
   "source": [
    "%%check\n",
    "lap_times = [ 20.3, 23.5, 21.2, 21.3 ]\n",
    "result == 23.5\n",
    "lap_times = [ 23.5, 21.2, 21.3 ]\n",
    "result == 21.2"
   ]
  },
  {
   "cell_type": "markdown",
   "metadata": {},
   "source": [
    "#### Give the times all lap_times except the first"
   ]
  },
  {
   "cell_type": "code",
   "execution_count": null,
   "metadata": {},
   "outputs": [],
   "source": [
    "lap_times = [ 20.3, 23.5, 21.2, 21.3 ]"
   ]
  },
  {
   "cell_type": "code",
   "execution_count": null,
   "metadata": {
    "deletable": false,
    "nbgrader": {
     "cell_type": "code",
     "checksum": "80e0342457226845501f64d25ac527b6",
     "grade": false,
     "grade_id": "cell-cb4fce44f3347203",
     "locked": false,
     "schema_version": 3,
     "solution": true,
     "task": false
    }
   },
   "outputs": [],
   "source": [
    "%%assignment\n",
    "# YOUR CODE HERE"
   ]
  },
  {
   "cell_type": "code",
   "execution_count": null,
   "metadata": {
    "deletable": false,
    "editable": false,
    "nbgrader": {
     "cell_type": "code",
     "checksum": "f4c626beaef356b672c454afc5a3faad",
     "grade": true,
     "grade_id": "cell-9eef6c44e3f51d91",
     "locked": true,
     "points": 1,
     "schema_version": 3,
     "solution": false,
     "task": false
    }
   },
   "outputs": [],
   "source": [
    "%%check\n",
    "lap_times = [ 20.3, 23.5, 21.2, 21.3 ]\n",
    "result == [ 23.5, 21.2, 21.3 ]\n",
    "lap_times = [ 23.5, 21.2, 21.3 ]\n",
    "result == [ 21.2, 21.3 ]"
   ]
  },
  {
   "cell_type": "markdown",
   "metadata": {},
   "source": [
    "#### Give the average of all lap_times except the last two laps"
   ]
  },
  {
   "cell_type": "code",
   "execution_count": null,
   "metadata": {},
   "outputs": [],
   "source": [
    "lap_times = [ 20.3, 23.5, 21.2, 21.3 ]"
   ]
  },
  {
   "cell_type": "code",
   "execution_count": null,
   "metadata": {
    "deletable": false,
    "nbgrader": {
     "cell_type": "code",
     "checksum": "e564c73afd39336a9a57c472c4ff2e0a",
     "grade": false,
     "grade_id": "cell-9521d46ce1413d03",
     "locked": false,
     "schema_version": 3,
     "solution": true,
     "task": false
    }
   },
   "outputs": [],
   "source": [
    "%%assignment\n",
    "# YOUR CODE HERE"
   ]
  },
  {
   "cell_type": "code",
   "execution_count": null,
   "metadata": {
    "deletable": false,
    "editable": false,
    "nbgrader": {
     "cell_type": "code",
     "checksum": "cdb1ac4295c71464e309bf78afa4fc17",
     "grade": true,
     "grade_id": "cell-4581706ba35fb722",
     "locked": true,
     "points": 1,
     "schema_version": 3,
     "solution": false,
     "task": false
    }
   },
   "outputs": [],
   "source": [
    "%%check\n",
    "lap_times = [ 20.3, 23.5, 21.2, 21.3 ]\n",
    "result == 21.9\n",
    "lap_times = [ 1.0, 2.0, 4.0, 6.0, 21.2, 21.3 ]\n",
    "result == 3.25"
   ]
  },
  {
   "cell_type": "markdown",
   "metadata": {},
   "source": [
    "#### change the second lap_time to 22.6"
   ]
  },
  {
   "cell_type": "code",
   "execution_count": null,
   "metadata": {},
   "outputs": [],
   "source": [
    "lap_times = [ 20.3, 23.5, 21.2, 21.3 ]"
   ]
  },
  {
   "cell_type": "code",
   "execution_count": null,
   "metadata": {
    "deletable": false,
    "nbgrader": {
     "cell_type": "code",
     "checksum": "9e871464556849630496a35a6a246416",
     "grade": false,
     "grade_id": "cell-49db1923ce9bf0f5",
     "locked": false,
     "schema_version": 3,
     "solution": true,
     "task": false
    }
   },
   "outputs": [],
   "source": [
    "%%assignment\n",
    "# YOUR CODE HERE"
   ]
  },
  {
   "cell_type": "code",
   "execution_count": null,
   "metadata": {
    "deletable": false,
    "editable": false,
    "nbgrader": {
     "cell_type": "code",
     "checksum": "d663482eef2a7aae3446f0d29f2dacce",
     "grade": true,
     "grade_id": "cell-7d5980c358d7fdf5",
     "locked": true,
     "points": 1,
     "schema_version": 3,
     "solution": false,
     "task": false
    }
   },
   "outputs": [],
   "source": [
    "%%check\n",
    "lap_times = [ 20.3, 23.5, 21.2, 21.3 ]\n",
    "lap_times == [ 20.3, 22.6, 21.2, 21.3 ]\n",
    "lap_times = [ 1.0, 2.0 ]\n",
    "lap_times == [ 1.0, 22.6 ]"
   ]
  }
 ],
 "metadata": {
  "kernelspec": {
   "display_name": "nbgrader",
   "language": "python",
   "name": "nbgrader"
  },
  "language_info": {
   "codemirror_mode": {
    "name": "ipython",
    "version": 3
   },
   "file_extension": ".py",
   "mimetype": "text/x-python",
   "name": "python",
   "nbconvert_exporter": "python",
   "pygments_lexer": "ipython3",
   "version": "3.6.10"
  }
 },
 "nbformat": 4,
 "nbformat_minor": 4
}
