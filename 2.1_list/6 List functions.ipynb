{
 "cells": [
  {
   "cell_type": "markdown",
   "metadata": {},
   "source": [
    "# List functions\n",
    "\n",
    "There are several functions we can apply to a List to modify the List or perform some operation.\n",
    "\n",
    "| Index | 0 | 1 | 2 |   |\n",
    "|-------|---|---|---|---|\n",
    "| a = [ | 2 | 3 | 7 | ] |\n",
    "| b = [ | 3 | 8 | 5 | ] |\n",
    "\n",
    "\n",
    "| Example | Result | Comment |\n",
    "|:--------|:-------|:--------|\n",
    "| a.append( 4 ) | a = [ 2, 3, 7, 4 ] | appends a value to the end of the list |\n",
    "| a.index(3)    | 1 | returns the index at which the elemnt 3 is |\n",
    "| a.insert(1, 9) | a = [ 2, 9, 3, 7 ] | inserts the element line in the list inbetween the indices 0 and 1 |\n",
    "| a.extend(b) | a = [ 2, 3, 7, 3, 8, 5 ] | appends all elements from b to a, note that elements do not have to be unique |\n",
    "| b.sort() | b = [ 3, 5, 8 ] | sorts the elements in the List |\n",
    "| a.reverse() | a = [ 7, 3, 2 ] | reverses the order of the elements |\n"
   ]
  },
  {
   "cell_type": "markdown",
   "metadata": {},
   "source": [
    "# Assignments"
   ]
  },
  {
   "cell_type": "markdown",
   "metadata": {},
   "source": [
    "#### Insert the name 'Jeff' in `hero` at index 1."
   ]
  },
  {
   "cell_type": "code",
   "execution_count": null,
   "metadata": {},
   "outputs": [],
   "source": [
    "hero = ['John', 'Jack', 'James']"
   ]
  },
  {
   "cell_type": "code",
   "execution_count": null,
   "metadata": {
    "deletable": false,
    "nbgrader": {
     "cell_type": "code",
     "checksum": "1167ae0477921614864eee57de4dc304",
     "grade": false,
     "grade_id": "cell-2ff6d26dfbb20552",
     "locked": false,
     "schema_version": 3,
     "solution": true,
     "task": false
    }
   },
   "outputs": [],
   "source": [
    "%%assignment\n",
    "# YOUR CODE HERE"
   ]
  },
  {
   "cell_type": "code",
   "execution_count": null,
   "metadata": {
    "deletable": false,
    "editable": false,
    "nbgrader": {
     "cell_type": "code",
     "checksum": "346f74c339374b5836a6d10aba41edaa",
     "grade": true,
     "grade_id": "cell-b4bf79710010974c",
     "locked": true,
     "points": 1,
     "schema_version": 3,
     "solution": false,
     "task": false
    }
   },
   "outputs": [],
   "source": [
    "%%check\n",
    "hero = ['John', 'Jack', 'James']\n",
    "hero == ['John', 'Jeff', 'Jack', 'James']\n",
    "hero = ['Kyle', 'Kevin']\n",
    "hero == ['Kyle', 'Jeff', 'Kevin']"
   ]
  },
  {
   "cell_type": "markdown",
   "metadata": {},
   "source": [
    "#### Insert the name 'Jeff' in `hero` just before 'Jack'. Beware that Jack is not necessarily at index 1."
   ]
  },
  {
   "cell_type": "code",
   "execution_count": null,
   "metadata": {},
   "outputs": [],
   "source": [
    "hero = ['John', 'Jack', 'James']"
   ]
  },
  {
   "cell_type": "code",
   "execution_count": null,
   "metadata": {
    "deletable": false,
    "nbgrader": {
     "cell_type": "code",
     "checksum": "91775f467e85f02eb5220def0f5db344",
     "grade": false,
     "grade_id": "cell-4bd69d2ee43e347b",
     "locked": false,
     "schema_version": 3,
     "solution": true,
     "task": false
    }
   },
   "outputs": [],
   "source": [
    "%%assignment\n",
    "# YOUR CODE HERE"
   ]
  },
  {
   "cell_type": "code",
   "execution_count": null,
   "metadata": {
    "deletable": false,
    "editable": false,
    "nbgrader": {
     "cell_type": "code",
     "checksum": "09e931e28869d858c96b2a9947d5f5e4",
     "grade": true,
     "grade_id": "cell-f1135baa5de9e613",
     "locked": true,
     "points": 1,
     "schema_version": 3,
     "solution": false,
     "task": false
    }
   },
   "outputs": [],
   "source": [
    "%%check\n",
    "hero = ['John', 'Jack', 'James']\n",
    "hero == ['John', 'Jeff', 'Jack', 'James']\n",
    "hero = ['Jack', 'James']\n",
    "hero == ['Jeff', 'Jack', 'James']"
   ]
  },
  {
   "cell_type": "markdown",
   "metadata": {},
   "source": [
    "#### What is the second smallest temperature in `temperatures`."
   ]
  },
  {
   "cell_type": "code",
   "execution_count": null,
   "metadata": {},
   "outputs": [],
   "source": [
    "temperatures = [20, 9, 15, 30, 31]"
   ]
  },
  {
   "cell_type": "code",
   "execution_count": null,
   "metadata": {
    "deletable": false,
    "nbgrader": {
     "cell_type": "code",
     "checksum": "ed42b68a7d431bcf4d870b16f6b38fc5",
     "grade": false,
     "grade_id": "cell-ac30e36b8a2d6b09",
     "locked": false,
     "schema_version": 3,
     "solution": true,
     "task": false
    }
   },
   "outputs": [],
   "source": [
    "%%assignment\n",
    "# YOUR CODE HERE"
   ]
  },
  {
   "cell_type": "code",
   "execution_count": null,
   "metadata": {
    "deletable": false,
    "editable": false,
    "nbgrader": {
     "cell_type": "code",
     "checksum": "2a4f5d3888bb0471fef448df523d26e6",
     "grade": true,
     "grade_id": "cell-220dc79188bc96c8",
     "locked": true,
     "points": 1,
     "schema_version": 3,
     "solution": false,
     "task": false
    }
   },
   "outputs": [],
   "source": [
    "%%check\n",
    "temperatures = [20, 9, 15, 30, 31]\n",
    "result == 15\n",
    "temperatures = [2.5, 3.5, 4.5, 1.2]\n",
    "result == 2.5"
   ]
  },
  {
   "cell_type": "markdown",
   "metadata": {},
   "source": [
    "#### Replace the highest temperature with 40."
   ]
  },
  {
   "cell_type": "code",
   "execution_count": null,
   "metadata": {},
   "outputs": [],
   "source": [
    "temperatures = [20, 9, 15, 31, 30]"
   ]
  },
  {
   "cell_type": "code",
   "execution_count": null,
   "metadata": {
    "deletable": false,
    "nbgrader": {
     "cell_type": "code",
     "checksum": "ef5f1492f154ff6ee6b13a5fe36ead63",
     "grade": false,
     "grade_id": "cell-da46940fb64d25cb",
     "locked": false,
     "schema_version": 3,
     "solution": true,
     "task": false
    }
   },
   "outputs": [],
   "source": [
    "%%assignment\n",
    "# YOUR CODE HERE"
   ]
  },
  {
   "cell_type": "code",
   "execution_count": null,
   "metadata": {
    "deletable": false,
    "editable": false,
    "nbgrader": {
     "cell_type": "code",
     "checksum": "be18c9b0abb8b912dbda6b3d1f93ed34",
     "grade": true,
     "grade_id": "cell-94c272164393a4dd",
     "locked": true,
     "points": 1,
     "schema_version": 3,
     "solution": false,
     "task": false
    }
   },
   "outputs": [],
   "source": [
    "%%check\n",
    "temperatures = [20, 9, 15, 30, 31]\n",
    "temperatures == [20, 9, 15, 30, 40]\n",
    "temperatures = [2.5, 3.5, 3.2, 1.2]\n",
    "temperatures == [2.5, 40, 3.2, 1.2]"
   ]
  },
  {
   "cell_type": "markdown",
   "metadata": {},
   "source": [
    "#### Replace the lowest value in temperatures with the highest temperature"
   ]
  },
  {
   "cell_type": "code",
   "execution_count": null,
   "metadata": {},
   "outputs": [],
   "source": [
    "temperatures = [20, 9, 15, 31, 30]\n",
    "# i.e. should become [ 20, 31, 15, 9, 30 ]"
   ]
  },
  {
   "cell_type": "code",
   "execution_count": null,
   "metadata": {
    "deletable": false,
    "nbgrader": {
     "cell_type": "code",
     "checksum": "caea7450c4fe4ff5f149470ad1be29e4",
     "grade": false,
     "grade_id": "cell-7329552cb587a693",
     "locked": false,
     "schema_version": 3,
     "solution": true,
     "task": false
    }
   },
   "outputs": [],
   "source": [
    "%%assignment\n",
    "# YOUR CODE HERE"
   ]
  },
  {
   "cell_type": "code",
   "execution_count": null,
   "metadata": {
    "deletable": false,
    "editable": false,
    "nbgrader": {
     "cell_type": "code",
     "checksum": "f89c30b0ab895bf496c2609dd2703ebf",
     "grade": true,
     "grade_id": "cell-2f12bffada94c9da",
     "locked": true,
     "points": 1,
     "schema_version": 3,
     "solution": false,
     "task": false
    }
   },
   "outputs": [],
   "source": [
    "%%check\n",
    "temperatures = [20, 9, 15, 30, 31]\n",
    "temperatures == [20, 31, 15, 30, 31]\n",
    "temperatures = [3.5, 2.5, 3.2, 1.2]\n",
    "temperatures == [3.5, 2.5, 3.2, 3.5]"
   ]
  }
 ],
 "metadata": {
  "kernelspec": {
   "display_name": "nbgrader",
   "language": "python",
   "name": "nbgrader"
  },
  "language_info": {
   "codemirror_mode": {
    "name": "ipython",
    "version": 3
   },
   "file_extension": ".py",
   "mimetype": "text/x-python",
   "name": "python",
   "nbconvert_exporter": "python",
   "pygments_lexer": "ipython3",
   "version": "3.6.10"
  }
 },
 "nbformat": 4,
 "nbformat_minor": 4
}
