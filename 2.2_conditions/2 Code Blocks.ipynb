{
 "cells": [
  {
   "cell_type": "markdown",
   "metadata": {},
   "source": [
    "# Code blocks\n",
    "\n",
    "If statements can also apply on multiple lines of code instead of just a single line. We refer to multiple lines of programming code belonging together as a 'code block'. Although an `if` statement is something that you generally find in any programming language, Python has a particular way to mark code blocks, which s through indentation (jumps or spaces from the left margin). \n",
    "\n",
    "```\n",
    "if condition:\n",
    "    code block\n",
    "    that consists\n",
    "    of multiple lines\n",
    "    that have the same indentation\n",
    "we exit the code block\n",
    "by jumping back to the \n",
    "previous indentation level\n",
    "```\n",
    "\n",
    "There are a few rules:\n",
    "- Indentation is often done by four spaces, but Python will accept any amount af spaces > 0\n",
    "- All lines in the code block must have the exact same indentation level, or you get a Syntax Error.\n",
    "- The code block ends if the indentation jumps back to the level before the code block, like the word 'we' in the above example, this marks the end of the code block.\n",
    "- Vertical spaces (empty lines) are meaningless and ignored by Python. But yu are welcome to add them if it makes your programming code more readable."
   ]
  },
  {
   "cell_type": "markdown",
   "metadata": {},
   "source": [
    "# Examples"
   ]
  },
  {
   "cell_type": "code",
   "execution_count": null,
   "metadata": {},
   "outputs": [],
   "source": [
    "a = 10\n",
    "if a > 20: # this is False, the entire code block is skipped\n",
    "    a = a + 1\n",
    "    a = a + 1\n",
    "a = a + 20 # this is outside the if, because the code block ends here, so this is executed\n",
    "if a < 35: # this is True, the entire code block is executed\n",
    "    a = a + 5\n",
    "    a = a + 5 # this line is also executed, even though a == 35 here, \n",
    "              # the condition a < 35 is not re-evaluated between the l. Once\n",
    "              # the decision is made to execute the code block, all lines are executed.\n",
    "a"
   ]
  },
  {
   "cell_type": "markdown",
   "metadata": {},
   "source": [
    "# Assignments"
   ]
  },
  {
   "cell_type": "markdown",
   "metadata": {},
   "source": [
    "#### What is a after the code would run?"
   ]
  },
  {
   "cell_type": "markdown",
   "metadata": {},
   "source": [
    "```\n",
    "a = 10\n",
    "if a > 20:\n",
    "    a = a + 1\n",
    "    a = a + 2\n",
    "```"
   ]
  },
  {
   "cell_type": "code",
   "execution_count": null,
   "metadata": {
    "deletable": false,
    "editable": false,
    "nbgrader": {
     "cell_type": "code",
     "checksum": "29442a443f2a544defdc8bf119f7a57c",
     "grade": false,
     "grade_id": "cell-fa184bd52554a3cb",
     "locked": true,
     "schema_version": 3,
     "solution": false,
     "task": false
    }
   },
   "outputs": [],
   "source": [
    "%%slider codeblock1\n",
    "10 22 1"
   ]
  },
  {
   "cell_type": "code",
   "execution_count": null,
   "metadata": {
    "deletable": false,
    "editable": false,
    "nbgrader": {
     "cell_type": "code",
     "checksum": "fdf479109b69fa872f11114e07af5601",
     "grade": true,
     "grade_id": "cell-708b94a082ebc47f",
     "locked": true,
     "points": 1,
     "schema_version": 3,
     "solution": false,
     "task": false
    }
   },
   "outputs": [],
   "source": [
    "%%check\n",
    "result == 8905082365601824"
   ]
  },
  {
   "cell_type": "markdown",
   "metadata": {},
   "source": [
    "```\n",
    "a = 10\n",
    "if a > 5:\n",
    "    a = a + 1\n",
    "    a = a + 2\n",
    "```"
   ]
  },
  {
   "cell_type": "code",
   "execution_count": null,
   "metadata": {
    "deletable": false,
    "editable": false,
    "nbgrader": {
     "cell_type": "code",
     "checksum": "bb8a5ab28a8430a89a8bdd3831268add",
     "grade": false,
     "grade_id": "cell-9fe9d660b91a00bd",
     "locked": true,
     "schema_version": 3,
     "solution": false,
     "task": false
    }
   },
   "outputs": [],
   "source": [
    "%%slider codeblock2\n",
    "10 22 1"
   ]
  },
  {
   "cell_type": "code",
   "execution_count": null,
   "metadata": {
    "deletable": false,
    "editable": false,
    "nbgrader": {
     "cell_type": "code",
     "checksum": "bbf6f14a3b21e6597bf947de6dab8cf4",
     "grade": true,
     "grade_id": "cell-a01d51551c326967",
     "locked": true,
     "points": 1,
     "schema_version": 3,
     "solution": false,
     "task": false
    }
   },
   "outputs": [],
   "source": [
    "%%check\n",
    "result == 6737380068994873"
   ]
  },
  {
   "cell_type": "markdown",
   "metadata": {},
   "source": [
    "```\n",
    "a = 10\n",
    "if a > 5:\n",
    "    a = a + 1\n",
    "a = a + 2\n",
    "```"
   ]
  },
  {
   "cell_type": "code",
   "execution_count": null,
   "metadata": {
    "deletable": false,
    "editable": false,
    "nbgrader": {
     "cell_type": "code",
     "checksum": "49e1ddf78b85fac3b2d50c86b120a7b8",
     "grade": false,
     "grade_id": "cell-727d9683e811b0fb",
     "locked": true,
     "schema_version": 3,
     "solution": false,
     "task": false
    }
   },
   "outputs": [],
   "source": [
    "%%slider codeblock3\n",
    "10 22 1"
   ]
  },
  {
   "cell_type": "code",
   "execution_count": null,
   "metadata": {
    "deletable": false,
    "editable": false,
    "nbgrader": {
     "cell_type": "code",
     "checksum": "10a588247cdb57c9c3bbd5e287a28036",
     "grade": true,
     "grade_id": "cell-6553236394609050",
     "locked": true,
     "points": 1,
     "schema_version": 3,
     "solution": false,
     "task": false
    }
   },
   "outputs": [],
   "source": [
    "%%check\n",
    "result == 6737380068994873"
   ]
  },
  {
   "cell_type": "markdown",
   "metadata": {},
   "source": [
    "```\n",
    "a = 10\n",
    "if a > 5:\n",
    "    a = a + 1\n",
    "    a = a + 2\n",
    "a = a + 4\n",
    "```"
   ]
  },
  {
   "cell_type": "code",
   "execution_count": null,
   "metadata": {
    "deletable": false,
    "editable": false,
    "nbgrader": {
     "cell_type": "code",
     "checksum": "8ea80daba833163c091412a1571af2ef",
     "grade": false,
     "grade_id": "cell-a431307772ec27e9",
     "locked": true,
     "schema_version": 3,
     "solution": false,
     "task": false
    }
   },
   "outputs": [],
   "source": [
    "%%slider codeblock4\n",
    "10 22 1"
   ]
  },
  {
   "cell_type": "code",
   "execution_count": null,
   "metadata": {
    "deletable": false,
    "editable": false,
    "nbgrader": {
     "cell_type": "code",
     "checksum": "c2a14021cb773f118721b1ff7b6f918f",
     "grade": true,
     "grade_id": "cell-b0bfc494fa6dc8c8",
     "locked": true,
     "points": 1,
     "schema_version": 3,
     "solution": false,
     "task": false
    }
   },
   "outputs": [],
   "source": [
    "%%check\n",
    "result == 547771667338747"
   ]
  },
  {
   "cell_type": "markdown",
   "metadata": {},
   "source": [
    "```\n",
    "a = 10\n",
    "if a > 15:\n",
    "    a = a + 1\n",
    "    a = a + 2\n",
    "a = a + 4\n",
    "```"
   ]
  },
  {
   "cell_type": "code",
   "execution_count": null,
   "metadata": {
    "deletable": false,
    "editable": false,
    "nbgrader": {
     "cell_type": "code",
     "checksum": "acd12d75d6340e320a4bb0b630efde15",
     "grade": false,
     "grade_id": "cell-4b7979c2045c5418",
     "locked": true,
     "schema_version": 3,
     "solution": false,
     "task": false
    }
   },
   "outputs": [],
   "source": [
    "%%slider codeblock5\n",
    "10 22 1"
   ]
  },
  {
   "cell_type": "code",
   "execution_count": null,
   "metadata": {
    "deletable": false,
    "editable": false,
    "nbgrader": {
     "cell_type": "code",
     "checksum": "61f88fc4dd01322556eb6ccfce698bcb",
     "grade": true,
     "grade_id": "cell-72fe6ccafb7c8600",
     "locked": true,
     "points": 1,
     "schema_version": 3,
     "solution": false,
     "task": false
    }
   },
   "outputs": [],
   "source": [
    "%%check\n",
    "result == 6709786703486038"
   ]
  },
  {
   "cell_type": "markdown",
   "metadata": {},
   "source": [
    "```\n",
    "a = 10\n",
    "if a > 15:\n",
    "    a = a + 1\n",
    "    \n",
    "    a = a + 2\n",
    "a = a + 4\n",
    "```"
   ]
  },
  {
   "cell_type": "code",
   "execution_count": null,
   "metadata": {
    "deletable": false,
    "editable": false,
    "nbgrader": {
     "cell_type": "code",
     "checksum": "f105e543a4415a28cd399fbc93eac56a",
     "grade": false,
     "grade_id": "cell-69ed5c06d6ab5d1b",
     "locked": true,
     "schema_version": 3,
     "solution": false,
     "task": false
    }
   },
   "outputs": [],
   "source": [
    "%%slider codeblock6\n",
    "10 22 1"
   ]
  },
  {
   "cell_type": "code",
   "execution_count": null,
   "metadata": {
    "deletable": false,
    "editable": false,
    "nbgrader": {
     "cell_type": "code",
     "checksum": "52c745d80cb8988a7b15cd145d3353af",
     "grade": true,
     "grade_id": "cell-3180478b37533e49",
     "locked": true,
     "points": 1,
     "schema_version": 3,
     "solution": false,
     "task": false
    }
   },
   "outputs": [],
   "source": [
    "%%check\n",
    "result == 6709786703486038"
   ]
  },
  {
   "cell_type": "code",
   "execution_count": null,
   "metadata": {},
   "outputs": [],
   "source": []
  }
 ],
 "metadata": {
  "kernelspec": {
   "display_name": "nbgrader",
   "language": "python",
   "name": "nbgrader"
  },
  "language_info": {
   "codemirror_mode": {
    "name": "ipython",
    "version": 3
   },
   "file_extension": ".py",
   "mimetype": "text/x-python",
   "name": "python",
   "nbconvert_exporter": "python",
   "pygments_lexer": "ipython3",
   "version": "3.6.10"
  }
 },
 "nbformat": 4,
 "nbformat_minor": 4
}
