{
 "cells": [
  {
   "cell_type": "markdown",
   "metadata": {},
   "source": [
    "# String functions\n",
    "\n",
    "We can apply some functions on Strings that we can also apply on Lists, and also some additional ones.\n",
    "\n",
    "| code | result | comment |\n",
    "|:-----|:-------|:--------|\n",
    "| `'a' in 'Ardvark'` | `True` | like the `in` operator for Lists, this returns True when 'a' is in 'ArdVark' |\n",
    "| `'va' in 'Ardvark'` | `True` | different from Lists, we can also check if a sequence of characters is present |\n",
    "| `'ard' in 'Ardvark'` | `False` | however, Strings are case sensitive 'ard' != 'Ard' |\n",
    "| `'Ardvark'.index('a')` | `4` | returns the first index at which 'a' appears |\n",
    "| `len('a and b')` | `7` | the number of characters in the word, including spaces |\n",
    "| `int('23')` | `23` | converts a string value to an int. This only works if the string is only an int |\n",
    "| `'a and b'.split()` | `['a', 'and', 'b']` | Splits a List on whitespaces and returns a List of words |\n",
    "| `'30-12-2020'.split('-')` | `['30', '12', '2020']` | Splits a List on the '-' character/delimiter and returns a List of 'words' |\n",
    "| `'His name is Jack'.lower()` | `'his name is jack'` | Returns a String with all characters in lower case |\n",
    "| `'His name is Jack'.upper()` | `'HIS NAME IS JACK'` | Returns a String with all characters in upper case |\n",
    "\n"
   ]
  },
  {
   "cell_type": "markdown",
   "metadata": {},
   "source": [
    "# Assignments"
   ]
  },
  {
   "cell_type": "markdown",
   "metadata": {},
   "source": [
    "#### what is the first position of 'be' in `text`"
   ]
  },
  {
   "cell_type": "code",
   "execution_count": null,
   "metadata": {},
   "outputs": [],
   "source": [
    "text = 'To be or not to be, that is the question'"
   ]
  },
  {
   "cell_type": "code",
   "execution_count": null,
   "metadata": {
    "deletable": false,
    "nbgrader": {
     "cell_type": "code",
     "checksum": "1ba34eb48147115132026a917b3f5589",
     "grade": false,
     "grade_id": "cell-0c1d49f81863c373",
     "locked": false,
     "schema_version": 3,
     "solution": true,
     "task": false
    }
   },
   "outputs": [],
   "source": [
    "%%assignment\n",
    "# YOUR CODE HERE"
   ]
  },
  {
   "cell_type": "code",
   "execution_count": null,
   "metadata": {
    "deletable": false,
    "editable": false,
    "nbgrader": {
     "cell_type": "code",
     "checksum": "78fb14b21bf389f3ea678b02f7673d34",
     "grade": true,
     "grade_id": "cell-9ce49b7c4a6cb4e1",
     "locked": true,
     "points": 1,
     "schema_version": 3,
     "solution": false,
     "task": false
    }
   },
   "outputs": [],
   "source": [
    "%%check\n",
    "text = 'To be or not to be, that is the question'\n",
    "result == 3\n",
    "text = 'be'\n",
    "result == 0"
   ]
  },
  {
   "cell_type": "markdown",
   "metadata": {},
   "source": [
    "#### Check if 'be' is in `text`, case insensitive (e.g. B is the same as b)"
   ]
  },
  {
   "cell_type": "code",
   "execution_count": null,
   "metadata": {},
   "outputs": [],
   "source": [
    "text = 'To be or not to be, that is the question'"
   ]
  },
  {
   "cell_type": "code",
   "execution_count": null,
   "metadata": {
    "deletable": false,
    "nbgrader": {
     "cell_type": "code",
     "checksum": "1600016c290dd90416c41a0ec98030a4",
     "grade": false,
     "grade_id": "cell-b54dd41d3fa755cb",
     "locked": false,
     "schema_version": 3,
     "solution": true,
     "task": false
    }
   },
   "outputs": [],
   "source": [
    "%%assignment\n",
    "# YOUR CODE HERE"
   ]
  },
  {
   "cell_type": "code",
   "execution_count": null,
   "metadata": {
    "deletable": false,
    "editable": false,
    "nbgrader": {
     "cell_type": "code",
     "checksum": "2596d842ef96e2b88902fb027cb074c4",
     "grade": true,
     "grade_id": "cell-0bff5f3a728ee875",
     "locked": true,
     "points": 1,
     "schema_version": 3,
     "solution": false,
     "task": false
    }
   },
   "outputs": [],
   "source": [
    "%%check\n",
    "text = 'To be or not to be, that is the question'\n",
    "result\n",
    "text = 'Be who you want BE'\n",
    "result\n",
    "text = 'B3 who you want'\n",
    "not result"
   ]
  },
  {
   "cell_type": "markdown",
   "metadata": {},
   "source": [
    "#### How long is the second word in `text`"
   ]
  },
  {
   "cell_type": "code",
   "execution_count": null,
   "metadata": {},
   "outputs": [],
   "source": [
    "text = 'To be or not to be, that is the question'"
   ]
  },
  {
   "cell_type": "code",
   "execution_count": null,
   "metadata": {
    "deletable": false,
    "nbgrader": {
     "cell_type": "code",
     "checksum": "ae37681e30db8a9c5365f31efdb180fd",
     "grade": false,
     "grade_id": "cell-5c8a125e2d980fc7",
     "locked": false,
     "schema_version": 3,
     "solution": true,
     "task": false
    }
   },
   "outputs": [],
   "source": [
    "%%assignment\n",
    "# YOUR CODE HERE"
   ]
  },
  {
   "cell_type": "code",
   "execution_count": null,
   "metadata": {
    "deletable": false,
    "editable": false,
    "nbgrader": {
     "cell_type": "code",
     "checksum": "6144dcd4aeb3583d359225440a01e67e",
     "grade": true,
     "grade_id": "cell-d943bd81db183d06",
     "locked": true,
     "points": 1,
     "schema_version": 3,
     "solution": false,
     "task": false
    }
   },
   "outputs": [],
   "source": [
    "%%check\n",
    "text = 'To be or not to be, that is the question'\n",
    "result == 2\n",
    "text = 'Be who you want BE'\n",
    "result == 3"
   ]
  },
  {
   "cell_type": "markdown",
   "metadata": {},
   "source": [
    "#### How long are all the words in `text`.\n",
    "\n",
    "Hint: you can use a List comprension to list the length of the words."
   ]
  },
  {
   "cell_type": "code",
   "execution_count": null,
   "metadata": {},
   "outputs": [],
   "source": [
    "text = 'To be or not to be, that is the question'"
   ]
  },
  {
   "cell_type": "code",
   "execution_count": null,
   "metadata": {
    "deletable": false,
    "nbgrader": {
     "cell_type": "code",
     "checksum": "b61db7c6df18a4935be79edfdaa1c367",
     "grade": false,
     "grade_id": "cell-b87764938f446dfc",
     "locked": false,
     "schema_version": 3,
     "solution": true,
     "task": false
    }
   },
   "outputs": [],
   "source": [
    "%%assignment\n",
    "# YOUR CODE HERE"
   ]
  },
  {
   "cell_type": "code",
   "execution_count": null,
   "metadata": {
    "deletable": false,
    "editable": false,
    "nbgrader": {
     "cell_type": "code",
     "checksum": "342de333c3b33ffc8d3754e38a015c13",
     "grade": true,
     "grade_id": "cell-4fdc63fa34f67e82",
     "locked": true,
     "points": 1,
     "schema_version": 3,
     "solution": false,
     "task": false
    }
   },
   "outputs": [],
   "source": [
    "%%check\n",
    "text = 'To be or not to be, that is the question'\n",
    "result == [2, 2, 2, 3, 2, 3, 4, 2, 3, 8]\n",
    "text = 'Be who you want BE'\n",
    "result == [2, 3, 3, 4, 2]"
   ]
  },
  {
   "cell_type": "markdown",
   "metadata": {},
   "source": [
    "#### How long is the longest word in `text`.\n",
    "\n",
    "Hint: Using the List of word lengths, with what function can you get the highest value?"
   ]
  },
  {
   "cell_type": "code",
   "execution_count": null,
   "metadata": {},
   "outputs": [],
   "source": [
    "text = 'To be or not to be, that is the question'"
   ]
  },
  {
   "cell_type": "code",
   "execution_count": null,
   "metadata": {
    "deletable": false,
    "nbgrader": {
     "cell_type": "code",
     "checksum": "3dd825823a0695b40c2dba559c12571a",
     "grade": false,
     "grade_id": "cell-9437e09778cece04",
     "locked": false,
     "schema_version": 3,
     "solution": true,
     "task": false
    }
   },
   "outputs": [],
   "source": [
    "%%assignment\n",
    "# YOUR CODE HERE"
   ]
  },
  {
   "cell_type": "code",
   "execution_count": null,
   "metadata": {
    "deletable": false,
    "editable": false,
    "nbgrader": {
     "cell_type": "code",
     "checksum": "10c03e81621b9a4355a20ed9238691a8",
     "grade": true,
     "grade_id": "cell-872bb148b51a111b",
     "locked": true,
     "points": 1,
     "schema_version": 3,
     "solution": false,
     "task": false
    }
   },
   "outputs": [],
   "source": [
    "%%check\n",
    "text = 'To be or not to be, that is the question'\n",
    "result == 8\n",
    "text = 'Be who you want BE'\n",
    "result == 4"
   ]
  },
  {
   "cell_type": "code",
   "execution_count": null,
   "metadata": {},
   "outputs": [],
   "source": []
  }
 ],
 "metadata": {
  "kernelspec": {
   "display_name": "nbgrader",
   "language": "python",
   "name": "nbgrader"
  },
  "language_info": {
   "codemirror_mode": {
    "name": "ipython",
    "version": 3
   },
   "file_extension": ".py",
   "mimetype": "text/x-python",
   "name": "python",
   "nbconvert_exporter": "python",
   "pygments_lexer": "ipython3",
   "version": "3.6.10"
  }
 },
 "nbformat": 4,
 "nbformat_minor": 4
}
