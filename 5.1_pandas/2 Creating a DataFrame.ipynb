{
 "cells": [
  {
   "cell_type": "markdown",
   "metadata": {},
   "source": [
    "## Creating a new DataFrame\n",
    "We've already seen that we can create a DataFrame by loading a CSV file with Pandas. But a DataFrame can also be directly constructed from a dictionary of lists:\n",
    "\n",
    "\n",
    "\n"
   ]
  },
  {
   "cell_type": "code",
   "execution_count": 1,
   "metadata": {},
   "outputs": [
    {
     "name": "stdout",
     "output_type": "stream",
     "text": [
      "        A           B\n",
      "row_0  10         aap\n",
      "row_1  20       paard\n",
      "row_2  30  dromedaris\n"
     ]
    }
   ],
   "source": [
    "import pandas as pd\n",
    "\n",
    "example_dict = {'A': [10, 20, 30], 'B': ['aap','paard','dromedaris']}\n",
    "row_labels = [f'row_{k}' for k in range(3)] \n",
    "\n",
    "example_df = pd.DataFrame(example_dict,index=row_labels)\n",
    "print(example_df)"
   ]
  },
  {
   "cell_type": "markdown",
   "metadata": {},
   "source": [
    "**exercise** Create the following table as DataFrame:\n",
    "\n",
    "|       | inwoners | provincie    | \n",
    "|-------|----------|--------------|\n",
    "| Delft | 104468   | Zuid-Holland | \n",
    "| Utrecht | 361924 | Utrecht |\n",
    "| Westerhoven | 2030 | Noord-Brabant|\n"
   ]
  },
  {
   "cell_type": "code",
   "execution_count": 2,
   "metadata": {},
   "outputs": [
    {
     "data": {
      "text/html": [
       "<div>\n",
       "<style scoped>\n",
       "    .dataframe tbody tr th:only-of-type {\n",
       "        vertical-align: middle;\n",
       "    }\n",
       "\n",
       "    .dataframe tbody tr th {\n",
       "        vertical-align: top;\n",
       "    }\n",
       "\n",
       "    .dataframe thead th {\n",
       "        text-align: right;\n",
       "    }\n",
       "</style>\n",
       "<table border=\"1\" class=\"dataframe\">\n",
       "  <thead>\n",
       "    <tr style=\"text-align: right;\">\n",
       "      <th></th>\n",
       "      <th>inwoners</th>\n",
       "      <th>provincie</th>\n",
       "    </tr>\n",
       "  </thead>\n",
       "  <tbody>\n",
       "    <tr>\n",
       "      <th>Delft</th>\n",
       "      <td>104468</td>\n",
       "      <td>Zuid-Holland</td>\n",
       "    </tr>\n",
       "    <tr>\n",
       "      <th>Utrecht</th>\n",
       "      <td>361924</td>\n",
       "      <td>Utrecht</td>\n",
       "    </tr>\n",
       "    <tr>\n",
       "      <th>Westerhoven</th>\n",
       "      <td>2030</td>\n",
       "      <td>Noord-Brabant</td>\n",
       "    </tr>\n",
       "  </tbody>\n",
       "</table>\n",
       "</div>"
      ],
      "text/plain": [
       "             inwoners      provincie\n",
       "Delft          104468   Zuid-Holland\n",
       "Utrecht        361924        Utrecht\n",
       "Westerhoven      2030  Noord-Brabant"
      ]
     },
     "execution_count": 2,
     "metadata": {},
     "output_type": "execute_result"
    }
   ],
   "source": [
    "%%assignment\n",
    "# YOUR CODE HERE\n",
    "row_labels = ['Delft', 'Utrecht', 'Westerhoven']\n",
    "\n",
    "example_dict = {'inwoners': [104468,361924,2030], 'provincie': ['Zuid-Holland','Utrecht','Noord-Brabant']}\n",
    "pd.DataFrame(example_dict,index=row_labels)\n"
   ]
  },
  {
   "cell_type": "code",
   "execution_count": 3,
   "metadata": {},
   "outputs": [
    {
     "data": {
      "text/html": [
       "<table><tr style=\"background: green; color: white\"><td style=\"text-align:left\">Correct!</td></tr></table>"
      ],
      "text/plain": [
       "<IPython.core.display.HTML object>"
      ]
     },
     "metadata": {
      "text/html": {
       "username": "willem"
      }
     },
     "output_type": "display_data"
    }
   ],
   "source": [
    "%%check\n",
    "hashresult == 742727652"
   ]
  }
 ],
 "metadata": {
  "kernelspec": {
   "display_name": "prog",
   "language": "python",
   "name": "prog"
  },
  "language_info": {
   "codemirror_mode": {
    "name": "ipython",
    "version": 3
   },
   "file_extension": ".py",
   "mimetype": "text/x-python",
   "name": "python",
   "nbconvert_exporter": "python",
   "pygments_lexer": "ipython3",
   "version": "3.8.8"
  },
  "orig_nbformat": 4,
  "vscode": {
   "interpreter": {
    "hash": "31f2aee4e71d21fbe5cf8b01ff0e069b9275f58929596ceb00d14d90e3e16cd6"
   }
  }
 },
 "nbformat": 4,
 "nbformat_minor": 2
}
