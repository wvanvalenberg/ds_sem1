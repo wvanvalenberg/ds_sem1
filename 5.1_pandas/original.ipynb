{
 "cells": [
  {
   "cell_type": "markdown",
   "metadata": {},
   "source": [
    "### Pandas\n",
    "Data scientists often work with large data sets that we need to inspect and manipulate. [Pandas](https://pandas.pydata.org/) is a popular package for handling datasets in Python, and will be often used in our data science courses. In this notebook we'll introduce the basics of loading and inspecting a data set with Pandas, which is typically imported with the name `pd`:"
   ]
  },
  {
   "cell_type": "code",
   "execution_count": null,
   "metadata": {},
   "outputs": [],
   "source": [
    "import pandas as pd"
   ]
  },
  {
   "cell_type": "markdown",
   "metadata": {},
   "source": [
    "# File Inspection\n",
    "Data sets are often saved as comma-separated values (CSV) files. You can inspect these with Excel or a simple text editor. Here we use the `read_csv` function from Pandas to load a dataset on the trees in Delft. This data set is made by the city of Delft and is [publicly available](https://data.overheid.nl/dataset/bomen-in-beheer-door-gemeente-delft)."
   ]
  },
  {
   "cell_type": "code",
   "execution_count": null,
   "metadata": {},
   "outputs": [],
   "source": [
    "trees_df = pd.read_csv('Bomen_in_beheer_door_gemeente_Delft.csv')"
   ]
  },
  {
   "cell_type": "markdown",
   "metadata": {},
   "source": [
    "The dataset is loaded to the variable `trees_df` which is part of the DataFrame class. The DataFrame is the most used class of the Pandas package. Requesting `trees_df` gives a short overview of the dataset:"
   ]
  },
  {
   "cell_type": "code",
   "execution_count": null,
   "metadata": {},
   "outputs": [],
   "source": [
    "trees_df"
   ]
  },
  {
   "cell_type": "markdown",
   "metadata": {},
   "source": [
    "This DataFrame has 35384 rows that represent the different objects in the dataset and 28 columns that represent the different properties of each object. The output actually has 29 columns, but the first \"column\" doesn't have a label. This first column contains the index of each object, which in this case is a number, but can also be a string.  \n",
    "\n",
    "Note that the DataFrame holds different variable types:\n",
    "- `float` (X,Y)\n",
    "- `int` (ID,ELEMENTNUMMER)\n",
    "- `string` (BEHEERGROEP,BOOMSORTIMENT)."
   ]
  },
  {
   "cell_type": "markdown",
   "metadata": {},
   "source": [
    "We don't have to inspect the table itself to get its size, the column labels, and the variable types. These are attributes of the DataFrame that can be accessed directly. For instance the size of the table is requested with attribute `shape`:"
   ]
  },
  {
   "cell_type": "code",
   "execution_count": null,
   "metadata": {},
   "outputs": [],
   "source": [
    "trees_df.shape # show the number of rows and columns"
   ]
  },
  {
   "cell_type": "markdown",
   "metadata": {},
   "source": [
    "The column labels can be found with the attribute `columns`. Show the column labels below."
   ]
  },
  {
   "cell_type": "code",
   "execution_count": null,
   "metadata": {},
   "outputs": [],
   "source": [
    "%%assignment\n",
    "# YOUR CODE HERE\n",
    "trees_df.columns"
   ]
  },
  {
   "cell_type": "code",
   "execution_count": null,
   "metadata": {},
   "outputs": [],
   "source": [
    "%%check\n",
    "len(result) == 28\n",
    "'BOOMSORTIMENT','TAKVRIJE_ZONE','GROENGEBIEDCODE' in result"
   ]
  },
  {
   "cell_type": "markdown",
   "metadata": {},
   "source": [
    "Similarly, show the variable types with the attribute `dtypes`."
   ]
  },
  {
   "cell_type": "code",
   "execution_count": null,
   "metadata": {},
   "outputs": [],
   "source": [
    "%%assignment\n",
    "# YOUR CODE HERE\n",
    "trees_df.dtypes"
   ]
  },
  {
   "cell_type": "code",
   "execution_count": null,
   "metadata": {},
   "outputs": [],
   "source": [
    "%%check\n",
    "len(result) == 28\n",
    "result['DIAMETER'].name == 'float64'\n",
    "result['ID'].name == 'int64'\n",
    "result['GROENGEBIEDCODE'].name == 'object'"
   ]
  },
  {
   "cell_type": "markdown",
   "metadata": {},
   "source": [
    "The row labels are requested with the attribute `index`:"
   ]
  },
  {
   "cell_type": "code",
   "execution_count": null,
   "metadata": {},
   "outputs": [],
   "source": [
    "trees_df.index"
   ]
  },
  {
   "cell_type": "markdown",
   "metadata": {},
   "source": [
    "Currently, `index` returns an iterator that numbers each row. However, we can also specify to use one of the columns as row label. This is done by setting the option `index_col` of `read_csv` to the desired column label. \n",
    "In the current file, the column `ID` seems a good candidate as row label. Reload the dataset to the variable `df2` with the values of `ID` as row labels."
   ]
  },
  {
   "cell_type": "code",
   "execution_count": null,
   "metadata": {},
   "outputs": [],
   "source": [
    "%%assignment\n",
    "# YOUR CODE HERE\n",
    "df2 = pd.read_csv('Bomen_in_beheer_door_gemeente_Delft.csv', index_col='ID')\n",
    "df2 # leave this to show the result"
   ]
  },
  {
   "cell_type": "code",
   "execution_count": null,
   "metadata": {},
   "outputs": [],
   "source": [
    "%%check \n",
    "hashresult == 1591492765\n"
   ]
  },
  {
   "cell_type": "markdown",
   "metadata": {},
   "source": [
    "A quick overview of all the above information (column names, number of rows, variable types) can be made using the function `info`. It also provides the number of non-empty cells for each column, en the memory size. "
   ]
  },
  {
   "cell_type": "code",
   "execution_count": null,
   "metadata": {},
   "outputs": [],
   "source": [
    "trees_df.info()"
   ]
  },
  {
   "cell_type": "markdown",
   "metadata": {},
   "source": [
    "The `DIAMETER` column only has 1772 rows with non-null values. The value of the other rows are indicated as `NaN`: Not a Number, which means these cells are empty. Missing values in data sets are common in practice, but we'll see that Pandas is very flexible with this. \n",
    "\n",
    "### Which statement(s) are correct?"
   ]
  },
  {
   "cell_type": "code",
   "execution_count": null,
   "metadata": {},
   "outputs": [],
   "source": [
    "%%mmc file_inspection\n",
    "OBJECTID has missing values\n",
    "AANLEGJAAR has type int\n",
    "Er zijn 28 kolommen"
   ]
  },
  {
   "cell_type": "code",
   "execution_count": null,
   "metadata": {},
   "outputs": [],
   "source": [
    "%%check\n",
    "hashresult == 3818810794"
   ]
  },
  {
   "cell_type": "markdown",
   "metadata": {},
   "source": [
    "## Creating a new DataFrame\n",
    "We've already seen that we can create a DataFrame by loading a CSV file with Pandas. But a DataFrame can also be directly constructed from a dictionary of lists:\n",
    "\n",
    "\n",
    "\n"
   ]
  },
  {
   "cell_type": "code",
   "execution_count": null,
   "metadata": {},
   "outputs": [],
   "source": [
    "example_dict = {'A': [10, 20, 30], 'B': ['aap','paard','dromedaris']}\n",
    "row_labels = [f'row_{k}' for k in range(3)] \n",
    "\n",
    "example_df = pd.DataFrame(example_dict,index=row_labels)\n",
    "print(example_df)"
   ]
  },
  {
   "cell_type": "markdown",
   "metadata": {},
   "source": [
    "**exercise** Create the following table as DataFrame:\n",
    "\n",
    "|       | inwoners | provincie    | \n",
    "|-------|----------|--------------|\n",
    "| Delft | 104468   | Zuid-Holland | \n",
    "| Utrecht | 361924 | Utrecht |\n",
    "| Westerhoven | 2030 | Noord-Brabant|\n"
   ]
  },
  {
   "cell_type": "code",
   "execution_count": null,
   "metadata": {},
   "outputs": [],
   "source": [
    "%%assignment\n",
    "# YOUR CODE HERE\n",
    "row_labels = ['Delft', 'Utrecht', 'Westerhoven']\n",
    "\n",
    "example_dict = {'inwoners': [104468,361924,2030], 'provincie': ['Zuid-Holland','Utrecht','Noord-Brabant']}\n",
    "pd.DataFrame(example_dict,index=row_labels)\n"
   ]
  },
  {
   "cell_type": "code",
   "execution_count": null,
   "metadata": {},
   "outputs": [],
   "source": [
    "%%check\n",
    "hashresult == 742727652"
   ]
  },
  {
   "cell_type": "markdown",
   "metadata": {},
   "source": [
    "## Selection\n",
    "We often want to select specific columns or rows from the DataFrame for processing. The selection can be done based on column or row label, or based on a positional index (number). \n",
    "\n",
    "Let's make an example DataFrame to experiment with:"
   ]
  },
  {
   "cell_type": "code",
   "execution_count": null,
   "metadata": {},
   "outputs": [],
   "source": [
    "example_df = pd.DataFrame({\"A\":[1.1,2.1,3.1],\"B\":[12,22,32]},\n",
    "                    index=['obj1','obj2','obj3']) #example DataFrame\n",
    "print(example_df)"
   ]
  },
  {
   "cell_type": "code",
   "execution_count": null,
   "metadata": {},
   "outputs": [],
   "source": [
    "example_dict={\"A\":[1.1,2.1,3.1],\"B\":[12,22,32]}"
   ]
  },
  {
   "cell_type": "markdown",
   "metadata": {},
   "source": [
    "The columns of `example_df` can be accessed like dictionary fields: "
   ]
  },
  {
   "cell_type": "code",
   "execution_count": null,
   "metadata": {},
   "outputs": [],
   "source": [
    "example_df[\"A\"]"
   ]
  },
  {
   "cell_type": "markdown",
   "metadata": {},
   "source": [
    "Note that the row labels are maintained when selecting a column, and the output can be considered a one-dimensional DataFrame. (However, the actual Pandas class of the output is a `Series`.) \n",
    "\n",
    "You can also select multiple columns at once:"
   ]
  },
  {
   "cell_type": "code",
   "execution_count": null,
   "metadata": {},
   "outputs": [],
   "source": [
    "example_df[[\"B\",\"A\"]]"
   ]
  },
  {
   "cell_type": "markdown",
   "metadata": {},
   "source": [
    "The rows can be selected by slicing, as we've done with lists: "
   ]
  },
  {
   "cell_type": "code",
   "execution_count": null,
   "metadata": {},
   "outputs": [],
   "source": [
    "print(example_df[0:2]) # selects rows 0 and 1"
   ]
  },
  {
   "cell_type": "markdown",
   "metadata": {},
   "source": [
    "Note that this selection is based on position and thus the row labels are ignored. \n",
    "There is a difference with list-style indexing: using an integer to select a single column is **not** allowed."
   ]
  },
  {
   "cell_type": "code",
   "execution_count": null,
   "metadata": {},
   "outputs": [],
   "source": [
    "example_df[2] # not allowed, use: example_df[2:3]"
   ]
  },
  {
   "cell_type": "markdown",
   "metadata": {},
   "source": [
    "Pandas recommends using the `loc` property of the DataFrame for label-based selection, and the `iloc` properties for position-based selection. \n",
    "For these properties you can specify both the desired row(s) and desired column(s):"
   ]
  },
  {
   "cell_type": "code",
   "execution_count": null,
   "metadata": {},
   "outputs": [],
   "source": [
    "example_df.loc['obj3']"
   ]
  },
  {
   "cell_type": "markdown",
   "metadata": {},
   "source": [
    "This does require that the row labels are strings. \n",
    "\n",
    "You can also slice with labels. However, note that in contrast to slicing with positions, the final element is included in the result:"
   ]
  },
  {
   "cell_type": "code",
   "execution_count": null,
   "metadata": {},
   "outputs": [],
   "source": [
    "example_df.loc[:'obj2'] # slice until obj2"
   ]
  },
  {
   "cell_type": "markdown",
   "metadata": {},
   "source": [
    "With `loc` you can also select rows and columns at the same time:"
   ]
  },
  {
   "cell_type": "code",
   "execution_count": null,
   "metadata": {},
   "outputs": [],
   "source": [
    "example_df.loc[:'obj2', 'B'] # slice until obj2, take column B"
   ]
  },
  {
   "cell_type": "markdown",
   "metadata": {},
   "source": [
    "Property `iloc` works the same as `loc`, except it takes positional integers instead of string labels."
   ]
  },
  {
   "cell_type": "code",
   "execution_count": null,
   "metadata": {},
   "outputs": [],
   "source": [
    "example_df.iloc[2] # take third row"
   ]
  },
  {
   "cell_type": "code",
   "execution_count": null,
   "metadata": {},
   "outputs": [],
   "source": [
    "example_df.iloc[:2] # take first two rows"
   ]
  },
  {
   "cell_type": "code",
   "execution_count": null,
   "metadata": {},
   "outputs": [],
   "source": [
    "example_df.iloc[:2,1] # take first two rows and second column"
   ]
  },
  {
   "cell_type": "markdown",
   "metadata": {},
   "source": [
    "You can also select rows and columns by combining selections:"
   ]
  },
  {
   "cell_type": "code",
   "execution_count": null,
   "metadata": {},
   "outputs": [],
   "source": [
    "example_df[\"A\"][1:3] # select column A, rows 2 and 3"
   ]
  },
  {
   "cell_type": "code",
   "execution_count": null,
   "metadata": {},
   "outputs": [],
   "source": [
    "example_df.iloc[0][\"B\"] # select row 1, column B"
   ]
  },
  {
   "cell_type": "code",
   "execution_count": null,
   "metadata": {},
   "outputs": [],
   "source": [
    "example_df.loc[\"obj2\":].iloc[:,0]# select every row from obj2, and first column"
   ]
  },
  {
   "cell_type": "markdown",
   "metadata": {},
   "source": [
    "We've now seen many ways of indexing. Let's rehearse:"
   ]
  },
  {
   "cell_type": "code",
   "execution_count": null,
   "metadata": {},
   "outputs": [],
   "source": [
    "print(example_df)"
   ]
  },
  {
   "cell_type": "markdown",
   "metadata": {},
   "source": [
    "##### Which code **does not** return column B?"
   ]
  },
  {
   "cell_type": "code",
   "execution_count": null,
   "metadata": {},
   "outputs": [],
   "source": [
    "%%mc\n",
    "example_df[\"B\"]\n",
    "example_df.iloc[:,1]\n",
    "example_df.loc[\"B\"]\n",
    "example_df.loc[:,\"B\"]"
   ]
  },
  {
   "cell_type": "code",
   "execution_count": null,
   "metadata": {},
   "outputs": [],
   "source": [
    "%%check \n",
    "hashresult == 3487754587"
   ]
  },
  {
   "cell_type": "markdown",
   "metadata": {},
   "source": [
    "##### Which **does not** return the first row?"
   ]
  },
  {
   "cell_type": "code",
   "execution_count": null,
   "metadata": {},
   "outputs": [],
   "source": [
    "%%mc\n",
    "example_df[0]\n",
    "example_df[:1]\n",
    "example_df.iloc[:1]\n",
    "example_df.loc[\"obj1\"]"
   ]
  },
  {
   "cell_type": "code",
   "execution_count": null,
   "metadata": {},
   "outputs": [],
   "source": [
    "%%check \n",
    "hashresult == 783618061"
   ]
  },
  {
   "cell_type": "markdown",
   "metadata": {},
   "source": [
    "##### Which command(s) return the value `3.1`?"
   ]
  },
  {
   "cell_type": "code",
   "execution_count": null,
   "metadata": {},
   "outputs": [],
   "source": [
    "%%mmc\n",
    "example_df[2:3][\"A\"]\n",
    "example_df[\"A\"][2:3]\n",
    "example_df.iloc[2,0]\n",
    "example_df.loc[\"obj3\",'A']"
   ]
  },
  {
   "cell_type": "code",
   "execution_count": null,
   "metadata": {},
   "outputs": [],
   "source": [
    "%%check \n",
    "hashresult == 121948600"
   ]
  },
  {
   "cell_type": "markdown",
   "metadata": {},
   "source": [
    "##### How many cells are returned by `example_df[\"B\"][:2]`?"
   ]
  },
  {
   "cell_type": "code",
   "execution_count": null,
   "metadata": {},
   "outputs": [],
   "source": [
    "%%slider \n",
    "1 6"
   ]
  },
  {
   "cell_type": "code",
   "execution_count": null,
   "metadata": {},
   "outputs": [],
   "source": [
    "%%check \n",
    "hashresult==3306475475"
   ]
  },
  {
   "cell_type": "markdown",
   "metadata": {},
   "source": [
    "## Boolean indexing"
   ]
  },
  {
   "cell_type": "markdown",
   "metadata": {},
   "source": [
    "This final method for indexing that we'll discuss will be especially useful for data processing. \n",
    "Boolean indexing selects rows by applying a \"mask\" to the DataFrame. The mask consists of `True` or `False` values and should match the length of the DataFrame it's applied to. Applying the mask only selects the rows that have a `True` value in the mask. \n",
    "\n",
    "This is useful for selecting only the rows that match a certain condition:"
   ]
  },
  {
   "cell_type": "code",
   "execution_count": null,
   "metadata": {},
   "outputs": [],
   "source": [
    "mask = example_df['A'] > 2  # determine with rows have a larger value than 2 in column A\n",
    "print(mask)"
   ]
  },
  {
   "cell_type": "code",
   "execution_count": null,
   "metadata": {},
   "outputs": [],
   "source": [
    "example_df[mask] # select the rows that have True in the mask"
   ]
  },
  {
   "cell_type": "markdown",
   "metadata": {},
   "source": [
    "You can of course combine conditions as you learned in the first week with Boolean operators:"
   ]
  },
  {
   "cell_type": "code",
   "execution_count": null,
   "metadata": {},
   "outputs": [],
   "source": [
    "mask = (example_df['A'] > 2) & (example_df['B'] < 30)\n",
    "print(mask)"
   ]
  },
  {
   "cell_type": "code",
   "execution_count": null,
   "metadata": {},
   "outputs": [],
   "source": [
    "print(example_df[mask])"
   ]
  },
  {
   "cell_type": "markdown",
   "metadata": {},
   "source": [
    "By using the negate symbol `~`, you can flip `True` and `False` values:"
   ]
  },
  {
   "cell_type": "code",
   "execution_count": null,
   "metadata": {},
   "outputs": [],
   "source": [
    "print(~mask)"
   ]
  },
  {
   "cell_type": "code",
   "execution_count": null,
   "metadata": {},
   "outputs": [],
   "source": [
    "print(example_df[~mask])"
   ]
  },
  {
   "cell_type": "markdown",
   "metadata": {},
   "source": [
    "Let's rehearse the Boolean indexing again:\n",
    "\n",
    "#### Which of the below statements selects both the first and the third row?"
   ]
  },
  {
   "cell_type": "code",
   "execution_count": null,
   "metadata": {},
   "outputs": [],
   "source": [
    "%%mc\n",
    "mask = example_df['A'] >= 3.1\n",
    "mask = example_df['B'] < 20\n",
    "mask = (example_df['A'] >= 3.1) & (example_df['B'] < 20)\n",
    "mask = (example_df['A'] >= 3.1) | (example_df['B'] < 20)"
   ]
  },
  {
   "cell_type": "code",
   "execution_count": null,
   "metadata": {},
   "outputs": [],
   "source": [
    "%%check \n",
    "hashresult == 292691022 "
   ]
  },
  {
   "cell_type": "markdown",
   "metadata": {},
   "source": [
    "#### Create a mask that determines the rows where B > 20 and assign it to `mask`. Then use it to select these rows."
   ]
  },
  {
   "cell_type": "code",
   "execution_count": null,
   "metadata": {},
   "outputs": [],
   "source": [
    "%%assignment\n",
    "# YOUR CODE HERE\n",
    "mask = example_df['B'] > 20\n",
    "example_df[mask]\n"
   ]
  },
  {
   "cell_type": "code",
   "execution_count": null,
   "metadata": {},
   "outputs": [],
   "source": [
    "%%check\n",
    "hashresult == 3593389503\n",
    "mask.dtype == 'bool'\n",
    "3.1 in example_df[mask].values "
   ]
  },
  {
   "cell_type": "markdown",
   "metadata": {},
   "source": [
    "### Combining DataFrames \n",
    "In the previous section, we looked at how to select parts of a DataFrame. Now we'll look at the opposite: adding columns or rows to the DataFrame. Let's first define to example DataFrames to work with:"
   ]
  },
  {
   "cell_type": "code",
   "execution_count": null,
   "metadata": {},
   "outputs": [],
   "source": [
    "example_df = pd.DataFrame({\"A\":[1.1,2.1,3.1],\"B\":[12,22,32]},\n",
    "                    index=['obj1','obj2','obj3']) #example DataFrame\n",
    "print(example_df)\n",
    "\n",
    "example_df2 = pd.DataFrame({\"B\":[-1.1,-2.1,-3.1],\"C\":[-12,-22,-32]},\n",
    "                    index=['obj2','obj3','obj4']) #example DataFrame\n",
    "print(example_df2)"
   ]
  },
  {
   "cell_type": "markdown",
   "metadata": {},
   "source": [
    "An extra column can be simply added set by specifying a new column label:"
   ]
  },
  {
   "cell_type": "code",
   "execution_count": null,
   "metadata": {},
   "outputs": [],
   "source": [
    "example_df[\"C\"] =example_df[\"B\"]**2\n",
    "example_df"
   ]
  },
  {
   "cell_type": "markdown",
   "metadata": {},
   "source": [
    "And we can remove the column again by selecting only the original columns:"
   ]
  },
  {
   "cell_type": "code",
   "execution_count": null,
   "metadata": {},
   "outputs": [],
   "source": [
    "example_df = example_df[[\"A\",\"B\"]]\n",
    "example_df"
   ]
  },
  {
   "cell_type": "markdown",
   "metadata": {},
   "source": [
    "If we want to combine to larger DataFrames, we can use the Pandas function `concat`:"
   ]
  },
  {
   "cell_type": "code",
   "execution_count": null,
   "metadata": {},
   "outputs": [],
   "source": [
    "pd.concat([example_df,example_df2]) "
   ]
  },
  {
   "cell_type": "markdown",
   "metadata": {},
   "source": [
    "The second DataFrame is added as extra rows to the first. Since `example_df` doesn't have a column `C`, the resulting cells are shown as missing values. The same goes for `example_df2` and column `A`. Note that a list of DataFrames is given to `concat`, and this list can have an arbitrary length:"
   ]
  },
  {
   "cell_type": "code",
   "execution_count": null,
   "metadata": {},
   "outputs": [],
   "source": [
    "pd.concat([example_df,example_df2,2*example_df,3*example_df2]) "
   ]
  },
  {
   "cell_type": "markdown",
   "metadata": {},
   "source": [
    "We can also add the DataFrame as extra columns by setting `axis=1`:"
   ]
  },
  {
   "cell_type": "code",
   "execution_count": null,
   "metadata": {},
   "outputs": [],
   "source": [
    "pd.concat([example_df,example_df2],axis=1) "
   ]
  },
  {
   "cell_type": "markdown",
   "metadata": {},
   "source": [
    "There are again missing values since `example_df` doesn't have an `obj4` row, and `example_df2` doesn't have an `obj1` row. \n",
    "\n",
    "Let's rehearse again: \n",
    "\n",
    "#### Which of the following statement(s) will give an error?"
   ]
  },
  {
   "cell_type": "code",
   "execution_count": null,
   "metadata": {},
   "outputs": [],
   "source": [
    "%%mmc\n",
    "example_df[\"A\"] == example_df[\"B\"]\n",
    "pd.concat(example_df[\"A\"],example_df[\"B\"],axis=0)\n",
    "pd.concat([example_df[\"A\"],example_df[\"B\"]],axis=1)\n",
    "example_df[[\"A\",\"B\"]] = example_df[[\"B\",\"A\"]] "
   ]
  },
  {
   "cell_type": "code",
   "execution_count": null,
   "metadata": {},
   "outputs": [],
   "source": [
    "%%check\n",
    "hashresult == 658645187"
   ]
  },
  {
   "cell_type": "markdown",
   "metadata": {},
   "source": [
    "#### Add a column `C` to `example_df` that contains the sum of columns `A` and `B`:"
   ]
  },
  {
   "cell_type": "code",
   "execution_count": null,
   "metadata": {},
   "outputs": [],
   "source": [
    "%%assignment\n",
    "# YOUR CODE HERE\n",
    "example_df[\"C\"] = example_df[\"A\"]+example_df[\"B\"]\n",
    "\n",
    "example_df # leave this as final line to show the result"
   ]
  },
  {
   "cell_type": "code",
   "execution_count": null,
   "metadata": {},
   "outputs": [],
   "source": [
    "%%check\n",
    "hashresult == 847242578"
   ]
  },
  {
   "cell_type": "markdown",
   "metadata": {},
   "source": [
    "#### Now concatenate `example_df` and `example_df2` in the row direction"
   ]
  },
  {
   "cell_type": "code",
   "execution_count": null,
   "metadata": {},
   "outputs": [],
   "source": [
    "%%assignment\n",
    "# YOUR CODE HERE\n",
    "pd.concat([example_df,example_df2])"
   ]
  },
  {
   "cell_type": "code",
   "execution_count": null,
   "metadata": {},
   "outputs": [],
   "source": [
    "%%check\n",
    "hashresult == 4236979653"
   ]
  },
  {
   "cell_type": "markdown",
   "metadata": {},
   "source": [
    "## File Inspection 2: statistics\n",
    "Pandas has functions to statistically describe columns of the DataFrame, such as `mean`, `median`, `max`, and `min`:\n",
    "\n"
   ]
  },
  {
   "cell_type": "code",
   "execution_count": null,
   "metadata": {},
   "outputs": [],
   "source": [
    "trees_df"
   ]
  },
  {
   "cell_type": "code",
   "execution_count": null,
   "metadata": {},
   "outputs": [],
   "source": [
    "trees_df.AANLEGJAAR.mean() "
   ]
  },
  {
   "cell_type": "markdown",
   "metadata": {},
   "source": [
    "When calculating the mean, the missing cells with value `NaN` are ignored. \n",
    "\n",
    "#### Find out when the oldest tree (that we know of) was planted."
   ]
  },
  {
   "cell_type": "code",
   "execution_count": null,
   "metadata": {},
   "outputs": [],
   "source": [
    "trees_df.AANLEGJAAR.min() "
   ]
  },
  {
   "cell_type": "code",
   "execution_count": null,
   "metadata": {},
   "outputs": [],
   "source": [
    "%%slider\n",
    "1000 2000\n"
   ]
  },
  {
   "cell_type": "code",
   "execution_count": null,
   "metadata": {},
   "outputs": [],
   "source": [
    "%%check\n",
    "hashresult == 380589968"
   ]
  },
  {
   "cell_type": "markdown",
   "metadata": {},
   "source": [
    "The function `value_counts` shows the distribution of values in a column. Here is the distribution of tree types in Delft:"
   ]
  },
  {
   "cell_type": "code",
   "execution_count": null,
   "metadata": {},
   "outputs": [],
   "source": [
    "trees_df.BOOMSORTIMENT.value_counts()"
   ]
  },
  {
   "cell_type": "markdown",
   "metadata": {},
   "source": [
    "#### Which neighborhood of Delft has the most trees?"
   ]
  },
  {
   "cell_type": "code",
   "execution_count": null,
   "metadata": {},
   "outputs": [],
   "source": [
    "%%mc\n",
    "Bosrand\n",
    "Bomenwijk\n",
    "Centrum\n",
    "Ecodus\n",
    "De Grote Plas\n"
   ]
  },
  {
   "cell_type": "code",
   "execution_count": null,
   "metadata": {},
   "outputs": [],
   "source": [
    "%%check \n",
    "hashresult == 1351416497"
   ]
  },
  {
   "cell_type": "markdown",
   "metadata": {},
   "source": [
    "## Data cleaning"
   ]
  },
  {
   "cell_type": "code",
   "execution_count": null,
   "metadata": {},
   "outputs": [],
   "source": [
    "trees_df.dropna()"
   ]
  },
  {
   "cell_type": "code",
   "execution_count": null,
   "metadata": {},
   "outputs": [],
   "source": [
    "trees_df.dropna(subset='AANLEGJAAR')"
   ]
  },
  {
   "cell_type": "code",
   "execution_count": null,
   "metadata": {},
   "outputs": [],
   "source": [
    "trees_df.info()"
   ]
  },
  {
   "cell_type": "code",
   "execution_count": null,
   "metadata": {},
   "outputs": [],
   "source": [
    "trees_df[trees_df.EIGENAAR.isna()]"
   ]
  },
  {
   "cell_type": "code",
   "execution_count": null,
   "metadata": {},
   "outputs": [],
   "source": [
    "trees_df.fillna({'EIGENAAR':\"YOUR NAME HERE\"})"
   ]
  },
  {
   "cell_type": "code",
   "execution_count": null,
   "metadata": {},
   "outputs": [],
   "source": [
    "trees_df.EIGENAAR.value_counts()"
   ]
  },
  {
   "cell_type": "code",
   "execution_count": null,
   "metadata": {},
   "outputs": [],
   "source": [
    "height_distribution = trees_df.HOOGTE.value_counts()[['<6 m.','6-9 m.','9-12 m.','12-15 m.','15-18 m.','18-24 m.', '> 24 m.']]"
   ]
  },
  {
   "cell_type": "code",
   "execution_count": null,
   "metadata": {},
   "outputs": [],
   "source": [
    "import matplotlib.pyplot as plt\n",
    "\n",
    "height_distribution.plot(kind='bar')\n",
    "plt.show()\n"
   ]
  },
  {
   "cell_type": "markdown",
   "metadata": {},
   "source": [
    "Assignment"
   ]
  },
  {
   "cell_type": "markdown",
   "metadata": {},
   "source": [
    "waar staan oudste bomen?\n",
    "plaatje van de verdeling van boomsoorten (verwijder '' delen)"
   ]
  },
  {
   "cell_type": "code",
   "execution_count": null,
   "metadata": {},
   "outputs": [],
   "source": [
    "trees_df.HOOGTE"
   ]
  }
 ],
 "metadata": {
  "kernelspec": {
   "display_name": "Python 3.6.9 64-bit",
   "language": "python",
   "name": "python3"
  },
  "language_info": {
   "codemirror_mode": {
    "name": "ipython",
    "version": 3
   },
   "file_extension": ".py",
   "mimetype": "text/x-python",
   "name": "python",
   "nbconvert_exporter": "python",
   "pygments_lexer": "ipython3",
   "version": "3.6.9"
  },
  "orig_nbformat": 4,
  "vscode": {
   "interpreter": {
    "hash": "31f2aee4e71d21fbe5cf8b01ff0e069b9275f58929596ceb00d14d90e3e16cd6"
   }
  }
 },
 "nbformat": 4,
 "nbformat_minor": 2
}
