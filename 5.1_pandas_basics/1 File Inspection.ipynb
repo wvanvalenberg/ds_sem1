{
 "cells": [
  {
   "cell_type": "code",
   "execution_count": 1,
   "metadata": {},
   "outputs": [],
   "source": [
    "import pandas as pd"
   ]
  },
  {
   "cell_type": "code",
   "execution_count": 9,
   "metadata": {},
   "outputs": [
    {
     "name": "stdout",
     "output_type": "stream",
     "text": [
      "<class 'pandas.core.frame.DataFrame'>\n",
      "RangeIndex: 35383 entries, 0 to 35382\n",
      "Data columns (total 28 columns):\n",
      " #   Column                    Non-Null Count  Dtype  \n",
      "---  ------                    --------------  -----  \n",
      " 0   X                         35383 non-null  float64\n",
      " 1   Y                         35383 non-null  float64\n",
      " 2   ID                        35383 non-null  int64  \n",
      " 3   BORNAME                   35383 non-null  object \n",
      " 4   ELEMENTNUMMER             35383 non-null  int64  \n",
      " 5   BEHEERGROEP               35383 non-null  object \n",
      " 6   AANLEGJAAR                27292 non-null  float64\n",
      " 7   BOOMSORTIMENT             35383 non-null  object \n",
      " 8   BOOMSTATUS                1106 non-null   object \n",
      " 9   TAKVRIJE_ZONE             34041 non-null  object \n",
      " 10  OMGEVINGSRISICOKLASSEN    35383 non-null  object \n",
      " 11  AMBITIENIVEAU             35383 non-null  object \n",
      " 12  HOOGTE                    33592 non-null  object \n",
      " 13  DIAMETER                  1772 non-null   float64\n",
      " 14  STANDPLAATS               34728 non-null  object \n",
      " 15  BEHEERDER                 35383 non-null  object \n",
      " 16  EIGENAAR                  35375 non-null  object \n",
      " 17  EXTRA_INFORMATIE_2        31894 non-null  object \n",
      " 18  EXTRA_INFORMATIE_3        34271 non-null  object \n",
      " 19  GROENGEBIEDCODE           35383 non-null  object \n",
      " 20  GROENGEBIEDNAAM           35383 non-null  object \n",
      " 21  GEMEENTE                  35383 non-null  object \n",
      " 22  BUURT                     33256 non-null  object \n",
      " 23  WIJK                      35383 non-null  object \n",
      " 24  LIGGING                   35383 non-null  object \n",
      " 25  BEHEEROBJECTSOORT         35383 non-null  object \n",
      " 26  BEHEEROBJECTOMSCHRIJVING  35383 non-null  object \n",
      " 27  OBJECTID                  35383 non-null  int64  \n",
      "dtypes: float64(4), int64(3), object(21)\n",
      "memory usage: 7.6+ MB\n"
     ]
    }
   ],
   "source": [
    "#bron: https://data.overheid.nl/dataset/bomen-in-beheer-door-gemeente-delft\n",
    "df = pd.read_csv('Bomen_in_beheer_door_gemeente_Delft.csv')\n",
    "df.info()\n"
   ]
  }
 ],
 "metadata": {
  "kernelspec": {
   "display_name": "prog",
   "language": "python",
   "name": "prog"
  },
  "language_info": {
   "codemirror_mode": {
    "name": "ipython",
    "version": 3
   },
   "file_extension": ".py",
   "mimetype": "text/x-python",
   "name": "python",
   "nbconvert_exporter": "python",
   "pygments_lexer": "ipython3",
   "version": "3.8.8"
  },
  "orig_nbformat": 4,
  "vscode": {
   "interpreter": {
    "hash": "31f2aee4e71d21fbe5cf8b01ff0e069b9275f58929596ceb00d14d90e3e16cd6"
   }
  }
 },
 "nbformat": 4,
 "nbformat_minor": 2
}
