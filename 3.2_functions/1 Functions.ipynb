{
 "cells": [
  {
   "cell_type": "markdown",
   "metadata": {},
   "source": [
    "# Functions\n",
    "\n",
    "When we want to find the smallest element in a List, we can write a few lines of code. However, when ths is an operation we may want to use more frequently, it is better store those lines as a 'Function'. This allows us to reuse those lines of code by just calling the function. In fact, that is what happens when we use the `min()` function, we are reusing a block of code that has already been made.\n",
    "\n",
    "You can write your own functions. The syntax is:\n",
    "```\n",
    "def function_name(parameters):\n",
    "    code block\n",
    "```\n",
    "\n",
    "Where function_name is any name, consisting of alphanumeric characters or `_`.\n",
    "\n",
    "# Return value\n",
    "\n",
    "If the code block contains a `return` statement, a value is returned. If the function is used in any expression, the returned value is put in its place. The execution of a code block changes immediately when a return is encountered."
   ]
  },
  {
   "cell_type": "code",
   "execution_count": null,
   "metadata": {},
   "outputs": [],
   "source": [
    "def bank_account():\n",
    "    return 421234542        "
   ]
  },
  {
   "cell_type": "code",
   "execution_count": null,
   "metadata": {},
   "outputs": [],
   "source": [
    "bank_account()"
   ]
  },
  {
   "cell_type": "markdown",
   "metadata": {},
   "source": [
    "There are several advantages to using functions:\n",
    "- If you have to do the same operation multiple times, you will not have to repeat the same code block\n",
    "- you are less likely to make mistakes\n",
    "- When you assign a meaningful name, it makes your code more readable\n",
    "- When a situation changes (e.g. the way you compute taxes or in this case the bank account number), you will only have to change the code in one place\n",
    "- You can write the best possible function (fastest, safest, flexible, robust, ...) and reuse that every time"
   ]
  },
  {
   "cell_type": "markdown",
   "metadata": {},
   "source": [
    "# Assignments"
   ]
  },
  {
   "cell_type": "markdown",
   "metadata": {},
   "source": [
    "#### what is the result of the expression `bank_account() + 1`"
   ]
  },
  {
   "cell_type": "code",
   "execution_count": null,
   "metadata": {
    "deletable": false,
    "editable": false,
    "nbgrader": {
     "cell_type": "code",
     "checksum": "04e611277bba4d89fe20dc551bb4f24d",
     "grade": false,
     "grade_id": "cell-9f33bcc74068c4c3",
     "locked": true,
     "schema_version": 3,
     "solution": false,
     "task": false
    }
   },
   "outputs": [],
   "source": [
    "%%mc function1\n",
    "421234541\n",
    "421234542\n",
    "421234543"
   ]
  },
  {
   "cell_type": "code",
   "execution_count": null,
   "metadata": {
    "deletable": false,
    "editable": false,
    "nbgrader": {
     "cell_type": "code",
     "checksum": "f690ef64d0eba24de6652050f0c31555",
     "grade": true,
     "grade_id": "cell-7e2e5fde4b88c219",
     "locked": true,
     "points": 1,
     "schema_version": 3,
     "solution": false,
     "task": false
    }
   },
   "outputs": [],
   "source": [
    "%%check\n",
    "result == 7013789702676594"
   ]
  },
  {
   "cell_type": "markdown",
   "metadata": {},
   "source": [
    "#### what is the result of the expression `bank_account() % 100`"
   ]
  },
  {
   "cell_type": "code",
   "execution_count": null,
   "metadata": {
    "deletable": false,
    "editable": false,
    "nbgrader": {
     "cell_type": "code",
     "checksum": "12f6c637f3fc8a1083f81e4c9120b7d6",
     "grade": false,
     "grade_id": "cell-ec00f41754749544",
     "locked": true,
     "schema_version": 3,
     "solution": false,
     "task": false
    }
   },
   "outputs": [],
   "source": [
    "%%mc function2\n",
    "41\n",
    "42\n",
    "43"
   ]
  },
  {
   "cell_type": "code",
   "execution_count": null,
   "metadata": {
    "deletable": false,
    "editable": false,
    "nbgrader": {
     "cell_type": "code",
     "checksum": "bb518b5eb904945c6c3a0624c2f02357",
     "grade": true,
     "grade_id": "cell-865f5b7e865bc8b9",
     "locked": true,
     "points": 1,
     "schema_version": 3,
     "solution": false,
     "task": false
    }
   },
   "outputs": [],
   "source": [
    "%%check\n",
    "result == 4222253501995174"
   ]
  },
  {
   "cell_type": "markdown",
   "metadata": {},
   "source": [
    "#### Write a function `pi` that returns 3.14"
   ]
  },
  {
   "cell_type": "code",
   "execution_count": null,
   "metadata": {
    "deletable": false,
    "nbgrader": {
     "cell_type": "code",
     "checksum": "512a6ee29d5cdd382e1b1dbba5b3012e",
     "grade": false,
     "grade_id": "cell-f4c4ca4572da14dd",
     "locked": false,
     "schema_version": 3,
     "solution": true,
     "task": false
    }
   },
   "outputs": [],
   "source": [
    "%%assignment\n",
    "# YOUR CODE HERE"
   ]
  },
  {
   "cell_type": "code",
   "execution_count": null,
   "metadata": {
    "deletable": false,
    "editable": false,
    "nbgrader": {
     "cell_type": "code",
     "checksum": "33ec4147f5d716160e8e43045317a98f",
     "grade": true,
     "grade_id": "cell-45618e765bd0cdd3",
     "locked": true,
     "points": 1,
     "schema_version": 3,
     "solution": false,
     "task": false
    }
   },
   "outputs": [],
   "source": [
    "%%check\n",
    "signature pi\n",
    "mandatory def ( ) : return\n",
    "pi() == 3.14"
   ]
  },
  {
   "cell_type": "markdown",
   "metadata": {},
   "source": [
    "#### Write an expression that gives you $2\\pi$ using the function you just wrote."
   ]
  },
  {
   "cell_type": "code",
   "execution_count": null,
   "metadata": {
    "deletable": false,
    "nbgrader": {
     "cell_type": "code",
     "checksum": "eda4445d2c5d12eab7d4068a67050f94",
     "grade": false,
     "grade_id": "cell-3ee63f7b4ec13050",
     "locked": false,
     "schema_version": 3,
     "solution": true,
     "task": false
    }
   },
   "outputs": [],
   "source": [
    "%%assignment\n",
    "# YOUR CODE HERE"
   ]
  },
  {
   "cell_type": "code",
   "execution_count": null,
   "metadata": {
    "deletable": false,
    "editable": false,
    "nbgrader": {
     "cell_type": "code",
     "checksum": "40bc96e85efc8c017caa2c3f53144401",
     "grade": true,
     "grade_id": "cell-d38440792c6a8ce7",
     "locked": true,
     "points": 1,
     "schema_version": 3,
     "solution": false,
     "task": false
    }
   },
   "outputs": [],
   "source": [
    "%%check\n",
    "mandatory pi\n",
    "forbidden 3.14\n",
    "result == 6.28"
   ]
  },
  {
   "cell_type": "code",
   "execution_count": null,
   "metadata": {},
   "outputs": [],
   "source": []
  }
 ],
 "metadata": {
  "kernelspec": {
   "display_name": "nbgrader",
   "language": "python",
   "name": "nbgrader"
  },
  "language_info": {
   "codemirror_mode": {
    "name": "ipython",
    "version": 3
   },
   "file_extension": ".py",
   "mimetype": "text/x-python",
   "name": "python",
   "nbconvert_exporter": "python",
   "pygments_lexer": "ipython3",
   "version": "3.6.10"
  }
 },
 "nbformat": 4,
 "nbformat_minor": 4
}
