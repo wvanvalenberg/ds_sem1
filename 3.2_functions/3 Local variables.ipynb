{
 "cells": [
  {
   "cell_type": "markdown",
   "metadata": {},
   "source": [
    "# Local variables\n",
    "\n",
    "When you use the same variable name inside and outside a function, these are different variables. In other words, you cannot accidentally change the value of a variable outside the function. If you want to change a value outside a function, you should `return` a new value and assign that to the variable in the line you call the function."
   ]
  },
  {
   "cell_type": "code",
   "execution_count": null,
   "metadata": {},
   "outputs": [],
   "source": [
    "a = 2\n",
    "def my_function():\n",
    "    a = 3\n",
    "    print(f'inside the function a={a}')\n",
    "    return a"
   ]
  },
  {
   "cell_type": "markdown",
   "metadata": {},
   "source": [
    "Now, `a` is of course still 2, because we have not even called the function yet, so the line `a=3` was not executed."
   ]
  },
  {
   "cell_type": "code",
   "execution_count": null,
   "metadata": {},
   "outputs": [],
   "source": [
    "print(f'outside the function a={a}')\n"
   ]
  },
  {
   "cell_type": "markdown",
   "metadata": {},
   "source": [
    "In the next lines, the function is called and therefore the line `a = 3` is executed. Therefore, inside the function, there is a variable `a` that is set to `3`. Since the function, returns the value of the `a`, we also see `3` printed as the output. However, the variable `a` outside the function is still `2`. It is a different variable!!!"
   ]
  },
  {
   "cell_type": "code",
   "execution_count": null,
   "metadata": {},
   "outputs": [],
   "source": [
    "my_function()"
   ]
  },
  {
   "cell_type": "code",
   "execution_count": null,
   "metadata": {},
   "outputs": [],
   "source": [
    "print(f'outside the function a={a}')"
   ]
  },
  {
   "cell_type": "markdown",
   "metadata": {},
   "source": [
    "When we call the function and assign the return value to `a` ouside the function, the variable `a` outside the function is changed. Note that the variable names inside and outside the function do not have to be the same for this."
   ]
  },
  {
   "cell_type": "code",
   "execution_count": null,
   "metadata": {},
   "outputs": [],
   "source": [
    "a = my_function()"
   ]
  },
  {
   "cell_type": "code",
   "execution_count": null,
   "metadata": {},
   "outputs": [],
   "source": [
    "print(f'outside the function a={a}')"
   ]
  },
  {
   "cell_type": "markdown",
   "metadata": {},
   "source": [
    "# Assignments"
   ]
  },
  {
   "cell_type": "markdown",
   "metadata": {},
   "source": [
    "The following assignments are important! Make sure you understand why the correct answer is correct and otherwise ask someone to explain it to you.\n",
    "\n",
    "What is the value printed by the following codes?"
   ]
  },
  {
   "cell_type": "markdown",
   "metadata": {},
   "source": [
    "```\n",
    "b = 3\n",
    "def do_something():\n",
    "    b = 4\n",
    "print(b)\n",
    "```"
   ]
  },
  {
   "cell_type": "code",
   "execution_count": null,
   "metadata": {
    "deletable": false,
    "editable": false,
    "nbgrader": {
     "cell_type": "code",
     "checksum": "f30cb5cb68280b04b372642c1df79b6c",
     "grade": false,
     "grade_id": "cell-3398ab825ee13b6e",
     "locked": true,
     "schema_version": 3,
     "solution": false,
     "task": false
    }
   },
   "outputs": [],
   "source": [
    "%%slider local1\n",
    "0 10"
   ]
  },
  {
   "cell_type": "code",
   "execution_count": null,
   "metadata": {
    "deletable": false,
    "editable": false,
    "nbgrader": {
     "cell_type": "code",
     "checksum": "996b4d90b66c04c4b25e38ecca264ae0",
     "grade": true,
     "grade_id": "cell-8c6502eee58d6940",
     "locked": true,
     "points": 1,
     "schema_version": 3,
     "solution": false,
     "task": false
    }
   },
   "outputs": [],
   "source": [
    "%%check\n",
    " result == 1005244904880883\n"
   ]
  },
  {
   "cell_type": "markdown",
   "metadata": {},
   "source": [
    "```\n",
    "b = 5\n",
    "def do_something(a):\n",
    "    a = 6\n",
    "    return a\n",
    "print(b)\n",
    "```"
   ]
  },
  {
   "cell_type": "code",
   "execution_count": null,
   "metadata": {
    "deletable": false,
    "editable": false,
    "nbgrader": {
     "cell_type": "code",
     "checksum": "a72db0f5758bb8bf246ad92f082cd53a",
     "grade": false,
     "grade_id": "cell-0e8926c419465102",
     "locked": true,
     "schema_version": 3,
     "solution": false,
     "task": false
    }
   },
   "outputs": [],
   "source": [
    "%%slider local3\n",
    "0 10"
   ]
  },
  {
   "cell_type": "code",
   "execution_count": null,
   "metadata": {
    "deletable": false,
    "editable": false,
    "nbgrader": {
     "cell_type": "code",
     "checksum": "1f29b6dcf7d5d5596ffd2c666c43893e",
     "grade": true,
     "grade_id": "cell-a212e36ceba93290",
     "locked": true,
     "points": 1,
     "schema_version": 3,
     "solution": false,
     "task": false
    }
   },
   "outputs": [],
   "source": [
    "%%check\n",
    " result == 3853743770900693"
   ]
  },
  {
   "cell_type": "markdown",
   "metadata": {},
   "source": [
    "```\n",
    "b = 6\n",
    "def do_something(a):\n",
    "    a = 7\n",
    "    return a\n",
    "do_something(b)\n",
    "print(b)\n",
    "```"
   ]
  },
  {
   "cell_type": "code",
   "execution_count": null,
   "metadata": {
    "deletable": false,
    "editable": false,
    "nbgrader": {
     "cell_type": "code",
     "checksum": "ccd58170e9415267d0ed3822d9e5c092",
     "grade": false,
     "grade_id": "cell-7fb678da23499d16",
     "locked": true,
     "schema_version": 3,
     "solution": false,
     "task": false
    }
   },
   "outputs": [],
   "source": [
    "%%slider local4\n",
    "0 10"
   ]
  },
  {
   "cell_type": "code",
   "execution_count": null,
   "metadata": {
    "deletable": false,
    "editable": false,
    "nbgrader": {
     "cell_type": "code",
     "checksum": "ce8b241297f9b83c493ee9e8d0a83070",
     "grade": true,
     "grade_id": "cell-3bd54f6a566f839f",
     "locked": true,
     "points": 1,
     "schema_version": 3,
     "solution": false,
     "task": false
    }
   },
   "outputs": [],
   "source": [
    "%%check\n",
    " result == 6908056489800412"
   ]
  },
  {
   "cell_type": "markdown",
   "metadata": {},
   "source": [
    "```\n",
    "b = 8\n",
    "def do_something(b):\n",
    "    return b\n",
    "do_something(9)\n",
    "print(b)\n",
    "```"
   ]
  },
  {
   "cell_type": "code",
   "execution_count": null,
   "metadata": {
    "deletable": false,
    "editable": false,
    "nbgrader": {
     "cell_type": "code",
     "checksum": "1e87e2adc03917303ccff48f12d4c8bf",
     "grade": false,
     "grade_id": "cell-c916cbc6b148883f",
     "locked": true,
     "schema_version": 3,
     "solution": false,
     "task": false
    }
   },
   "outputs": [],
   "source": [
    "%%slider local6\n",
    "0 10"
   ]
  },
  {
   "cell_type": "code",
   "execution_count": null,
   "metadata": {
    "deletable": false,
    "editable": false,
    "nbgrader": {
     "cell_type": "code",
     "checksum": "98061385f591c28b3880f483e56c8e31",
     "grade": true,
     "grade_id": "cell-eaf8dc3822e5ce2f",
     "locked": true,
     "points": 1,
     "schema_version": 3,
     "solution": false,
     "task": false
    }
   },
   "outputs": [],
   "source": [
    "%%check\n",
    " result == 1598091001013101"
   ]
  },
  {
   "cell_type": "markdown",
   "metadata": {},
   "source": [
    "```\n",
    "b = 0\n",
    "def do_something(b):\n",
    "    return b\n",
    "b = do_something(1)\n",
    "print(b)\n",
    "```"
   ]
  },
  {
   "cell_type": "code",
   "execution_count": null,
   "metadata": {
    "deletable": false,
    "editable": false,
    "nbgrader": {
     "cell_type": "code",
     "checksum": "4d5ef42e4b2be665164307159e971ccd",
     "grade": false,
     "grade_id": "cell-ed1142f3822d243a",
     "locked": true,
     "schema_version": 3,
     "solution": false,
     "task": false
    }
   },
   "outputs": [],
   "source": [
    "%%slider local7\n",
    "0 10"
   ]
  },
  {
   "cell_type": "code",
   "execution_count": null,
   "metadata": {
    "deletable": false,
    "editable": false,
    "nbgrader": {
     "cell_type": "code",
     "checksum": "4d6307f405502165caf7f6281705d435",
     "grade": true,
     "grade_id": "cell-a28eee30854cc50e",
     "locked": true,
     "points": 1,
     "schema_version": 3,
     "solution": false,
     "task": false
    }
   },
   "outputs": [],
   "source": [
    "%%check\n",
    " result == 2035485573088411"
   ]
  }
 ],
 "metadata": {
  "kernelspec": {
   "display_name": "nbgrader",
   "language": "python",
   "name": "nbgrader"
  },
  "language_info": {
   "codemirror_mode": {
    "name": "ipython",
    "version": 3
   },
   "file_extension": ".py",
   "mimetype": "text/x-python",
   "name": "python",
   "nbconvert_exporter": "python",
   "pygments_lexer": "ipython3",
   "version": "3.6.10"
  }
 },
 "nbformat": 4,
 "nbformat_minor": 4
}
