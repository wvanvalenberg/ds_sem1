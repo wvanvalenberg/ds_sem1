{
 "cells": [
  {
   "cell_type": "markdown",
   "metadata": {},
   "source": [
    "# Optional/Keyword Parameters\n",
    "\n",
    "We can also give parameters of a function a default value. If a parameter has a default value, it becomes optional; we do not have to pass a value for it. In that case, the default value is used. But if we do pass a value for it, this is used instead of the default value.\n",
    "\n",
    "Important, the positional paramers should always be listed first and the keywords parameters last"
   ]
  },
  {
   "cell_type": "code",
   "execution_count": null,
   "metadata": {},
   "outputs": [],
   "source": [
    "def add( amount, bonus=13.50):\n",
    "    return amount + bonus"
   ]
  },
  {
   "cell_type": "markdown",
   "metadata": {},
   "source": [
    "Calling the function without the optional parameter `b`, the value is 5 is passed to `a` and for `b` the default value is used"
   ]
  },
  {
   "cell_type": "code",
   "execution_count": null,
   "metadata": {},
   "outputs": [],
   "source": [
    "add( 5 )"
   ]
  },
  {
   "cell_type": "markdown",
   "metadata": {},
   "source": [
    "When we do pass 2 values, the behavior is the same as for positional parameters"
   ]
  },
  {
   "cell_type": "code",
   "execution_count": null,
   "metadata": {},
   "outputs": [],
   "source": [
    "add( 5, 2.5 )"
   ]
  },
  {
   "cell_type": "markdown",
   "metadata": {},
   "source": [
    "# Keyword arguments"
   ]
  },
  {
   "cell_type": "markdown",
   "metadata": {},
   "source": [
    "We can also have several optional parameters. When we want to pass values only to specific optional parameters, we can assign these to the parameter we wish to set. This is often referred to as passing **keyword arguments**."
   ]
  },
  {
   "cell_type": "code",
   "execution_count": null,
   "metadata": {},
   "outputs": [],
   "source": [
    "def add( amount, bonus=13.50, costs=10):\n",
    "    \"\"\"\n",
    "    returns bonus + amount, but subtract the cost as a percentage\n",
    "    \"\"\"\n",
    "    return (amount + bonus) * (100 - costs) / 100"
   ]
  },
  {
   "cell_type": "code",
   "execution_count": null,
   "metadata": {},
   "outputs": [],
   "source": [
    "add( 5 )"
   ]
  },
  {
   "cell_type": "code",
   "execution_count": null,
   "metadata": {},
   "outputs": [],
   "source": [
    "add( 5, costs=5 )"
   ]
  },
  {
   "cell_type": "markdown",
   "metadata": {},
   "source": [
    "# Assignments"
   ]
  },
  {
   "cell_type": "markdown",
   "metadata": {},
   "source": [
    "#### Write a function `raise_salary` that receives `salary` and `percentage` as parameters. The `percentage` should have a default value of 10, meaning that the raised salary is returned when nu percentage is passed when calling the function.\n",
    "\n",
    "For example, `raise_salary( 200 )` should return `220`."
   ]
  },
  {
   "cell_type": "code",
   "execution_count": null,
   "metadata": {
    "deletable": false,
    "nbgrader": {
     "cell_type": "code",
     "checksum": "fbf746a9770df8efa8f44a24c6d191d3",
     "grade": false,
     "grade_id": "cell-47f71e0182f9abba",
     "locked": false,
     "schema_version": 3,
     "solution": true,
     "task": false
    }
   },
   "outputs": [],
   "source": [
    "%%assignment\n",
    "# YOUR CODE HERE"
   ]
  },
  {
   "cell_type": "code",
   "execution_count": null,
   "metadata": {
    "deletable": false,
    "editable": false,
    "nbgrader": {
     "cell_type": "code",
     "checksum": "93469df9aee70ecd58d13027ff697d22",
     "grade": true,
     "grade_id": "cell-ac7206943af8f789",
     "locked": true,
     "points": 1,
     "schema_version": 3,
     "solution": false,
     "task": false
    }
   },
   "outputs": [],
   "source": [
    "%%check\n",
    "signature raise_salary percentage=10 salary\n",
    "raise_salary(200) == 220\n",
    "raise_salary(100) == 110\n",
    "raise_salary(200, 5) == 210"
   ]
  },
  {
   "cell_type": "markdown",
   "metadata": {},
   "source": [
    "#### Write a function `expected_balance` that computes the `balance` (amount of money in a savings account at a bank).\n",
    "\n",
    "Basides the current balance, Tthe parameters should be number of `years` and the `interest` rate. The default interest should be 0.05 (or 5 percent).\n",
    "\n",
    "Hint: the expected balance should include interest over interest, therefore, you will want to use a loop or use an exponential function.\n",
    "\n",
    "For example, `expected_balance( 200, 1 )` should return `210`, `expected_balance( 200, 2 )` should return `220.50`, and `expected_balance( 200, 1, 0.2 )` should return `204`."
   ]
  },
  {
   "cell_type": "code",
   "execution_count": null,
   "metadata": {
    "deletable": false,
    "nbgrader": {
     "cell_type": "code",
     "checksum": "789e17f7b0e95e7032f3647ad2b62fe7",
     "grade": false,
     "grade_id": "cell-6178bb3d8437edcd",
     "locked": false,
     "schema_version": 3,
     "solution": true,
     "task": false
    }
   },
   "outputs": [],
   "source": [
    "%%assignment\n",
    "# YOUR CODE HERE"
   ]
  },
  {
   "cell_type": "code",
   "execution_count": null,
   "metadata": {
    "deletable": false,
    "editable": false,
    "nbgrader": {
     "cell_type": "code",
     "checksum": "fcb3d3b70cf85b80d8e6212e2738ec96",
     "grade": true,
     "grade_id": "cell-54e14d3afbacb95d",
     "locked": true,
     "points": 1,
     "schema_version": 3,
     "solution": false,
     "task": false
    }
   },
   "outputs": [],
   "source": [
    "%%check\n",
    "signature expected_balance interest=0.05 balance years \n",
    "expected_balance( 100, 1 ) == 105\n",
    "expected_balance( 200, 2 ) == 220.5\n",
    "round(expected_balance( 200, 10, 0.04 )) == 296"
   ]
  },
  {
   "cell_type": "markdown",
   "metadata": {},
   "source": [
    "#### Write a function `compute_distance` that computes the distance a free falling object travels in n `seconds`.\n",
    "\n",
    "De distance is computed as $\\frac{1}{2}\\cdot t^2 \\cdot g$, where the acceleration of gravity `g` is always $9.81m/s^2$ on earth. However, let's add `g` as a keyword parameter, that way we can use the same function to compute the distance travelled on other planets."
   ]
  },
  {
   "cell_type": "code",
   "execution_count": null,
   "metadata": {
    "deletable": false,
    "nbgrader": {
     "cell_type": "code",
     "checksum": "7c1e25715c513833f404a837d8310182",
     "grade": false,
     "grade_id": "cell-b30231ec7977898b",
     "locked": false,
     "schema_version": 3,
     "solution": true,
     "task": false
    }
   },
   "outputs": [],
   "source": [
    "%%assignment\n",
    "# YOUR CODE HERE"
   ]
  },
  {
   "cell_type": "code",
   "execution_count": null,
   "metadata": {
    "deletable": false,
    "editable": false,
    "nbgrader": {
     "cell_type": "code",
     "checksum": "481f237232fe2c30f953df4e86215555",
     "grade": true,
     "grade_id": "cell-1d3a5d546042dc0d",
     "locked": true,
     "points": 1,
     "schema_version": 3,
     "solution": false,
     "task": false
    }
   },
   "outputs": [],
   "source": [
    "%%check\n",
    "signature compute_distance g=9.81 seconds\n",
    "compute_distance( 1 ) == 4.905\n",
    "compute_distance( 2 ) == 19.62\n",
    "compute_distance( 1 ) == 4.905\n",
    "compute_distance( 2, g=1.62 ) == 3.24"
   ]
  },
  {
   "cell_type": "markdown",
   "metadata": {},
   "source": [
    "#### Write a function `compute_distance_moon` that computes the distance a free falling object travels in n `seconds` on the moon. The gravity acceleration on the moon is $1.62 m/s^2$\n",
    "\n",
    "Hint: since you have already written the function `compute_distance` with a keyword parameter `g`, you can simply write a function `compute_distance_moon` that return the value returned by `compute_distance` using `g=1.62`."
   ]
  },
  {
   "cell_type": "code",
   "execution_count": null,
   "metadata": {
    "deletable": false,
    "nbgrader": {
     "cell_type": "code",
     "checksum": "3063a765f18308acf1c5a5ff338f87b8",
     "grade": false,
     "grade_id": "cell-0b4ae1b4bdfb5af5",
     "locked": false,
     "schema_version": 3,
     "solution": true,
     "task": false
    }
   },
   "outputs": [],
   "source": [
    "%%assignment\n",
    "# YOUR CODE HERE"
   ]
  },
  {
   "cell_type": "code",
   "execution_count": null,
   "metadata": {
    "deletable": false,
    "editable": false,
    "nbgrader": {
     "cell_type": "code",
     "checksum": "f693ea1d29482621031047d52e418304",
     "grade": true,
     "grade_id": "cell-b4911551803c4fc2",
     "locked": true,
     "points": 1,
     "schema_version": 3,
     "solution": false,
     "task": false
    }
   },
   "outputs": [],
   "source": [
    "%%check\n",
    "signature compute_distance_moon -g seconds\n",
    "compute_distance_moon( 1 ) == 0.81\n",
    "compute_distance_moon( 2 ) == 3.24"
   ]
  }
 ],
 "metadata": {
  "kernelspec": {
   "display_name": "nbgrader",
   "language": "python",
   "name": "nbgrader"
  },
  "language_info": {
   "codemirror_mode": {
    "name": "ipython",
    "version": 3
   },
   "file_extension": ".py",
   "mimetype": "text/x-python",
   "name": "python",
   "nbconvert_exporter": "python",
   "pygments_lexer": "ipython3",
   "version": "3.6.10"
  }
 },
 "nbformat": 4,
 "nbformat_minor": 4
}
