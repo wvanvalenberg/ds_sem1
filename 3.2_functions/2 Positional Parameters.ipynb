{
 "cells": [
  {
   "cell_type": "markdown",
   "metadata": {},
   "source": [
    "# Parameters\n",
    "\n",
    "Program's become more useful when they contain variables. Without variables, a program would always do exactly the same thing, but when we add variables, the results change. Like with the Money Change program, if we change the values for `amount` and `paid`, the program should compute the change differently. By using variables, out Money Change program can work with any `amount` and `paid` and is thus more useful.\n",
    "\n",
    "Similarly, we can pass variables to function so that they too become more 'generic'. We can pass variables as 'parameters'. To add a parameter to a function, we place a variable name in between the brackets, e.g. `( side )`. When we call the function, we have to pass a value (formally, an argument) in between the brackets, e.g. `( 10 )`. The value is assigned to the variable, and then the function code block is executed.\n",
    "\n",
    "# Documentation\n",
    "\n",
    "When functions become more complex, it is customary to provide documentation that explains what a function does and what the parameters mean. In Phython, we add String of documentation on the first line after the `def`. This is called a 'Docstring', and you can always query any function using `?` and its name to see the docstring."
   ]
  },
  {
   "cell_type": "code",
   "execution_count": null,
   "metadata": {},
   "outputs": [],
   "source": [
    "def squared_area( side ):\n",
    "    \"\"\"\n",
    "    returns the area of a square \n",
    "    side: length of one side of the square\n",
    "    \"\"\"\n",
    "    return side * side"
   ]
  },
  {
   "cell_type": "code",
   "execution_count": null,
   "metadata": {},
   "outputs": [],
   "source": [
    "squared_area( 10 )"
   ]
  },
  {
   "cell_type": "code",
   "execution_count": null,
   "metadata": {},
   "outputs": [],
   "source": [
    "squared_area( 5 )"
   ]
  },
  {
   "cell_type": "code",
   "execution_count": null,
   "metadata": {},
   "outputs": [],
   "source": [
    "?squared_area"
   ]
  },
  {
   "cell_type": "markdown",
   "metadata": {},
   "source": [
    "# Positional parameters\n",
    "\n",
    "We can also add multiple parameters. When we call the function, we **must** pass a value to every parameter. The order of the values should match the order of the parameters. That is why we also call these **positional parameters**, the position of the argument (e.g. the 5th argument) is passed to the parameter in the same position (e.g. the 5th parameter)"
   ]
  },
  {
   "cell_type": "code",
   "execution_count": null,
   "metadata": {},
   "outputs": [],
   "source": [
    "def salary(hours, hourly_wage):\n",
    "    return hours * hourly_wage"
   ]
  },
  {
   "cell_type": "code",
   "execution_count": null,
   "metadata": {},
   "outputs": [],
   "source": [
    "salary(10, 8.5)"
   ]
  },
  {
   "cell_type": "markdown",
   "metadata": {},
   "source": [
    "# Assignments"
   ]
  },
  {
   "cell_type": "markdown",
   "metadata": {},
   "source": [
    "#### In the `salary` example, you would not have to use a function to compute the salary, or should you?"
   ]
  },
  {
   "cell_type": "code",
   "execution_count": null,
   "metadata": {
    "deletable": false,
    "editable": false,
    "nbgrader": {
     "cell_type": "code",
     "checksum": "151d0a4667982b5543b42705b9cc8bae",
     "grade": false,
     "grade_id": "cell-3dc689562fbbe4f3",
     "locked": true,
     "schema_version": 3,
     "solution": false,
     "task": false
    }
   },
   "outputs": [],
   "source": [
    "%%mmc parameters1\n",
    "Using functions makes you code more reusable\n",
    "Not using a function is probably faster than using one\n",
    "Using functions makes your code more readable\n",
    "A function prevents possible inconsistencies in salary computation"
   ]
  },
  {
   "cell_type": "code",
   "execution_count": null,
   "metadata": {
    "deletable": false,
    "editable": false,
    "nbgrader": {
     "cell_type": "code",
     "checksum": "091338b6c9f5e4f7d7e339e71ba3024a",
     "grade": true,
     "grade_id": "cell-c8d3096c5f9a871b",
     "locked": true,
     "points": 1,
     "schema_version": 3,
     "solution": false,
     "task": false
    }
   },
   "outputs": [],
   "source": [
    "%%check\n",
    "result == 2573931985015661"
   ]
  },
  {
   "cell_type": "markdown",
   "metadata": {},
   "source": [
    "#### call the function `raise_salary` with a salary of 100"
   ]
  },
  {
   "cell_type": "code",
   "execution_count": null,
   "metadata": {},
   "outputs": [],
   "source": [
    "def raise_salary(salary):\n",
    "    \"\"\"\n",
    "    returns the salary raised by 10%\n",
    "    \"\"\"\n",
    "    return salary * 1.1"
   ]
  },
  {
   "cell_type": "code",
   "execution_count": null,
   "metadata": {
    "deletable": false,
    "nbgrader": {
     "cell_type": "code",
     "checksum": "f399c85887fa946fceb4561ceaea3ecc",
     "grade": false,
     "grade_id": "cell-a1a8a893fd9ba7b8",
     "locked": false,
     "schema_version": 3,
     "solution": true,
     "task": false
    }
   },
   "outputs": [],
   "source": [
    "%%assignment\n",
    "# YOUR CODE HERE"
   ]
  },
  {
   "cell_type": "code",
   "execution_count": null,
   "metadata": {
    "deletable": false,
    "editable": false,
    "nbgrader": {
     "cell_type": "code",
     "checksum": "bd258160341a02f0444572ec1946b26a",
     "grade": true,
     "grade_id": "cell-ad354b30c7bf0479",
     "locked": true,
     "points": 1,
     "schema_version": 3,
     "solution": false,
     "task": false
    }
   },
   "outputs": [],
   "source": [
    "%%check\n",
    "mandatory raise_salary 100\n",
    "forbidden 110 1.1 *\n",
    "result == 100 * 1.1"
   ]
  },
  {
   "cell_type": "markdown",
   "metadata": {},
   "source": [
    "#### Write a function `round_up` that returns the nearest higher integer for a given (float) `number`.\n",
    "\n",
    "e.g. for 1.0 the result should be 1, for 1.001 the result should be 2\n",
    "\n",
    "Hint: you can round down a float `number` using `int(number)`... so how can you see if you should round it up?"
   ]
  },
  {
   "cell_type": "code",
   "execution_count": null,
   "metadata": {
    "deletable": false,
    "nbgrader": {
     "cell_type": "code",
     "checksum": "7132679c0b033fb74eb60bc9cbc9c038",
     "grade": false,
     "grade_id": "cell-99da577ab55d6dea",
     "locked": false,
     "schema_version": 3,
     "solution": true,
     "task": false
    }
   },
   "outputs": [],
   "source": [
    "%%assignment\n",
    "# YOUR CODE HERE"
   ]
  },
  {
   "cell_type": "code",
   "execution_count": null,
   "metadata": {
    "deletable": false,
    "editable": false,
    "nbgrader": {
     "cell_type": "code",
     "checksum": "05a6ec0e56d07b12cb15a0de6972259f",
     "grade": true,
     "grade_id": "cell-5904c50a62d4d4c6",
     "locked": true,
     "points": 1,
     "schema_version": 3,
     "solution": false,
     "task": false
    }
   },
   "outputs": [],
   "source": [
    "%%check\n",
    "signature round_up number\n",
    "round_up(1.00000001) == 2\n",
    "round_up(2.0) == 2"
   ]
  },
  {
   "cell_type": "markdown",
   "metadata": {},
   "source": [
    "#### Write a function squared_difference that returns the squared difference for two parameters `a` and `b`."
   ]
  },
  {
   "cell_type": "code",
   "execution_count": null,
   "metadata": {
    "deletable": false,
    "nbgrader": {
     "cell_type": "code",
     "checksum": "e4b27a16391171c514e4901639e4d538",
     "grade": false,
     "grade_id": "cell-cb1c1412a71236f0",
     "locked": false,
     "schema_version": 3,
     "solution": true,
     "task": false
    }
   },
   "outputs": [],
   "source": [
    "%%assignment\n",
    "# YOUR CODE HERE"
   ]
  },
  {
   "cell_type": "code",
   "execution_count": null,
   "metadata": {
    "deletable": false,
    "editable": false,
    "nbgrader": {
     "cell_type": "code",
     "checksum": "96e6e80ed3a28d8fec0c15be236655f1",
     "grade": true,
     "grade_id": "cell-6e93e82c453acbe7",
     "locked": true,
     "points": 1,
     "schema_version": 3,
     "solution": false,
     "task": false
    }
   },
   "outputs": [],
   "source": [
    "%%check\n",
    "signature squared_difference\n",
    "squared_difference(2, 7) == 25.0\n",
    "squared_difference(12, 9) == 9.0"
   ]
  },
  {
   "cell_type": "markdown",
   "metadata": {},
   "source": [
    "#### Write a function `area_rectangle` that returns the surface of a rectangle with sides `length` and `width`."
   ]
  },
  {
   "cell_type": "code",
   "execution_count": null,
   "metadata": {
    "deletable": false,
    "nbgrader": {
     "cell_type": "code",
     "checksum": "4f7ebc8e00869f609534554a35358ef4",
     "grade": false,
     "grade_id": "cell-cb1c1412a71236f1",
     "locked": false,
     "schema_version": 3,
     "solution": true,
     "task": false
    }
   },
   "outputs": [],
   "source": [
    "%%assignment\n",
    "# YOUR CODE HERE"
   ]
  },
  {
   "cell_type": "code",
   "execution_count": null,
   "metadata": {
    "deletable": false,
    "editable": false,
    "nbgrader": {
     "cell_type": "code",
     "checksum": "392dd1de36472ca4f037f30aa9e00d32",
     "grade": true,
     "grade_id": "cell-6e93e82c453acbe8",
     "locked": true,
     "points": 1,
     "schema_version": 3,
     "solution": false,
     "task": false
    }
   },
   "outputs": [],
   "source": [
    "%%check\n",
    "signature area_rectangle length width\n",
    "area_rectangle(2, 7) == 14\n",
    "area_rectangle(3, 5) == 15"
   ]
  },
  {
   "cell_type": "code",
   "execution_count": null,
   "metadata": {},
   "outputs": [],
   "source": []
  }
 ],
 "metadata": {
  "kernelspec": {
   "display_name": "nbgrader",
   "language": "python",
   "name": "nbgrader"
  },
  "language_info": {
   "codemirror_mode": {
    "name": "ipython",
    "version": 3
   },
   "file_extension": ".py",
   "mimetype": "text/x-python",
   "name": "python",
   "nbconvert_exporter": "python",
   "pygments_lexer": "ipython3",
   "version": "3.6.10"
  }
 },
 "nbformat": 4,
 "nbformat_minor": 4
}
