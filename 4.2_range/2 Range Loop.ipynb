{
 "cells": [
  {
   "cell_type": "markdown",
   "metadata": {},
   "source": [
    "# Range Loop\n",
    "\n",
    "Most common is that we use `range` within a loop. The index that we obtain can be used to point to elements in a List."
   ]
  },
  {
   "cell_type": "markdown",
   "metadata": {},
   "source": [
    "# Example"
   ]
  },
  {
   "cell_type": "code",
   "execution_count": null,
   "metadata": {},
   "outputs": [],
   "source": [
    "text = 'abcdefg'\n",
    "for i in range (2, 5):\n",
    "    print(text[i])"
   ]
  },
  {
   "cell_type": "markdown",
   "metadata": {},
   "source": [
    "# Assignments"
   ]
  },
  {
   "cell_type": "markdown",
   "metadata": {},
   "source": [
    "Consider two Lists from a round at a speed dating event between `male`s and `female`s. The males and females are paired by index, so male[0] had a one-minute meet with female[0], and so on. In the List, each participants submitted whether they would like to go on a date with the other person (True, False). Of course, that will only happen if both of them are positive."
   ]
  },
  {
   "cell_type": "code",
   "execution_count": null,
   "metadata": {},
   "outputs": [],
   "source": [
    "male = [ True, False, False, True, True, False, False, False, True, False ]\n",
    "female = [ False, False, True, True, False, False, False, True, True, False ]"
   ]
  },
  {
   "cell_type": "markdown",
   "metadata": {},
   "source": [
    "#### Write an expression to see if pair 0 are a match. The expression should be True or False, do not use print."
   ]
  },
  {
   "cell_type": "code",
   "execution_count": null,
   "metadata": {
    "deletable": false,
    "nbgrader": {
     "cell_type": "code",
     "checksum": "57bc1ed2a16cf3aa7a1241b3d056791f",
     "grade": false,
     "grade_id": "cell-0d4c62cd1fc4d65c",
     "locked": false,
     "schema_version": 3,
     "solution": true,
     "task": false
    }
   },
   "outputs": [],
   "source": [
    "%%assignment\n",
    "# YOUR CODE HERE"
   ]
  },
  {
   "cell_type": "code",
   "execution_count": null,
   "metadata": {
    "deletable": false,
    "editable": false,
    "nbgrader": {
     "cell_type": "code",
     "checksum": "9d0a6ddedcf15bfe476db768506f11ce",
     "grade": true,
     "grade_id": "cell-bdbc0957e125e7d2",
     "locked": true,
     "points": 1,
     "schema_version": 3,
     "solution": false,
     "task": false
    }
   },
   "outputs": [],
   "source": [
    "%%check\n",
    "male, female = [ True ], [ True ]\n",
    "result == True\n",
    "male = [ True, False, False, True, True, False, False, False, True, False ]\n",
    "female = [ False, False, True, True, False, False, False, True, True, False ]\n",
    "result == False"
   ]
  },
  {
   "cell_type": "markdown",
   "metadata": {},
   "source": [
    "#### Write an expression to determine how many males would like to take their speed date on an actual date.\n",
    "\n",
    "Hint: you can make use of the fact that Booleans are internally stored as 0 (False) and 1 (True). So True + True == 2. In other words, you can add them up."
   ]
  },
  {
   "cell_type": "code",
   "execution_count": null,
   "metadata": {
    "deletable": false,
    "nbgrader": {
     "cell_type": "code",
     "checksum": "0a211cbb8e6c101b10f2ecb59faa5d6e",
     "grade": false,
     "grade_id": "cell-ce7819487cd004e8",
     "locked": false,
     "schema_version": 3,
     "solution": true,
     "task": false
    }
   },
   "outputs": [],
   "source": [
    "%%assignment\n",
    "# YOUR CODE HERE"
   ]
  },
  {
   "cell_type": "code",
   "execution_count": null,
   "metadata": {
    "deletable": false,
    "editable": false,
    "nbgrader": {
     "cell_type": "code",
     "checksum": "8ee7ff37ee169e0b96c1463215f594f7",
     "grade": true,
     "grade_id": "cell-82686d07ee48b6d6",
     "locked": true,
     "points": 1,
     "schema_version": 3,
     "solution": false,
     "task": false
    }
   },
   "outputs": [],
   "source": [
    "%%check\n",
    "male = [ True ]\n",
    "result == 1\n",
    "male = [ True, False, False, True, True, False, False, False, True, False ]\n",
    "result == 4"
   ]
  },
  {
   "cell_type": "markdown",
   "metadata": {},
   "source": [
    "#### Write an expression to determine the percentage of males that would like to take their speed date on an actual date.\n",
    "\n",
    "In this case, the output should be 40."
   ]
  },
  {
   "cell_type": "code",
   "execution_count": null,
   "metadata": {
    "deletable": false,
    "nbgrader": {
     "cell_type": "code",
     "checksum": "c3c0c628107af1a6db3ddae118faae43",
     "grade": false,
     "grade_id": "cell-ce7819487cd004aa",
     "locked": false,
     "schema_version": 3,
     "solution": true,
     "task": false
    }
   },
   "outputs": [],
   "source": [
    "%%assignment\n",
    "# YOUR CODE HERE"
   ]
  },
  {
   "cell_type": "code",
   "execution_count": null,
   "metadata": {
    "deletable": false,
    "editable": false,
    "nbgrader": {
     "cell_type": "code",
     "checksum": "7a6068ebce4196703f7d5f1da76eb764",
     "grade": true,
     "grade_id": "cell-82686d07ee48b6aa",
     "locked": true,
     "points": 1,
     "schema_version": 3,
     "solution": false,
     "task": false
    }
   },
   "outputs": [],
   "source": [
    "%%check\n",
    "male = [ True ]\n",
    "result == 100.0\n",
    "male = [ True, False, False, True, True, False, False, False, True, False ]\n",
    "result == 40.0"
   ]
  },
  {
   "cell_type": "markdown",
   "metadata": {},
   "source": [
    "Working with `sum` and `len` is rather limited. We have more options if we write a for-loop to go over the list.\n",
    "\n",
    "#### Write a loop with a range to count in `male` how many `eager_males` would like to take their speed date on an actual date.\n",
    "\n",
    "Use `range` to iterate over the indices. Since the list males can vary in length, you will also need the `len` function."
   ]
  },
  {
   "cell_type": "code",
   "execution_count": null,
   "metadata": {
    "deletable": false,
    "nbgrader": {
     "cell_type": "code",
     "checksum": "64f73d52dcf826ea7f19ff7536dc557e",
     "grade": false,
     "grade_id": "cell-46bfac68021ee00d",
     "locked": false,
     "schema_version": 3,
     "solution": true,
     "task": false
    }
   },
   "outputs": [],
   "source": [
    "%%assignment\n",
    "eager_males = 0    # increase this for every male that wants to go on a date\n",
    "# YOUR CODE HERE\n",
    "eager_males"
   ]
  },
  {
   "cell_type": "code",
   "execution_count": null,
   "metadata": {
    "deletable": false,
    "editable": false,
    "nbgrader": {
     "cell_type": "code",
     "checksum": "ef298a9a22a046d444b45c18e82c4cce",
     "grade": true,
     "grade_id": "cell-60da29d763b50a87",
     "locked": true,
     "points": 1,
     "schema_version": 3,
     "solution": false,
     "task": false
    }
   },
   "outputs": [],
   "source": [
    "%%check\n",
    "mandatory for in range len male\n",
    "forbidden sum\n",
    "male = [ True ]\n",
    "eager_males == 1\n",
    "male = [ True, False, False, True, True, False, False, False, True, False ]\n",
    "eager_males == 4"
   ]
  },
  {
   "cell_type": "markdown",
   "metadata": {},
   "source": [
    "#### Write a loop with a range to count how many `matches` there are in `male` and `female` (i.e. both answered True) would like to take their speed date on an actual date."
   ]
  },
  {
   "cell_type": "code",
   "execution_count": null,
   "metadata": {
    "deletable": false,
    "nbgrader": {
     "cell_type": "code",
     "checksum": "7a4921a9ea3a1f62aa60b71b7758ec8e",
     "grade": false,
     "grade_id": "cell-57403bc312341ebb",
     "locked": false,
     "schema_version": 3,
     "solution": true,
     "task": false
    }
   },
   "outputs": [],
   "source": [
    "%%assignment\n",
    "matches = 0    # increase this for every male that wants to go on a date\n",
    "# YOUR CODE HERE\n",
    "matches"
   ]
  },
  {
   "cell_type": "code",
   "execution_count": null,
   "metadata": {
    "deletable": false,
    "editable": false,
    "nbgrader": {
     "cell_type": "code",
     "checksum": "b95b2d18f5fd380697fd760d2eef87a2",
     "grade": true,
     "grade_id": "cell-b3400f670105d98d",
     "locked": true,
     "points": 1,
     "schema_version": 3,
     "solution": false,
     "task": false
    }
   },
   "outputs": [],
   "source": [
    "%%check\n",
    "mandatory for in range len male female\n",
    "male, female = [ True ], [ True ]\n",
    "matches == 1\n",
    "male = [ True, False, False, True, True, False, False, False, True, False ]\n",
    "female = [ False, False, True, True, False, False, False, True, True, False ]\n",
    "matches == 2"
   ]
  },
  {
   "cell_type": "code",
   "execution_count": null,
   "metadata": {},
   "outputs": [],
   "source": []
  }
 ],
 "metadata": {
  "kernelspec": {
   "display_name": "nbgrader",
   "language": "python",
   "name": "nbgrader"
  },
  "language_info": {
   "codemirror_mode": {
    "name": "ipython",
    "version": 3
   },
   "file_extension": ".py",
   "mimetype": "text/x-python",
   "name": "python",
   "nbconvert_exporter": "python",
   "pygments_lexer": "ipython3",
   "version": "3.6.10"
  }
 },
 "nbformat": 4,
 "nbformat_minor": 4
}
