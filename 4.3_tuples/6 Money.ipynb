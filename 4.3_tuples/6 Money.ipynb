{
 "cells": [
  {
   "cell_type": "markdown",
   "metadata": {},
   "source": [
    "# Money\n",
    "\n",
    "#### given a coin_distribution = [0, 1, 5, 0 1, 2] over a set of coins = [200, 100, 50, 20, 10, 5], what is the amount?\n",
    "\n",
    "In this case 1 * 100 + 5 * 50 + 1 * 10 + 2 * 5 = 370\n",
    "\n",
    "Notice, the List of coins and coin_distribution are paired by index. "
   ]
  },
  {
   "cell_type": "code",
   "execution_count": null,
   "metadata": {},
   "outputs": [],
   "source": [
    "coins = [200, 100, 50, 20, 10, 5]"
   ]
  },
  {
   "cell_type": "code",
   "execution_count": null,
   "metadata": {},
   "outputs": [],
   "source": [
    "coin_distribution = [0, 1, 5, 0, 1, 2]"
   ]
  },
  {
   "cell_type": "markdown",
   "metadata": {},
   "source": [
    "### Assignments"
   ]
  },
  {
   "cell_type": "markdown",
   "metadata": {},
   "source": [
    "#### Compute the value (in cents) represented by the E1 coins by multiplying the second value in `coins` with the second value in `coin_distribution`.\n",
    "\n",
    "For the given distribution, the answer should be 100 (cents), since there is 1 E1 coin.\n",
    "\n",
    "Note: indices start at 0, so the second value is at index=1 "
   ]
  },
  {
   "cell_type": "code",
   "execution_count": null,
   "metadata": {
    "deletable": false,
    "nbgrader": {
     "cell_type": "code",
     "checksum": "e815ae974a9428efadcc0a385d03598d",
     "grade": false,
     "grade_id": "cell-4c6c937a83b9f0f1",
     "locked": false,
     "schema_version": 3,
     "solution": true,
     "task": false
    }
   },
   "outputs": [],
   "source": [
    "%%assignment\n",
    "# YOUR CODE HERE"
   ]
  },
  {
   "cell_type": "code",
   "execution_count": null,
   "metadata": {
    "deletable": false,
    "editable": false,
    "nbgrader": {
     "cell_type": "code",
     "checksum": "0657577de8573cd2e60061b4eb5e63bf",
     "grade": true,
     "grade_id": "cell-3bb6e2fd78e64b22",
     "locked": true,
     "points": 1,
     "schema_version": 3,
     "solution": false,
     "task": false
    }
   },
   "outputs": [],
   "source": [
    "%%check\n",
    "coin_distribution = [1, 3, 5, 1, 1, 2]\n",
    "result == 300\n",
    "coin_distribution = [0, 1, 5, 0, 1, 2]\n",
    "result == 100"
   ]
  },
  {
   "cell_type": "markdown",
   "metadata": {},
   "source": [
    "#### Use a `range` to go over the indices of `coins`, and add coin * coin_distribution together for all indices in `amount`.\n",
    "\n",
    "Hint: consider that the choice of coins may be different for different countries, therefor you should use the length of the set of coins to determine the range and not use a fixed 6."
   ]
  },
  {
   "cell_type": "code",
   "execution_count": null,
   "metadata": {
    "deletable": false,
    "nbgrader": {
     "cell_type": "code",
     "checksum": "2724e636b1e0d1af7fdfb0618fcc4655",
     "grade": false,
     "grade_id": "cell-4c6c937a83b9f044",
     "locked": false,
     "schema_version": 3,
     "solution": true,
     "task": false
    }
   },
   "outputs": [],
   "source": [
    "%%assignment\n",
    "amount = 0\n",
    "# YOUR CODE HERE\n",
    "amount"
   ]
  },
  {
   "cell_type": "code",
   "execution_count": null,
   "metadata": {
    "deletable": false,
    "editable": false,
    "nbgrader": {
     "cell_type": "code",
     "checksum": "e619560a0cd36d63d25b8715a341c70e",
     "grade": true,
     "grade_id": "cell-3bb6e2fd78e64b33",
     "locked": true,
     "points": 1,
     "schema_version": 3,
     "solution": false,
     "task": false
    }
   },
   "outputs": [],
   "source": [
    "%%check\n",
    "mandatory range len\n",
    "forbidden enumerate 6\n",
    "coin_distribution = [1, 3, 5, 1, 1, 2]\n",
    "result == 790\n",
    "coin_distribution = [0, 1, 5, 0, 1, 2]\n",
    "result == 370"
   ]
  },
  {
   "cell_type": "markdown",
   "metadata": {},
   "source": [
    "#### Now do the same using an `enumerate` to over the indices and values of `coins`, and add coin * coin_distribution together for all indices in `amount`."
   ]
  },
  {
   "cell_type": "code",
   "execution_count": null,
   "metadata": {
    "deletable": false,
    "nbgrader": {
     "cell_type": "code",
     "checksum": "607ec7bb0a3685e90ed9f81373265236",
     "grade": false,
     "grade_id": "cell-4c6c937a83b9f0fd",
     "locked": false,
     "schema_version": 3,
     "solution": true,
     "task": false
    }
   },
   "outputs": [],
   "source": [
    "%%assignment\n",
    "amount = 0\n",
    "# YOUR CODE HERE\n",
    "amount"
   ]
  },
  {
   "cell_type": "code",
   "execution_count": null,
   "metadata": {
    "deletable": false,
    "editable": false,
    "nbgrader": {
     "cell_type": "code",
     "checksum": "4c0a5f024dfca417ff56bbafb0958024",
     "grade": true,
     "grade_id": "cell-3bb6e2fd78e64b2b",
     "locked": true,
     "points": 1,
     "schema_version": 3,
     "solution": false,
     "task": false
    }
   },
   "outputs": [],
   "source": [
    "%%check\n",
    "mandatory enumerate\n",
    "forbidden range\n",
    "coin_distribution = [0, 1, 5, 0, 1, 2]\n",
    "amount == 370\n",
    "coin_distribution = [1, 1, 1, 1, 1, 1]\n",
    "amount == 385"
   ]
  },
  {
   "cell_type": "markdown",
   "metadata": {},
   "source": [
    "#### Now compute the same thing using a `sum` and a list comprehension and assign it to `amount`. \n",
    "\n",
    "Use something like `coin_value * coin_count` as an expression in your comprehension. There should also be an `enumerate` in the comprehension to over the indices of the values of coins and number of coins."
   ]
  },
  {
   "cell_type": "code",
   "execution_count": null,
   "metadata": {
    "deletable": false,
    "nbgrader": {
     "cell_type": "code",
     "checksum": "6e3b4f3bf9be24625bd7ba284031ddd5",
     "grade": false,
     "grade_id": "cell-4c6c937a83b9f066",
     "locked": false,
     "schema_version": 3,
     "solution": true,
     "task": false
    }
   },
   "outputs": [],
   "source": [
    "%%assignment\n",
    "# YOUR CODE HERE\n",
    "amount"
   ]
  },
  {
   "cell_type": "code",
   "execution_count": null,
   "metadata": {
    "deletable": false,
    "editable": false,
    "nbgrader": {
     "cell_type": "code",
     "checksum": "5d47e6452221117a25abbbda03c7d6fa",
     "grade": true,
     "grade_id": "cell-3bb6e2fd78e64b77",
     "locked": true,
     "points": 1,
     "schema_version": 3,
     "solution": false,
     "task": false
    }
   },
   "outputs": [],
   "source": [
    "%%check\n",
    "forbidden range zip     # Do not use range, but rather enumerate\n",
    "forbidden zip           # Do not use zip, but rather enumerate\n",
    "forbidden :             # You should use a List comprehension for this assignment\n",
    "mandatory sum enumerate amount\n",
    "coin_distribution = [0, 1, 5, 0, 1, 2]\n",
    "amount == 370\n",
    "coin_distribution = [1, 1, 1, 1, 1, 1]\n",
    "amount == 385"
   ]
  },
  {
   "cell_type": "code",
   "execution_count": null,
   "metadata": {},
   "outputs": [],
   "source": []
  }
 ],
 "metadata": {
  "kernelspec": {
   "display_name": "nbgrader",
   "language": "python",
   "name": "nbgrader"
  },
  "language_info": {
   "codemirror_mode": {
    "name": "ipython",
    "version": 3
   },
   "file_extension": ".py",
   "mimetype": "text/x-python",
   "name": "python",
   "nbconvert_exporter": "python",
   "pygments_lexer": "ipython3",
   "version": "3.6.10"
  }
 },
 "nbformat": 4,
 "nbformat_minor": 4
}
