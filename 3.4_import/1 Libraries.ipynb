{
 "cells": [
  {
   "cell_type": "markdown",
   "metadata": {},
   "source": [
    "# Libraries\n",
    "\n",
    "Many functionalities have already been programmed in Python. Often these are implemented better than you could yourself. So before you start writing big programs, it is better to look what is already available in so-called libraries. \n",
    "\n",
    "It will be impossible to go over all libraries that are written for Python; there may be hundeds of thousands. But to name a few interesting ones:\n",
    "- math: basic math functions\n",
    "- pandas: handling tables with data\n",
    "- sql: working with data in databases\n",
    "- matplotlib: drawing functions and figures\n",
    "- numpy: linear algebra\n",
    "- statsmodels: statistical models and functions\n",
    "- sklearn: machine learning models (predictive analytics)\n",
    "\n",
    "Often these libraries are not written in Python, but in a faster language. Also making them much more efficient than you could write them.\n",
    "\n",
    "# Import\n",
    "\n",
    "These libraries are not readily available, because including all of them all the time would be very inefficient. You have to explicitly import the ones you want to use. You can do that with either the `import` or the `from ... import` statements."
   ]
  },
  {
   "cell_type": "markdown",
   "metadata": {},
   "source": [
    "# Example"
   ]
  },
  {
   "cell_type": "markdown",
   "metadata": {},
   "source": [
    "If you want to plot a function $ y = x^2 + 2 \\cdot x $, you can use matplotlib's `plot` function."
   ]
  },
  {
   "cell_type": "code",
   "execution_count": 1,
   "metadata": {},
   "outputs": [],
   "source": [
    "from matplotlib import pyplot as plt"
   ]
  },
  {
   "cell_type": "code",
   "execution_count": 2,
   "metadata": {},
   "outputs": [],
   "source": [
    "x = range(-10, 10)\n",
    "y = [ x**2 + 2* x for x in x ]"
   ]
  },
  {
   "cell_type": "code",
   "execution_count": 3,
   "metadata": {},
   "outputs": [
    {
     "data": {
      "image/png": "[encoded data removed]",
      "text/plain": [
       "<Figure size 432x288 with 1 Axes>"
      ]
     },
     "metadata": {
      "needs_background": "light"
     },
     "output_type": "display_data"
    }
   ],
   "source": [
    "plt.plot(x, y);"
   ]
  },
  {
   "cell_type": "markdown",
   "metadata": {},
   "source": [
    "If you want to compute the factorial of a number $ n! $, in the `math` libary, there is a `factorial` function."
   ]
  },
  {
   "cell_type": "code",
   "execution_count": 4,
   "metadata": {},
   "outputs": [],
   "source": [
    "import math"
   ]
  },
  {
   "cell_type": "code",
   "execution_count": 5,
   "metadata": {},
   "outputs": [
    {
     "data": {
      "text/plain": [
       "120"
      ]
     },
     "execution_count": 5,
     "metadata": {},
     "output_type": "execute_result"
    }
   ],
   "source": [
    "math.factorial(5)"
   ]
  },
  {
   "cell_type": "markdown",
   "metadata": {},
   "source": [
    "# Assignments"
   ]
  },
  {
   "cell_type": "markdown",
   "metadata": {},
   "source": [
    "The binomial coefficient function is written as $ \\binom{N}{k} $, equals the number of combinations that from $N$ possible events, $k$ events without replacement happen in any order. E.g. using a deck of 52 playing cards, the number of combinations to draw 5 $\\heartsuit$ cards is $\\binom{52}{13}$. The binomial coefficient $ \\binom{N}{k} = \\frac{N!}{k! \\cdot (N-k)!}$"
   ]
  },
  {
   "cell_type": "markdown",
   "metadata": {},
   "source": [
    "#### The math library does not contain a binomial coefficient function. Google which of these 4 libraries has a Binomial Coefficient function that you can use.\n",
    "\n",
    "Hint: Often you do not need to search in the official Python documentation. Sites such as Stackoverflow contain question-answer like forums, on which many question already have answers with small code examples. Looking at the results from these sites is a very efficient way to find the information you are looking for with working examples of how you can use it."
   ]
  },
  {
   "cell_type": "code",
   "execution_count": 10,
   "metadata": {
    "deletable": false,
    "editable": false,
    "nbgrader": {
     "cell_type": "code",
     "checksum": "4ed82cb3d5c161cbbbe99b97f4b23a56",
     "grade": false,
     "grade_id": "cell-681674ce27c7b486",
     "locked": true,
     "schema_version": 3,
     "solution": false,
     "task": false
    }
   },
   "outputs": [
    {
     "data": {
      "application/vnd.jupyter.widget-view+json": {
       "model_id": "3a61b41af7c041f5a1ab20420e788aa5",
       "version_major": 2,
       "version_minor": 0
      },
      "text/plain": [
       "RadioButtons(index=2, layout=Layout(width='max-content'), options=('pandas', 'numpy', 'spicy.special', 'sql'),…"
      ]
     },
     "metadata": {},
     "output_type": "display_data"
    }
   ],
   "source": [
    "%%mc import1\n",
    "pandas\n",
    "numpy\n",
    "spicy.special\n",
    "sql"
   ]
  },
  {
   "cell_type": "code",
   "execution_count": 11,
   "metadata": {
    "deletable": false,
    "editable": false,
    "nbgrader": {
     "cell_type": "code",
     "checksum": "0ed2bd08642cc275bf6dec825ab57a9e",
     "grade": true,
     "grade_id": "cell-e0bc23abb5b0c133",
     "locked": true,
     "points": 1,
     "schema_version": 3,
     "solution": false,
     "task": false
    }
   },
   "outputs": [
    {
     "data": {
      "text/html": [
       "<table><tr style=\"background: green; color: white\"><td style=\"text-align:left\">Correct!</td></tr></table>"
      ],
      "text/plain": [
       "<IPython.core.display.HTML object>"
      ]
     },
     "metadata": {},
     "output_type": "display_data"
    }
   ],
   "source": [
    "%%check\n",
    "result == 265054803844041"
   ]
  },
  {
   "cell_type": "markdown",
   "metadata": {},
   "source": [
    "#### Import this library and compute $\\binom{52}{13}$"
   ]
  },
  {
   "cell_type": "code",
   "execution_count": null,
   "metadata": {
    "deletable": false,
    "nbgrader": {
     "cell_type": "code",
     "checksum": "14d8dfa754b184ded4400ac87053929b",
     "grade": false,
     "grade_id": "cell-0c58feb43c96d2c5",
     "locked": false,
     "schema_version": 3,
     "solution": true,
     "task": false
    }
   },
   "outputs": [],
   "source": [
    "%%assignment\n",
    "# YOUR CODE HERE"
   ]
  },
  {
   "cell_type": "code",
   "execution_count": null,
   "metadata": {
    "deletable": false,
    "editable": false,
    "nbgrader": {
     "cell_type": "code",
     "checksum": "479b90a180f3b425b9ab7358cbaa07ef",
     "grade": true,
     "grade_id": "cell-e9a5c4a0165ce09c",
     "locked": true,
     "points": 1,
     "schema_version": 3,
     "solution": false,
     "task": false
    }
   },
   "outputs": [],
   "source": [
    "%%check\n",
    "inthashresult==677549226"
   ]
  },
  {
   "cell_type": "markdown",
   "metadata": {},
   "source": [
    "#### Now compute the number of combinations for the given values of N and k."
   ]
  },
  {
   "cell_type": "code",
   "execution_count": null,
   "metadata": {},
   "outputs": [],
   "source": [
    "N = 52\n",
    "k = 4"
   ]
  },
  {
   "cell_type": "code",
   "execution_count": null,
   "metadata": {
    "deletable": false,
    "nbgrader": {
     "cell_type": "code",
     "checksum": "9a9e97727211e7f4f8527211c9784904",
     "grade": false,
     "grade_id": "cell-96c6f391c51539a8",
     "locked": false,
     "schema_version": 3,
     "solution": true,
     "task": false
    }
   },
   "outputs": [],
   "source": [
    "%%assignment\n",
    "# YOUR CODE HERE"
   ]
  },
  {
   "cell_type": "code",
   "execution_count": null,
   "metadata": {
    "deletable": false,
    "editable": false,
    "nbgrader": {
     "cell_type": "code",
     "checksum": "44ebe4c063891648598dc45fea55918e",
     "grade": true,
     "grade_id": "cell-aa25c0ebfa5af46a",
     "locked": true,
     "points": 1,
     "schema_version": 3,
     "solution": false,
     "task": false
    }
   },
   "outputs": [],
   "source": [
    "%%check\n",
    "N, k = 52, 4\n",
    "result== 270725.0\n",
    "N, k = 52, 2\n",
    "result== 52 * 51 / 2"
   ]
  },
  {
   "cell_type": "markdown",
   "metadata": {},
   "source": [
    "#### Search online for a library that has a function to compute the median of a List of values. Which of these 4 libraries has a median function that you can use?"
   ]
  },
  {
   "cell_type": "code",
   "execution_count": null,
   "metadata": {
    "deletable": false,
    "editable": false,
    "nbgrader": {
     "cell_type": "code",
     "checksum": "6f48f6b54cada1c95f6b90978abbe13b",
     "grade": false,
     "grade_id": "cell-7a35b178ac006de7",
     "locked": true,
     "schema_version": 3,
     "solution": false,
     "task": false
    }
   },
   "outputs": [],
   "source": [
    "%%mc import2\n",
    "math\n",
    "numpy\n",
    "sklearn\n",
    "statistics"
   ]
  },
  {
   "cell_type": "code",
   "execution_count": null,
   "metadata": {
    "deletable": false,
    "editable": false,
    "nbgrader": {
     "cell_type": "code",
     "checksum": "96aee7b5d4b47ae1fecede79e7d0aa39",
     "grade": true,
     "grade_id": "cell-56cb03ec870d711d",
     "locked": true,
     "points": 1,
     "schema_version": 3,
     "solution": false,
     "task": false
    }
   },
   "outputs": [],
   "source": [
    "%%check\n",
    "result == 8990634646709615"
   ]
  },
  {
   "cell_type": "markdown",
   "metadata": {},
   "source": [
    "#### Import the library and compute the median of `numbers`"
   ]
  },
  {
   "cell_type": "code",
   "execution_count": null,
   "metadata": {},
   "outputs": [],
   "source": [
    "numbers = [ 20, 12, 4, 29, 28, 10, 6 , 14, 18 ]"
   ]
  },
  {
   "cell_type": "code",
   "execution_count": null,
   "metadata": {
    "deletable": false,
    "nbgrader": {
     "cell_type": "code",
     "checksum": "b8ba578b843e300e5051710a30c5907d",
     "grade": false,
     "grade_id": "cell-31b51b47f3a298f2",
     "locked": false,
     "schema_version": 3,
     "solution": true,
     "task": false
    }
   },
   "outputs": [],
   "source": [
    "%%assignment\n",
    "# YOUR CODE HERE\n"
   ]
  },
  {
   "cell_type": "code",
   "execution_count": null,
   "metadata": {
    "deletable": false,
    "editable": false,
    "nbgrader": {
     "cell_type": "code",
     "checksum": "331640066d37c57cda4dfac1f3132ca1",
     "grade": true,
     "grade_id": "cell-7e2e1f27fe8c8aea",
     "locked": true,
     "points": 1,
     "schema_version": 3,
     "solution": false,
     "task": false
    }
   },
   "outputs": [],
   "source": [
    "%%check\n",
    "numbers = [ 20, 12, 4, 29, 28, 10, 6 , 14, 18 ]\n",
    "result == 14\n",
    "numbers = [ 20, 12, 4, 29, 28, 10, 6 , 14, 18, 19, 27 ]\n",
    "result == 18"
   ]
  },
  {
   "cell_type": "code",
   "execution_count": null,
   "metadata": {},
   "outputs": [],
   "source": []
  }
 ],
 "metadata": {
  "kernelspec": {
   "display_name": "nbgrader",
   "language": "python",
   "name": "nbgrader"
  },
  "language_info": {
   "codemirror_mode": {
    "name": "ipython",
    "version": 3
   },
   "file_extension": ".py",
   "mimetype": "text/x-python",
   "name": "python",
   "nbconvert_exporter": "python",
   "pygments_lexer": "ipython3",
   "version": "3.8.8"
  }
 },
 "nbformat": 4,
 "nbformat_minor": 4
}
