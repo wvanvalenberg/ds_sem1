{
 "cells": [
  {
   "cell_type": "markdown",
   "metadata": {},
   "source": [
    "# Temperature converter\n",
    "\n",
    "You are going to write a function that takes a String that either contains a `temperature` in Celsius, e.g. written as '32C', or a temperature in Fahrenheit, e.g. written as '60F'. If the `temperature` is in Fahrenheit, return the temperature in Celsius. If the `temperature` is in Celsius, return the temperature in Fahrenheit.\n",
    "\n",
    "We will build up the final function in small steps."
   ]
  },
  {
   "cell_type": "markdown",
   "metadata": {},
   "source": [
    "# Assignments"
   ]
  },
  {
   "cell_type": "markdown",
   "metadata": {},
   "source": [
    "#### Write a function `celsius_to_fahrenheit` that converts a numeric temperature from Celsius to Fahrenheit, using the formula $f = \\frac{9}{5} \\cdot c + 32 $"
   ]
  },
  {
   "cell_type": "code",
   "execution_count": null,
   "metadata": {
    "deletable": false,
    "nbgrader": {
     "cell_type": "code",
     "checksum": "de3be12ebca86f5899174a334e645d24",
     "grade": false,
     "grade_id": "cell-d186e92fdaa980b7",
     "locked": false,
     "schema_version": 3,
     "solution": true,
     "task": false
    }
   },
   "outputs": [],
   "source": [
    "%%assignment\n",
    "# YOUR CODE HERE"
   ]
  },
  {
   "cell_type": "code",
   "execution_count": null,
   "metadata": {
    "deletable": false,
    "editable": false,
    "nbgrader": {
     "cell_type": "code",
     "checksum": "e99a073c37db27bed10eceac8bb544b3",
     "grade": true,
     "grade_id": "cell-0d2f9437dcc91cde",
     "locked": true,
     "points": 1,
     "schema_version": 3,
     "solution": false,
     "task": false
    }
   },
   "outputs": [],
   "source": [
    "%%check\n",
    "signature celsius_to_fahrenheit\n",
    "celsius_to_fahrenheit(0) == 32\n",
    "celsius_to_fahrenheit(20) == 68"
   ]
  },
  {
   "cell_type": "markdown",
   "metadata": {},
   "source": [
    "#### Write a function `fahrenheit_to_celsius` that converts a numeric temperature from Fahrenheit to Celsius"
   ]
  },
  {
   "cell_type": "code",
   "execution_count": null,
   "metadata": {
    "deletable": false,
    "nbgrader": {
     "cell_type": "code",
     "checksum": "cf0e3a0d66835751dcf44ef22f12d403",
     "grade": false,
     "grade_id": "cell-277ada3c55865338",
     "locked": false,
     "schema_version": 3,
     "solution": true,
     "task": false
    }
   },
   "outputs": [],
   "source": [
    "%%assignment\n",
    "# YOUR CODE HERE"
   ]
  },
  {
   "cell_type": "code",
   "execution_count": null,
   "metadata": {
    "deletable": false,
    "editable": false,
    "nbgrader": {
     "cell_type": "code",
     "checksum": "c47571a8a3bafd818993da0edca3b09e",
     "grade": true,
     "grade_id": "cell-8dca7b94aad90600",
     "locked": true,
     "points": 1,
     "schema_version": 3,
     "solution": false,
     "task": false
    }
   },
   "outputs": [],
   "source": [
    "%%check\n",
    "signature fahrenheit_to_celsius\n",
    "fahrenheit_to_celsius(32) == 0\n",
    "fahrenheit_to_celsius(68) == 20"
   ]
  },
  {
   "cell_type": "markdown",
   "metadata": {},
   "source": [
    "#### Consider `temp` that always contains numbers, with either a C or F at the end. Write an expression that will give you just the letter at the end. "
   ]
  },
  {
   "cell_type": "code",
   "execution_count": null,
   "metadata": {},
   "outputs": [],
   "source": [
    "temp = '20C'"
   ]
  },
  {
   "cell_type": "code",
   "execution_count": null,
   "metadata": {
    "deletable": false,
    "nbgrader": {
     "cell_type": "code",
     "checksum": "be638e47323deb4dae4522daae5f6163",
     "grade": false,
     "grade_id": "cell-39991113b6eb8b20",
     "locked": false,
     "schema_version": 3,
     "solution": true,
     "task": false
    }
   },
   "outputs": [],
   "source": [
    "%%assignment\n",
    "# YOUR CODE HERE"
   ]
  },
  {
   "cell_type": "code",
   "execution_count": null,
   "metadata": {
    "deletable": false,
    "editable": false,
    "nbgrader": {
     "cell_type": "code",
     "checksum": "65cfa61bf67eeb4f2ade89e63021cf18",
     "grade": true,
     "grade_id": "cell-58dccd11577fe612",
     "locked": true,
     "points": 1,
     "schema_version": 3,
     "solution": false,
     "task": false
    }
   },
   "outputs": [],
   "source": [
    "%%check\n",
    "temp = '20C'\n",
    "result == 'C'\n",
    "temp = '68F'\n",
    "result == 'F'"
   ]
  },
  {
   "cell_type": "markdown",
   "metadata": {},
   "source": [
    "#### Consider `temp` that always contains numbers, with either a C or F at the end. Write an expression that will give you the numeric part as an integer."
   ]
  },
  {
   "cell_type": "code",
   "execution_count": null,
   "metadata": {},
   "outputs": [],
   "source": [
    "temp = '20C'"
   ]
  },
  {
   "cell_type": "code",
   "execution_count": null,
   "metadata": {
    "deletable": false,
    "nbgrader": {
     "cell_type": "code",
     "checksum": "07c10cd8bb89e39ad12eb525558d50e4",
     "grade": false,
     "grade_id": "cell-662c0bc45ae02b03",
     "locked": false,
     "schema_version": 3,
     "solution": true,
     "task": false
    }
   },
   "outputs": [],
   "source": [
    "%%assignment\n",
    "# YOUR CODE HERE"
   ]
  },
  {
   "cell_type": "code",
   "execution_count": null,
   "metadata": {
    "deletable": false,
    "editable": false,
    "nbgrader": {
     "cell_type": "code",
     "checksum": "871498a9a97d0f90524577a9c429d141",
     "grade": true,
     "grade_id": "cell-3987822a8175a69a",
     "locked": true,
     "points": 1,
     "schema_version": 3,
     "solution": false,
     "task": false
    }
   },
   "outputs": [],
   "source": [
    "%%check\n",
    "temp = '20C'\n",
    "result == 20 # result should be 20, did you convert it to an integer?\n",
    "temp = '68F'\n",
    "result == 68"
   ]
  },
  {
   "cell_type": "markdown",
   "metadata": {},
   "source": [
    "#### Write a function `convert` that takes a temperature String like '20C' or '68F'. If the temperature given is in 'C' return the converted temperature in Fahrenheit (as a number). If the temperature given is in 'F' return the converted temperature in Celsius (as a number)\n",
    "\n",
    "Reuse the functions celsius_to_fahrenheit and fahrenheit_to_celsius"
   ]
  },
  {
   "cell_type": "code",
   "execution_count": null,
   "metadata": {},
   "outputs": [],
   "source": [
    "temp = '20C'"
   ]
  },
  {
   "cell_type": "code",
   "execution_count": null,
   "metadata": {
    "deletable": false,
    "nbgrader": {
     "cell_type": "code",
     "checksum": "59168bf4eb4ca20e4ba02fa5c743b686",
     "grade": false,
     "grade_id": "cell-aaba925b8b51fe6c",
     "locked": false,
     "schema_version": 3,
     "solution": true,
     "task": false
    }
   },
   "outputs": [],
   "source": [
    "%%assignment\n",
    "# YOUR CODE HERE"
   ]
  },
  {
   "cell_type": "code",
   "execution_count": null,
   "metadata": {
    "deletable": false,
    "editable": false,
    "nbgrader": {
     "cell_type": "code",
     "checksum": "c2a68907a675a8b5a55d1dc3924fae82",
     "grade": true,
     "grade_id": "cell-d399e4ae4709b48b",
     "locked": true,
     "points": 1,
     "schema_version": 3,
     "solution": false,
     "task": false
    }
   },
   "outputs": [],
   "source": [
    "%%check\n",
    "signature convert\n",
    "mandatory fahrenheit_to_celsius celsius_to_fahrenheit\n",
    "convert('20C') == 68\n",
    "convert('32F') == 0"
   ]
  },
  {
   "cell_type": "code",
   "execution_count": null,
   "metadata": {},
   "outputs": [],
   "source": []
  }
 ],
 "metadata": {
  "kernelspec": {
   "display_name": "nbgrader",
   "language": "python",
   "name": "nbgrader"
  },
  "language_info": {
   "codemirror_mode": {
    "name": "ipython",
    "version": 3
   },
   "file_extension": ".py",
   "mimetype": "text/x-python",
   "name": "python",
   "nbconvert_exporter": "python",
   "pygments_lexer": "ipython3",
   "version": "3.6.10"
  }
 },
 "nbformat": 4,
 "nbformat_minor": 4
}
