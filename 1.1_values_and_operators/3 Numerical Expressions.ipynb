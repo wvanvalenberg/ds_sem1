{
 "cells": [
  {
   "cell_type": "markdown",
   "metadata": {},
   "source": [
    "# Numerical Expressions\n",
    "\n",
    "We can use numeric values in expressions to compute results. Writing expressions is very straightforward like `1 + 3 - 2`. However, Python sometimes uses different symbols from what you are used to in mathematics:\n",
    "\n",
    "| Mathemetics | Python         | Result          |\n",
    "| :-----------| :--------------| ---------------|\n",
    "| $2 + 3$     | `2 + 3`        | 5               |\n",
    "| $5 - 1$     | `5 - 1`        | 4 |\n",
    "| $5 \\cdot 2$ | `5 * 2` | 10|\n",
    "| $\\frac{5}{2}$ | `5 / 2` | 2.5 |\n",
    "| $5^2$ | `5 ** 2` | 25 |\n",
    "| $\\sqrt{4}$ | `4 ** 0.5` | 2.0 |\n",
    "| $3 \\cdot ( 4 + 2 )$ | `3 * (4 + 2)` | 18 | "
   ]
  },
  {
   "cell_type": "markdown",
   "metadata": {},
   "source": [
    "### Example\n",
    "\n",
    "$ 2 + 10 - \\frac{1}{2} $"
   ]
  },
  {
   "cell_type": "code",
   "execution_count": null,
   "metadata": {},
   "outputs": [],
   "source": [
    "2 + 10 - 1/2 "
   ]
  },
  {
   "cell_type": "markdown",
   "metadata": {},
   "source": [
    "### Write $ 2 + 2.5 - 1 $"
   ]
  },
  {
   "cell_type": "code",
   "execution_count": null,
   "metadata": {
    "deletable": false,
    "nbgrader": {
     "cell_type": "code",
     "checksum": "581bbcd8157d5ab69f1f7a264574a741",
     "grade": false,
     "grade_id": "cell-f6d0300e8fa7d253",
     "locked": false,
     "schema_version": 3,
     "solution": true,
     "task": false
    }
   },
   "outputs": [],
   "source": [
    "%%assignment\n",
    "# YOUR CODE HERE"
   ]
  },
  {
   "cell_type": "code",
   "execution_count": null,
   "metadata": {
    "deletable": false,
    "editable": false,
    "nbgrader": {
     "cell_type": "code",
     "checksum": "a5d9462504433a3a8730612b8a556a6a",
     "grade": true,
     "grade_id": "cell-93e9c621bbf972e1",
     "locked": true,
     "points": 1,
     "schema_version": 3,
     "solution": false,
     "task": false
    }
   },
   "outputs": [],
   "source": [
    "%%check\n",
    "result == 3.5\n",
    "mandatory 1 2 5 - + .\n",
    "forbidden 3.5"
   ]
  },
  {
   "cell_type": "markdown",
   "metadata": {},
   "source": [
    "### Write $ 10 - 2 - 1 $"
   ]
  },
  {
   "cell_type": "code",
   "execution_count": null,
   "metadata": {
    "deletable": false,
    "nbgrader": {
     "cell_type": "code",
     "checksum": "c32decbada9c813b7fa6e9fd3fa080bb",
     "grade": false,
     "grade_id": "cell-7eb515009bd870fe",
     "locked": false,
     "schema_version": 3,
     "solution": true,
     "task": false
    }
   },
   "outputs": [],
   "source": [
    "%%assignment\n",
    "# YOUR CODE HERE"
   ]
  },
  {
   "cell_type": "code",
   "execution_count": null,
   "metadata": {
    "deletable": false,
    "editable": false,
    "nbgrader": {
     "cell_type": "code",
     "checksum": "0ae96bea997cc1676a72a297bc4f6782",
     "grade": true,
     "grade_id": "cell-2daa5510646f39e3",
     "locked": true,
     "points": 1,
     "schema_version": 3,
     "solution": false,
     "task": false
    }
   },
   "outputs": [],
   "source": [
    "%%check\n",
    "result == 7\n",
    "mandatory 1 2 0 -\n",
    "forbidden 7"
   ]
  },
  {
   "cell_type": "markdown",
   "metadata": {},
   "source": [
    "### Write $ \\sqrt{6 + 3} $"
   ]
  },
  {
   "cell_type": "code",
   "execution_count": null,
   "metadata": {
    "deletable": false,
    "nbgrader": {
     "cell_type": "code",
     "checksum": "f8e0392015bf09f85a325ea0bebc3120",
     "grade": false,
     "grade_id": "cell-50e42c28a3030774",
     "locked": false,
     "schema_version": 3,
     "solution": true,
     "task": false
    }
   },
   "outputs": [],
   "source": [
    "%%assignment\n",
    "# YOUR CODE HERE"
   ]
  },
  {
   "cell_type": "code",
   "execution_count": null,
   "metadata": {
    "deletable": false,
    "editable": false,
    "nbgrader": {
     "cell_type": "code",
     "checksum": "8b663379365928ebf54d00ac9e07cab8",
     "grade": true,
     "grade_id": "cell-81e0b0dc15251dec",
     "locked": true,
     "points": 1,
     "schema_version": 3,
     "solution": false,
     "task": false
    }
   },
   "outputs": [],
   "source": [
    "%%check\n",
    "result == 3.0\n",
    "mandatory 3 6 + ( )\n",
    "forbidden 9"
   ]
  },
  {
   "cell_type": "markdown",
   "metadata": {},
   "source": [
    "### Write $ 3 \\cdot 2^4 $"
   ]
  },
  {
   "cell_type": "code",
   "execution_count": null,
   "metadata": {
    "deletable": false,
    "nbgrader": {
     "cell_type": "code",
     "checksum": "a5ab78a6dbc6030788205177d12584f8",
     "grade": false,
     "grade_id": "cell-84285315a622d1ed",
     "locked": false,
     "schema_version": 3,
     "solution": true,
     "task": false
    }
   },
   "outputs": [],
   "source": [
    "%%assignment\n",
    "# YOUR CODE HERE"
   ]
  },
  {
   "cell_type": "code",
   "execution_count": null,
   "metadata": {
    "deletable": false,
    "editable": false,
    "nbgrader": {
     "cell_type": "code",
     "checksum": "717e1abf64f76bed52f2bd10f28ed871",
     "grade": true,
     "grade_id": "cell-4d9948fdb9f47ac5",
     "locked": true,
     "points": 1,
     "schema_version": 3,
     "solution": false,
     "task": false
    }
   },
   "outputs": [],
   "source": [
    "%%check\n",
    "result == 48\n",
    "mandatory 2 3 4 * \n",
    "forbidden 8"
   ]
  },
  {
   "cell_type": "markdown",
   "metadata": {},
   "source": [
    "### Write $ \\frac{3.5 + 2.5}{6} $"
   ]
  },
  {
   "cell_type": "code",
   "execution_count": null,
   "metadata": {
    "deletable": false,
    "nbgrader": {
     "cell_type": "code",
     "checksum": "c4c33140229f2435cb33797d58fd79b8",
     "grade": false,
     "grade_id": "cell-63dfdbe051ee53fc",
     "locked": false,
     "schema_version": 3,
     "solution": true,
     "task": false
    }
   },
   "outputs": [],
   "source": [
    "%%assignment\n",
    "# YOUR CODE HERE"
   ]
  },
  {
   "cell_type": "code",
   "execution_count": null,
   "metadata": {
    "deletable": false,
    "editable": false,
    "nbgrader": {
     "cell_type": "code",
     "checksum": "50d56f1a472b5278b87760c570197fa6",
     "grade": true,
     "grade_id": "cell-80fe7a205bf0b9cf",
     "locked": true,
     "points": 1,
     "schema_version": 3,
     "solution": false,
     "task": false
    }
   },
   "outputs": [],
   "source": [
    "%%check\n",
    "result == 1\n",
    "mandatory 2 3 5 6 . + ( )\n",
    "forbidden 1"
   ]
  },
  {
   "cell_type": "markdown",
   "metadata": {},
   "source": [
    "### Write $ 2^{20 + 1} + 2^{20} $"
   ]
  },
  {
   "cell_type": "code",
   "execution_count": null,
   "metadata": {
    "deletable": false,
    "nbgrader": {
     "cell_type": "code",
     "checksum": "0c038a50f6d54f3f7dd449565b9ba724",
     "grade": false,
     "grade_id": "cell-a2d0f1a5194fa150",
     "locked": false,
     "schema_version": 3,
     "solution": true,
     "task": false
    }
   },
   "outputs": [],
   "source": [
    "%%assignment\n",
    "# YOUR CODE HERE"
   ]
  },
  {
   "cell_type": "code",
   "execution_count": null,
   "metadata": {
    "deletable": false,
    "editable": false,
    "nbgrader": {
     "cell_type": "code",
     "checksum": "06f5ae610cf98788247b9b716ce098e4",
     "grade": true,
     "grade_id": "cell-18ef51e4f0e1db1e",
     "locked": true,
     "points": 1,
     "schema_version": 3,
     "solution": false,
     "task": false
    }
   },
   "outputs": [],
   "source": [
    "%%check\n",
    "result == 3145728\n",
    "mandatory 1 2 0 + ** ( )\n",
    "forbidden 3 4 5 8"
   ]
  },
  {
   "cell_type": "markdown",
   "metadata": {},
   "source": [
    "# Done? Please close your notebook with Close And Halt!"
   ]
  },
  {
   "cell_type": "code",
   "execution_count": null,
   "metadata": {},
   "outputs": [],
   "source": []
  }
 ],
 "metadata": {
  "kernelspec": {
   "display_name": "nbgrader",
   "language": "python",
   "name": "nbgrader"
  },
  "language_info": {
   "codemirror_mode": {
    "name": "ipython",
    "version": 3
   },
   "file_extension": ".py",
   "mimetype": "text/x-python",
   "name": "python",
   "nbconvert_exporter": "python",
   "pygments_lexer": "ipython3",
   "version": "3.8.8"
  }
 },
 "nbformat": 4,
 "nbformat_minor": 4
}
