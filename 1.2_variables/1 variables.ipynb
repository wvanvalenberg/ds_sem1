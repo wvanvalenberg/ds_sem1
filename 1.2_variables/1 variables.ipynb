{
 "cells": [
  {
   "cell_type": "markdown",
   "metadata": {},
   "source": [
    "# Variables\n",
    "\n",
    "In the previous section, we have seen that we can write expressions to make computations on literal values. The results of these expressions were shown, but to reuse them in Python these results need to be memorized. That is what variables are for, to memorize values.\n",
    "\n",
    "# Assignment\n",
    "\n",
    "We can create a variable by giving it a name and **assigning** a value. We can then use these variables in expressions just like literal values. Remember, all the statements/expressions in a cell are executed, bt only the value of the last expression is shown."
   ]
  },
  {
   "cell_type": "markdown",
   "metadata": {},
   "source": [
    "### Example\n",
    "\n",
    "Compute the sum of x and y"
   ]
  },
  {
   "cell_type": "code",
   "execution_count": null,
   "metadata": {},
   "outputs": [],
   "source": [
    "x = 10\n",
    "y = 20\n",
    "x + y"
   ]
  },
  {
   "cell_type": "markdown",
   "metadata": {},
   "source": [
    "### Example\n",
    "\n",
    "Subtract `costs` from `income` and store the result in `savings`. Note that an assignment does not show a result, so we may need an additional expression or print statement to show the value of a variable. "
   ]
  },
  {
   "cell_type": "code",
   "execution_count": null,
   "metadata": {},
   "outputs": [],
   "source": [
    "income = 1000\n",
    "costs = 650\n",
    "savings = income - costs"
   ]
  },
  {
   "cell_type": "code",
   "execution_count": null,
   "metadata": {},
   "outputs": [],
   "source": [
    "savings"
   ]
  },
  {
   "cell_type": "markdown",
   "metadata": {},
   "source": [
    "# working on notebook assignments\n",
    "\n",
    "The examples and assignments are printed in bold. Underneath are cells for you to execute and to complete. The assignments are mostly scored automatically, and if you fail on an assignment hopefully you receive some useful feedback. \n",
    "\n",
    "Here is how it works:\n",
    "- run the first cell below first. This will assign the variables that you need for the assignment.\n",
    "- put your code in the second cell and run it. If you get an error or the answer is not what you think it should be, you can change the code and run the second cell again.\n",
    "- run the third cell to have the notebook check if your answer is correct. Don't pay too much attention on what is in that cell, rather focus on the assignment itself. \n",
    "- If you get it right you will see a green `Correct!` sign. Well done! \n",
    "- If you get it wrong, try to change your solution in the second cell, run the second cell again and then the third cell again.\n",
    "\n",
    "A few tips:\n",
    "- if you struggle with an assignment, sometimes it is better to move on to the next. After doing a few other assignments you may get a new insight and it will be easier to fix it. \n",
    "- do not wait to work on these assignments until your scheduled class, rather work ahead. Skipping the questions that you struggle with. When you that, you will be more alert to the difficult bits and ask the questions that help you most.\n",
    "- don't get behind on the lecture schedule!"
   ]
  },
  {
   "cell_type": "markdown",
   "metadata": {},
   "source": [
    "### Assignment: add 2 and 25"
   ]
  },
  {
   "cell_type": "code",
   "execution_count": null,
   "metadata": {
    "deletable": false,
    "nbgrader": {
     "cell_type": "code",
     "checksum": "819e5e1b8253c29166454491b3abb356",
     "grade": false,
     "grade_id": "cell-bac041ef82e0e44e",
     "locked": false,
     "schema_version": 3,
     "solution": true,
     "task": false
    }
   },
   "outputs": [],
   "source": [
    "%%assignment\n",
    "# YOUR CODE HERE"
   ]
  },
  {
   "cell_type": "code",
   "execution_count": null,
   "metadata": {
    "deletable": false,
    "editable": false,
    "nbgrader": {
     "cell_type": "code",
     "checksum": "bc996c3a8502803d3facd459ee8f9641",
     "grade": true,
     "grade_id": "cell-2fcc0ab412170e9f",
     "locked": true,
     "points": 1,
     "schema_version": 3,
     "solution": false,
     "task": false
    }
   },
   "outputs": [],
   "source": [
    "%%check\n",
    "result == 27"
   ]
  },
  {
   "cell_type": "markdown",
   "metadata": {},
   "source": [
    "### Assignment: add a, b and c"
   ]
  },
  {
   "cell_type": "code",
   "execution_count": null,
   "metadata": {},
   "outputs": [],
   "source": [
    "a = 1\n",
    "b = 8\n",
    "c = 2"
   ]
  },
  {
   "cell_type": "code",
   "execution_count": null,
   "metadata": {
    "deletable": false,
    "nbgrader": {
     "cell_type": "code",
     "checksum": "7408e0d2e8b5b3c3da8b6b0ea8ebeb09",
     "grade": false,
     "grade_id": "cell-c97fa9ed71001ea6",
     "locked": false,
     "schema_version": 3,
     "solution": true,
     "task": false
    }
   },
   "outputs": [],
   "source": [
    "%%assignment\n",
    "# YOUR CODE HERE"
   ]
  },
  {
   "cell_type": "code",
   "execution_count": null,
   "metadata": {
    "deletable": false,
    "editable": false,
    "nbgrader": {
     "cell_type": "code",
     "checksum": "a7253e7eccd8ceb0854d9bd4a1b395c4",
     "grade": true,
     "grade_id": "cell-0c957a6344163778",
     "locked": true,
     "points": 1,
     "schema_version": 3,
     "solution": false,
     "task": false
    }
   },
   "outputs": [],
   "source": [
    "%%check\n",
    "a,b,c = 1, 3, 2\n",
    "result == 6\n",
    "a,b,c = 3, 8, 6\n",
    "result == 17"
   ]
  },
  {
   "cell_type": "markdown",
   "metadata": {},
   "source": [
    "### compute $ x ^ y $"
   ]
  },
  {
   "cell_type": "code",
   "execution_count": null,
   "metadata": {},
   "outputs": [],
   "source": [
    "x = 20\n",
    "y = 10"
   ]
  },
  {
   "cell_type": "code",
   "execution_count": null,
   "metadata": {
    "deletable": false,
    "nbgrader": {
     "cell_type": "code",
     "checksum": "6162402531324e332bf032426870d104",
     "grade": false,
     "grade_id": "cell-9b4a6ee672dbf748",
     "locked": false,
     "schema_version": 3,
     "solution": true,
     "task": false
    }
   },
   "outputs": [],
   "source": [
    "%%assignment\n",
    "# YOUR CODE HERE"
   ]
  },
  {
   "cell_type": "code",
   "execution_count": null,
   "metadata": {
    "deletable": false,
    "editable": false,
    "nbgrader": {
     "cell_type": "code",
     "checksum": "ee1bcb157cc7bdeb67258b6bcee13cad",
     "grade": true,
     "grade_id": "cell-58239d56f3cbf5cf",
     "locked": true,
     "points": 1,
     "schema_version": 3,
     "solution": false,
     "task": false
    }
   },
   "outputs": [],
   "source": [
    "%%check\n",
    "x,y = 20,10\n",
    "result == 10240000000000\n",
    "x,y = 4,5\n",
    "result == 1024"
   ]
  },
  {
   "cell_type": "markdown",
   "metadata": {},
   "source": [
    "### compute the average of x and y"
   ]
  },
  {
   "cell_type": "code",
   "execution_count": null,
   "metadata": {},
   "outputs": [],
   "source": [
    "x = 20\n",
    "y = 10"
   ]
  },
  {
   "cell_type": "code",
   "execution_count": null,
   "metadata": {
    "deletable": false,
    "nbgrader": {
     "cell_type": "code",
     "checksum": "95dc35694a74f8cfcee528e262a2c40b",
     "grade": false,
     "grade_id": "cell-b3684e2ed23a55c7",
     "locked": false,
     "schema_version": 3,
     "solution": true,
     "task": false
    }
   },
   "outputs": [],
   "source": [
    "%%assignment\n",
    "# YOUR CODE HERE"
   ]
  },
  {
   "cell_type": "code",
   "execution_count": null,
   "metadata": {
    "deletable": false,
    "editable": false,
    "nbgrader": {
     "cell_type": "code",
     "checksum": "ca36b98d4a6232a68fed8d9be9592582",
     "grade": true,
     "grade_id": "cell-972de42861988ae8",
     "locked": true,
     "points": 1,
     "schema_version": 3,
     "solution": false,
     "task": false
    }
   },
   "outputs": [],
   "source": [
    "%%check\n",
    "x,y = 20,10\n",
    "result == 15.0\n",
    "x,y = 4,5\n",
    "result == 4.5"
   ]
  },
  {
   "cell_type": "markdown",
   "metadata": {},
   "source": [
    "### assign to a variable named `area` the product of `height` and `width`"
   ]
  },
  {
   "cell_type": "code",
   "execution_count": null,
   "metadata": {},
   "outputs": [],
   "source": [
    "height = 12\n",
    "width = 4"
   ]
  },
  {
   "cell_type": "code",
   "execution_count": null,
   "metadata": {
    "deletable": false,
    "nbgrader": {
     "cell_type": "code",
     "checksum": "e8dd1006031d9b1e73bbb5a757caa5eb",
     "grade": false,
     "grade_id": "cell-189ee3f7e7e594f2",
     "locked": false,
     "schema_version": 3,
     "solution": true,
     "task": false
    }
   },
   "outputs": [],
   "source": [
    "%%assignment\n",
    "# YOUR CODE HERE"
   ]
  },
  {
   "cell_type": "code",
   "execution_count": null,
   "metadata": {
    "deletable": false,
    "editable": false,
    "nbgrader": {
     "cell_type": "code",
     "checksum": "70b31ba227663382dec0a768a3307c02",
     "grade": true,
     "grade_id": "cell-7cdadebd38177ac8",
     "locked": true,
     "points": 1,
     "schema_version": 3,
     "solution": false,
     "task": false
    }
   },
   "outputs": [],
   "source": [
    "%%check\n",
    "height,width = 12,4\n",
    "area == 48\n",
    "height,width = 4,5\n",
    "area == 20"
   ]
  },
  {
   "cell_type": "markdown",
   "metadata": {},
   "source": [
    "### compute the `area` of a circle based on its radius `r` and `pi`, e.g. $\\pi \\cdot r^2$ "
   ]
  },
  {
   "cell_type": "code",
   "execution_count": null,
   "metadata": {},
   "outputs": [],
   "source": [
    "from math import pi\n",
    "r = 20"
   ]
  },
  {
   "cell_type": "code",
   "execution_count": null,
   "metadata": {
    "deletable": false,
    "nbgrader": {
     "cell_type": "code",
     "checksum": "a40d747eb17170bd7cb90825bff62611",
     "grade": false,
     "grade_id": "cell-37bc9616511c0817",
     "locked": false,
     "schema_version": 3,
     "solution": true,
     "task": false
    }
   },
   "outputs": [],
   "source": [
    "%%assignment\n",
    "# YOUR CODE HERE"
   ]
  },
  {
   "cell_type": "code",
   "execution_count": null,
   "metadata": {
    "deletable": false,
    "editable": false,
    "nbgrader": {
     "cell_type": "code",
     "checksum": "36604981601506afafa8497b7ab9eae8",
     "grade": true,
     "grade_id": "cell-89f9f3df2a27dfc3",
     "locked": true,
     "points": 1,
     "schema_version": 3,
     "solution": false,
     "task": false
    }
   },
   "outputs": [],
   "source": [
    "%%check\n",
    "r = 20\n",
    "area == 1256.6370614359173\n",
    "r = 2.5\n",
    "area == 19.634954084936208"
   ]
  },
  {
   "cell_type": "markdown",
   "metadata": {},
   "source": [
    "### now compute the `volume` of a cilinder:\n",
    "\n",
    "Use two lines of code:\n",
    "- First compute the area of the circular side `a` based on its radius `r` and `pi`, e.g. $\\pi \\cdot r^2$ \n",
    "- Then compute the `volume` by multiplying `a` and `height`"
   ]
  },
  {
   "cell_type": "code",
   "execution_count": null,
   "metadata": {},
   "outputs": [],
   "source": [
    "from math import pi\n",
    "r = 20\n",
    "height = 100"
   ]
  },
  {
   "cell_type": "code",
   "execution_count": null,
   "metadata": {
    "deletable": false,
    "nbgrader": {
     "cell_type": "code",
     "checksum": "ff0e49cabef10f2336365b13dd05cb90",
     "grade": false,
     "grade_id": "cell-98cae3a753ac1bb1",
     "locked": false,
     "schema_version": 3,
     "solution": true,
     "task": false
    }
   },
   "outputs": [],
   "source": [
    "%%assignment\n",
    "# YOUR CODE HERE"
   ]
  },
  {
   "cell_type": "code",
   "execution_count": null,
   "metadata": {
    "deletable": false,
    "editable": false,
    "nbgrader": {
     "cell_type": "code",
     "checksum": "1abb275432b78d2573f0ea0e491f01cc",
     "grade": true,
     "grade_id": "cell-504c3d06b10cf118",
     "locked": true,
     "points": 1,
     "schema_version": 3,
     "solution": false,
     "task": false
    }
   },
   "outputs": [],
   "source": [
    "%%check\n",
    "r = 20\n",
    "a == 1256.6370614359173\n",
    "volume == 125663.70614359173\n",
    "r = 2.5\n",
    "a == 19.634954084936208\n",
    "volume == 1963.4954084936208"
   ]
  },
  {
   "cell_type": "markdown",
   "metadata": {},
   "source": [
    "# Done? Please close your notebook with Close And Halt!"
   ]
  }
 ],
 "metadata": {
  "kernelspec": {
   "display_name": "nbgrader",
   "language": "python",
   "name": "nbgrader"
  },
  "language_info": {
   "codemirror_mode": {
    "name": "ipython",
    "version": 3
   },
   "file_extension": ".py",
   "mimetype": "text/x-python",
   "name": "python",
   "nbconvert_exporter": "python",
   "pygments_lexer": "ipython3",
   "version": "3.6.10"
  }
 },
 "nbformat": 4,
 "nbformat_minor": 4
}
