{
 "cells": [
  {
   "cell_type": "markdown",
   "metadata": {},
   "source": [
    "# Set comprehension\n",
    "\n",
    "A Set Comprehension works just like a list or tuple comprehension, you just place the comprehension in between curly braces. The only difference is that the result is a Set, and therefore the elements are unique and you can only use Set operators and functions on it."
   ]
  },
  {
   "cell_type": "code",
   "execution_count": null,
   "metadata": {},
   "outputs": [],
   "source": [
    "a = [ 3, 2, 3, 5, 2 ]"
   ]
  },
  {
   "cell_type": "code",
   "execution_count": null,
   "metadata": {},
   "outputs": [],
   "source": [
    "{ v for v in a if v < 4 }"
   ]
  },
  {
   "cell_type": "markdown",
   "metadata": {},
   "source": [
    "# Assignments"
   ]
  },
  {
   "cell_type": "markdown",
   "metadata": {},
   "source": [
    "#### What is the result of the following comprehension?"
   ]
  },
  {
   "cell_type": "markdown",
   "metadata": {},
   "source": [
    "```\n",
    "len({ c for c in 'aardvark' })\n",
    "```"
   ]
  },
  {
   "cell_type": "code",
   "execution_count": null,
   "metadata": {
    "deletable": false,
    "editable": false,
    "nbgrader": {
     "cell_type": "code",
     "checksum": "d9b1a3b059264ab1ce21c1ef2b215f3a",
     "grade": false,
     "grade_id": "cell-c871794c9a30045c",
     "locked": true,
     "schema_version": 3,
     "solution": false,
     "task": false
    }
   },
   "outputs": [],
   "source": [
    "%%slider set_comprehension1\n",
    "1 10"
   ]
  },
  {
   "cell_type": "code",
   "execution_count": null,
   "metadata": {
    "deletable": false,
    "editable": false,
    "nbgrader": {
     "cell_type": "code",
     "checksum": "1e698c3e3816f72a1c02b00afe341e35",
     "grade": true,
     "grade_id": "cell-e153ffefbaee095e",
     "locked": true,
     "points": 1,
     "schema_version": 3,
     "solution": false,
     "task": false
    }
   },
   "outputs": [],
   "source": [
    "%%check\n",
    "result == 3853743770900693"
   ]
  },
  {
   "cell_type": "markdown",
   "metadata": {},
   "source": [
    "```\n",
    "len([ c for c in 'aardvark' ])\n",
    "```"
   ]
  },
  {
   "cell_type": "code",
   "execution_count": null,
   "metadata": {
    "deletable": false,
    "editable": false,
    "nbgrader": {
     "cell_type": "code",
     "checksum": "17755cc3844b0021d20d9cd8f837fe06",
     "grade": false,
     "grade_id": "cell-1e7a3cb272b7555e",
     "locked": true,
     "schema_version": 3,
     "solution": false,
     "task": false
    }
   },
   "outputs": [],
   "source": [
    "%%slider set_comprehension2\n",
    "1 10"
   ]
  },
  {
   "cell_type": "code",
   "execution_count": null,
   "metadata": {
    "deletable": false,
    "editable": false,
    "nbgrader": {
     "cell_type": "code",
     "checksum": "93efe7a9a7931ba670ac9642bb6e912e",
     "grade": true,
     "grade_id": "cell-27219d4ffc337829",
     "locked": true,
     "points": 1,
     "schema_version": 3,
     "solution": false,
     "task": false
    }
   },
   "outputs": [],
   "source": [
    "%%check\n",
    "result == 1598091001013101"
   ]
  },
  {
   "cell_type": "markdown",
   "metadata": {},
   "source": [
    "```\n",
    "sum( { c for c in [3, 2, 3, 4 ] } )\n",
    "```"
   ]
  },
  {
   "cell_type": "code",
   "execution_count": null,
   "metadata": {
    "deletable": false,
    "editable": false,
    "nbgrader": {
     "cell_type": "code",
     "checksum": "8fb9d403fce4eb6473fc3a6879a0a994",
     "grade": false,
     "grade_id": "cell-e7e45a2145ec795f",
     "locked": true,
     "schema_version": 3,
     "solution": false,
     "task": false
    }
   },
   "outputs": [],
   "source": [
    "%%slider set_comprehension3\n",
    "1 20"
   ]
  },
  {
   "cell_type": "code",
   "execution_count": null,
   "metadata": {
    "deletable": false,
    "editable": false,
    "nbgrader": {
     "cell_type": "code",
     "checksum": "9f4408aabcf037880978b4ec7d0fc441",
     "grade": true,
     "grade_id": "cell-016271e454e13a28",
     "locked": true,
     "points": 1,
     "schema_version": 3,
     "solution": false,
     "task": false
    }
   },
   "outputs": [],
   "source": [
    "%%check\n",
    "result == 9119957797678374"
   ]
  },
  {
   "cell_type": "markdown",
   "metadata": {},
   "source": [
    "#### Count how many unique letters in 'word' are not vowels.\n",
    "\n",
    "Hint: unique means that duplicate consonants (opposite of a vowel) will only count as 1."
   ]
  },
  {
   "cell_type": "code",
   "execution_count": null,
   "metadata": {},
   "outputs": [],
   "source": [
    "word = 'dazzling'"
   ]
  },
  {
   "cell_type": "code",
   "execution_count": null,
   "metadata": {
    "deletable": false,
    "nbgrader": {
     "cell_type": "code",
     "checksum": "537b85cfeb55c60054a39e04a1769d56",
     "grade": false,
     "grade_id": "cell-a8f009f57c1385f2",
     "locked": false,
     "schema_version": 3,
     "solution": true,
     "task": false
    }
   },
   "outputs": [],
   "source": [
    "%%assignment\n",
    "# YOUR CODE HERE"
   ]
  },
  {
   "cell_type": "code",
   "execution_count": null,
   "metadata": {
    "deletable": false,
    "editable": false,
    "nbgrader": {
     "cell_type": "code",
     "checksum": "6035e492ec79ab35968768a99d77850a",
     "grade": true,
     "grade_id": "cell-ca4bf437a779ba34",
     "locked": true,
     "points": 1,
     "schema_version": 3,
     "solution": false,
     "task": false
    }
   },
   "outputs": [],
   "source": [
    "%%check\n",
    "word = 'dazzling'\n",
    "result == 5\n",
    "word = 'parallel'\n",
    "result == 3"
   ]
  },
  {
   "cell_type": "markdown",
   "metadata": {},
   "source": [
    "#### Count how many students have ever received a grade higher than 7.\n",
    "\n",
    "In `grades`, each tuples has the (unique) studentname, course and grade in that order.\n",
    "\n",
    "Hint: If John recieved more than one grade > 7, he should still count as one student."
   ]
  },
  {
   "cell_type": "code",
   "execution_count": null,
   "metadata": {},
   "outputs": [],
   "source": [
    "grades = [('John', 'INPRO', 8), ('John', 'ALGEBRA', 9), ('Lucy', 'ALGEBRA', 6), ('Lucy', 'INPRO', 10), ('Tim', 'INPRO', 7)]"
   ]
  },
  {
   "cell_type": "code",
   "execution_count": null,
   "metadata": {
    "deletable": false,
    "nbgrader": {
     "cell_type": "code",
     "checksum": "318c3bc85bad82a1257a3cfcebd34500",
     "grade": false,
     "grade_id": "cell-632cb1d81d637e7e",
     "locked": false,
     "schema_version": 3,
     "solution": true,
     "task": false
    }
   },
   "outputs": [],
   "source": [
    "%%assignment\n",
    "# YOUR CODE HERE"
   ]
  },
  {
   "cell_type": "code",
   "execution_count": null,
   "metadata": {
    "deletable": false,
    "editable": false,
    "nbgrader": {
     "cell_type": "code",
     "checksum": "52509a6f95e982cc637d26d8c47a33b9",
     "grade": true,
     "grade_id": "cell-95053b3026a49350",
     "locked": true,
     "points": 1,
     "schema_version": 3,
     "solution": false,
     "task": false
    }
   },
   "outputs": [],
   "source": [
    "%%check\n",
    "grades = [(1, 1, 8), (1, 1, 7), (2, 1, 6), (2, 1, 5)]\n",
    "result == 1\n",
    "grades = [('John', 'INPRO', 8), ('John', 'ALGEBRA', 9), ('Lucy', 'ALGEBRA', 6), ('Lucy', 'INPRO', 10), ('Tim', 'INPRO', 7)]\n",
    "result == 2"
   ]
  },
  {
   "cell_type": "markdown",
   "metadata": {},
   "source": [
    "#### Count how many students have NEVER received a grade higher than 7.\n",
    "\n",
    "Ok, this may be hard if you have never seen this before. The easiest way to solve this is in three steps:\n",
    "- a = set of all names\n",
    "- b = set of all names of the students that did receive a grade higher than 7 (previous assignment)\n",
    "- the answer is then a comprehension that iterates over the names `a` keeping only those that are `not in b`"
   ]
  },
  {
   "cell_type": "code",
   "execution_count": null,
   "metadata": {},
   "outputs": [],
   "source": [
    "grades = [('John', 'INPRO', 8), ('John', 'ALGEBRA', 9), ('Lucy', 'ALGEBRA', 6), ('Lucy', 'INPRO', 10), ('Tim', 'INPRO', 7)]"
   ]
  },
  {
   "cell_type": "code",
   "execution_count": null,
   "metadata": {
    "deletable": false,
    "nbgrader": {
     "cell_type": "code",
     "checksum": "b907087eb1e0e6920ac7d1511136cd3c",
     "grade": false,
     "grade_id": "cell-e098b1c1c8e37705",
     "locked": false,
     "schema_version": 3,
     "solution": true,
     "task": false
    }
   },
   "outputs": [],
   "source": [
    "%%assignment\n",
    "# YOUR CODE HERE"
   ]
  },
  {
   "cell_type": "code",
   "execution_count": null,
   "metadata": {
    "deletable": false,
    "editable": false,
    "nbgrader": {
     "cell_type": "code",
     "checksum": "43b19ac156ce2f0cafa336b6ec6f3645",
     "grade": true,
     "grade_id": "cell-b98dd34b3c035d98",
     "locked": true,
     "points": 1,
     "schema_version": 3,
     "solution": false,
     "task": false
    }
   },
   "outputs": [],
   "source": [
    "%%check\n",
    "grades = [(1, 1, 8), (1, 1, 7), (2, 1, 6), (2, 1, 5)]\n",
    "set(result) == {2}\n",
    "grades = [('John', 'INPRO', 8), ('John', 'ALGEBRA', 9), ('Lucy', 'ALGEBRA', 6), ('Lucy', 'INPRO', 10), ('Tim', 'INPRO', 7)]\n",
    "set(result) == {'Tim'}"
   ]
  },
  {
   "cell_type": "code",
   "execution_count": null,
   "metadata": {},
   "outputs": [],
   "source": []
  }
 ],
 "metadata": {
  "kernelspec": {
   "display_name": "nbgrader",
   "language": "python",
   "name": "nbgrader"
  },
  "language_info": {
   "codemirror_mode": {
    "name": "ipython",
    "version": 3
   },
   "file_extension": ".py",
   "mimetype": "text/x-python",
   "name": "python",
   "nbconvert_exporter": "python",
   "pygments_lexer": "ipython3",
   "version": "3.6.10"
  }
 },
 "nbformat": 4,
 "nbformat_minor": 4
}
