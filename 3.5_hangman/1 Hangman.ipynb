{
 "cells": [
  {
   "cell_type": "markdown",
   "metadata": {},
   "source": [
    "# Hangman\n",
    "\n",
    "We are going to write a simple version of the Hangman game in small steps. Hangman is a game where the player has to guess a secret word. The words initially is displayed as a series of dashes that stand for the letters in the word. Every turn the player guesses a letter and the word is shown with the guessed letters revealed and the other letters shown as dashes. However, if the player guesses 8 letters that are not in the word, they lose."
   ]
  },
  {
   "cell_type": "markdown",
   "metadata": {},
   "source": [
    "# Example"
   ]
  },
  {
   "cell_type": "code",
   "execution_count": null,
   "metadata": {},
   "outputs": [],
   "source": [
    "word = 'lasagne'"
   ]
  },
  {
   "cell_type": "markdown",
   "metadata": {},
   "source": [
    "The player would then initially see\n",
    "\n",
    "```\n",
    "-------\n",
    "```"
   ]
  },
  {
   "cell_type": "markdown",
   "metadata": {},
   "source": [
    "When the player guesses 'a'"
   ]
  },
  {
   "cell_type": "markdown",
   "metadata": {},
   "source": [
    "```\n",
    "-a-a---    miss: 0\n",
    "```"
   ]
  },
  {
   "cell_type": "markdown",
   "metadata": {},
   "source": [
    "But when the player guesses 'p'"
   ]
  },
  {
   "cell_type": "markdown",
   "metadata": {},
   "source": [
    "```\n",
    "-a-a---    miss: 1\n",
    "```"
   ]
  },
  {
   "cell_type": "markdown",
   "metadata": {},
   "source": [
    "And the game continues until all the letters are turned and the player wins, or the player missed 8 times."
   ]
  },
  {
   "cell_type": "markdown",
   "metadata": {},
   "source": [
    "# Assignment"
   ]
  },
  {
   "cell_type": "markdown",
   "metadata": {},
   "source": [
    "#### Take the `text` that contains the word that is to be guessed, and convert it into a List of characters `letters`\n",
    "\n",
    "For example `'pear'` becomes `['p', 'e', 'a', 'r']`\n",
    "\n",
    "Hint: you can either use a List comprehension, or even more simply the `list` function"
   ]
  },
  {
   "cell_type": "code",
   "execution_count": null,
   "metadata": {},
   "outputs": [],
   "source": [
    "word = 'lasagne'"
   ]
  },
  {
   "cell_type": "code",
   "execution_count": null,
   "metadata": {
    "deletable": false,
    "nbgrader": {
     "cell_type": "code",
     "checksum": "1dd13702a16b362eabb8a7f95eb50a14",
     "grade": false,
     "grade_id": "cell-6278e209598a276c",
     "locked": false,
     "schema_version": 3,
     "solution": true,
     "task": false
    }
   },
   "outputs": [],
   "source": [
    "%%assignment\n",
    "# YOUR CODE HERE"
   ]
  },
  {
   "cell_type": "code",
   "execution_count": null,
   "metadata": {
    "deletable": false,
    "editable": false,
    "nbgrader": {
     "cell_type": "code",
     "checksum": "47da53c273920fb008127cabb1ce57ac",
     "grade": true,
     "grade_id": "cell-4cd02e888892cb84",
     "locked": true,
     "points": 1,
     "schema_version": 3,
     "solution": false,
     "task": false
    }
   },
   "outputs": [],
   "source": [
    "%%check\n",
    "word = 'pear'\n",
    "letters == ['p', 'e', 'a', 'r']\n",
    "word = 'lasagne'\n",
    "letters == ['l', 'a', 's', 'a', 'g', 'n', 'e']"
   ]
  },
  {
   "cell_type": "markdown",
   "metadata": {},
   "source": [
    "#### Create a list `show` that has as many dashes as there are letters in the list `letters`\n",
    "\n",
    "Hint: you can use a List Comprehension, with '-' as the expression."
   ]
  },
  {
   "cell_type": "code",
   "execution_count": null,
   "metadata": {
    "deletable": false,
    "nbgrader": {
     "cell_type": "code",
     "checksum": "00193f354493bc8895c5c9ac8664b10b",
     "grade": false,
     "grade_id": "cell-87d3c41a02dc1c74",
     "locked": false,
     "schema_version": 3,
     "solution": true,
     "task": false
    }
   },
   "outputs": [],
   "source": [
    "%%assignment\n",
    "# YOUR CODE HERE"
   ]
  },
  {
   "cell_type": "code",
   "execution_count": null,
   "metadata": {
    "deletable": false,
    "editable": false,
    "nbgrader": {
     "cell_type": "code",
     "checksum": "07777153474c185b03410272103c8226",
     "grade": true,
     "grade_id": "cell-8565607720cfb02c",
     "locked": true,
     "points": 1,
     "schema_version": 3,
     "solution": false,
     "task": false
    }
   },
   "outputs": [],
   "source": [
    "%%check\n",
    "letters = ['p', 'e', 'a', 'r']\n",
    "show == ['-', '-', '-', '-']\n",
    "letters = ['l', 'a', 's', 'a', 'g', 'n', 'e']\n",
    "show == ['-', '-', '-', '-', '-', '-', '-']"
   ]
  },
  {
   "cell_type": "markdown",
   "metadata": {},
   "source": [
    "#### Now consider another list `guessed` that will contain all the letters that the user guessed. Write a function `missed` that returns the number of letters in `guessed` that are not in `letters`? \n",
    "\n",
    "You can use the list `letters`, since that contains the seperate letters in the `word`. You can use the `in` operator to check if an element is in a collection. There are several solutions, but perhaps the easiest is to create a List comprehension over the `guessed` that will return True if a letter not in `letters` or False otherwise. Since True is 1 and False is 0, you can sum that list comprehension to get `missed`."
   ]
  },
  {
   "cell_type": "code",
   "execution_count": null,
   "metadata": {},
   "outputs": [],
   "source": [
    "guessed = ['a', 'p', 'e']"
   ]
  },
  {
   "cell_type": "code",
   "execution_count": null,
   "metadata": {
    "deletable": false,
    "nbgrader": {
     "cell_type": "code",
     "checksum": "474258ac8b9689a4c3cc1d4f05ce11fb",
     "grade": false,
     "grade_id": "cell-b86f889b0ede5d37",
     "locked": false,
     "schema_version": 3,
     "solution": true,
     "task": false
    }
   },
   "outputs": [],
   "source": [
    "%%assignment\n",
    "# YOUR CODE HERE\n",
    "missed(letters, guessed)"
   ]
  },
  {
   "cell_type": "code",
   "execution_count": null,
   "metadata": {
    "deletable": false,
    "editable": false,
    "nbgrader": {
     "cell_type": "code",
     "checksum": "fa806edbfa00dbf486cbba43e953d268",
     "grade": true,
     "grade_id": "cell-1e31835d08fa311c",
     "locked": true,
     "points": 1,
     "schema_version": 3,
     "solution": false,
     "task": false
    }
   },
   "outputs": [],
   "source": [
    "%%check\n",
    "signature missed letters guessed\n",
    "letters = ['l', 'a', 's', 'a', 'g', 'n', 'e']\n",
    "guessed = ['a', 'p', 'e']\n",
    "missed(letters, guessed) == 1\n",
    "guessed = ['x', 'p', 'z']\n",
    "missed(letters, guessed) == 3\n",
    "guessed = ['l', 'a', 's']\n",
    "missed(letters, guessed) == 0"
   ]
  },
  {
   "cell_type": "markdown",
   "metadata": {},
   "source": [
    "#### Now write a function `show_letter` that takes a `letter` and `guessed`. If the letter is in guessed it returns the letter, otherwise it returns a `-`."
   ]
  },
  {
   "cell_type": "code",
   "execution_count": null,
   "metadata": {},
   "outputs": [],
   "source": [
    "guessed = ['a', 'p', 'e']"
   ]
  },
  {
   "cell_type": "code",
   "execution_count": null,
   "metadata": {
    "deletable": false,
    "nbgrader": {
     "cell_type": "code",
     "checksum": "7a5e157bd93118284dc7edc884f9847e",
     "grade": false,
     "grade_id": "cell-374f4618a14a143d",
     "locked": false,
     "schema_version": 3,
     "solution": true,
     "task": false
    }
   },
   "outputs": [],
   "source": [
    "%%assignment\n",
    "# YOUR CODE HERE\n",
    "show_letter('e', guessed)"
   ]
  },
  {
   "cell_type": "code",
   "execution_count": null,
   "metadata": {
    "deletable": false,
    "editable": false,
    "nbgrader": {
     "cell_type": "code",
     "checksum": "67129ff0e6fd5c56a4647ffc9589f122",
     "grade": true,
     "grade_id": "cell-1a69b2e0d13d1d98",
     "locked": true,
     "points": 1,
     "schema_version": 3,
     "solution": false,
     "task": false
    }
   },
   "outputs": [],
   "source": [
    "%%check\n",
    "signature show_letter letter guessed\n",
    "letters = ['l', 'a', 's', 'a', 'g', 'n', 'e']\n",
    "show_letter('e', ['a', 'p', 'e']) == 'e'\n",
    "show_letter('x', ['a', 'p', 'e']) == '-'\n",
    "show_letter('x', ['x', 'p', 'e']) == 'x'"
   ]
  },
  {
   "cell_type": "markdown",
   "metadata": {},
   "source": [
    "#### Now write a function `show_letters` that takes `letters` and `guessed`. It returns a list of the letters in `letters`, and if they are not in guessed they are replaced by a '-'"
   ]
  },
  {
   "cell_type": "code",
   "execution_count": null,
   "metadata": {},
   "outputs": [],
   "source": [
    "guessed = ['a', 'p', 'e']"
   ]
  },
  {
   "cell_type": "code",
   "execution_count": null,
   "metadata": {
    "deletable": false,
    "nbgrader": {
     "cell_type": "code",
     "checksum": "3b962eafc3edddf33f84d7273d1fd401",
     "grade": false,
     "grade_id": "cell-5ceadf368bb30510",
     "locked": false,
     "schema_version": 3,
     "solution": true,
     "task": false
    }
   },
   "outputs": [],
   "source": [
    "%%assignment\n",
    "# YOUR CODE HERE\n",
    "show_letters(letters, guessed)"
   ]
  },
  {
   "cell_type": "code",
   "execution_count": null,
   "metadata": {
    "deletable": false,
    "editable": false,
    "nbgrader": {
     "cell_type": "code",
     "checksum": "c0ba2652c916488430e83cba4a91814c",
     "grade": true,
     "grade_id": "cell-3451852fe757dce6",
     "locked": true,
     "points": 1,
     "schema_version": 3,
     "solution": false,
     "task": false
    }
   },
   "outputs": [],
   "source": [
    "%%check\n",
    "signature show_letter letter guessed\n",
    "letters = ['l', 'a', 's', 'a', 'g', 'n', 'e']\n",
    "show_letters(letters, ['a', 'p', 'e']) == ['-', 'a', '-', 'a', '-', '-', 'e']\n",
    "show_letters(letters, ['a'])           == ['-', 'a', '-', 'a', '-', '-', '-']"
   ]
  },
  {
   "cell_type": "markdown",
   "metadata": {},
   "source": [
    "#### You can use the `join` function that works on Strings to print the list `show` as a String.\n",
    "\n",
    "You can use join on a delimiter (a text that is placed in between the values). In this case you can use en empty String `''` as a delimiter or a single space `' '`. As a parameter you provide the list, and voila, the elements in the list are glued together to form a new String. "
   ]
  },
  {
   "cell_type": "code",
   "execution_count": null,
   "metadata": {},
   "outputs": [],
   "source": [
    "''.join( ['-', 'a', '-', 'a', '-', '-', 'e'] )"
   ]
  },
  {
   "cell_type": "markdown",
   "metadata": {},
   "source": [
    "#### Now change the function `show_letters`. Instead of returning a list of letters, return a String using the `join` function. "
   ]
  },
  {
   "cell_type": "code",
   "execution_count": null,
   "metadata": {},
   "outputs": [],
   "source": [
    "guessed = ['a', 'p', 'e']"
   ]
  },
  {
   "cell_type": "code",
   "execution_count": null,
   "metadata": {
    "deletable": false,
    "nbgrader": {
     "cell_type": "code",
     "checksum": "efa39d3667c7a8452c92c48986ea12d1",
     "grade": false,
     "grade_id": "cell-d92214c90fb337f2",
     "locked": false,
     "schema_version": 3,
     "solution": true,
     "task": false
    }
   },
   "outputs": [],
   "source": [
    "%%assignment\n",
    "# YOUR CODE HERE\n",
    "show_letters(letters, guessed)"
   ]
  },
  {
   "cell_type": "code",
   "execution_count": null,
   "metadata": {
    "deletable": false,
    "editable": false,
    "nbgrader": {
     "cell_type": "code",
     "checksum": "2e12a59ccf0f437b467ebe88a2717f2c",
     "grade": true,
     "grade_id": "cell-5e8f9ffef9c7330c",
     "locked": true,
     "points": 1,
     "schema_version": 3,
     "solution": false,
     "task": false
    }
   },
   "outputs": [],
   "source": [
    "%%check\n",
    "signature show_letters letters guessed\n",
    "letters = ['l', 'a', 's', 'a', 'g', 'n', 'e']\n",
    "show_letters(letters, ['a', 'p', 'e']) == '-a-a--e'\n",
    "show_letters(letters, ['a'])           == '-a-a---'"
   ]
  },
  {
   "cell_type": "markdown",
   "metadata": {},
   "source": [
    "#### You are doing great!!"
   ]
  },
  {
   "cell_type": "markdown",
   "metadata": {},
   "source": [
    "#### The last function `won` that accepts `letters` and `guessed` and returns True when the player has won the game. We can very simply check if the game has ended by looking if there is still a '-' in the shown String."
   ]
  },
  {
   "cell_type": "code",
   "execution_count": null,
   "metadata": {
    "deletable": false,
    "nbgrader": {
     "cell_type": "code",
     "checksum": "c68adc1481f2afd0d7ab7df8acaee803",
     "grade": false,
     "grade_id": "cell-fcd6563c5c009858",
     "locked": false,
     "schema_version": 3,
     "solution": true,
     "task": false
    }
   },
   "outputs": [],
   "source": [
    "%%assignment\n",
    "# YOUR CODE HERE"
   ]
  },
  {
   "cell_type": "code",
   "execution_count": null,
   "metadata": {
    "deletable": false,
    "editable": false,
    "nbgrader": {
     "cell_type": "code",
     "checksum": "0043c978f6058cbff4e623e346b40728",
     "grade": true,
     "grade_id": "cell-8b543e31cf8b2242",
     "locked": true,
     "points": 1,
     "schema_version": 3,
     "solution": false,
     "task": false
    }
   },
   "outputs": [],
   "source": [
    "%%check\n",
    "signature won letters guessed\n",
    "letters = ['a', 'p', 'a']\n",
    "won(letters, letters) == True\n",
    "won(letters, ['a']) == False\n",
    "won(letters, ['p']) == False"
   ]
  },
  {
   "cell_type": "markdown",
   "metadata": {},
   "source": [
    "#### Then if all went well, you should have a little game working now!\n",
    "\n",
    "Note that it is still a bit simple, for example it does not check whether the player has guessed the same letter already. How can you improve that?"
   ]
  },
  {
   "cell_type": "code",
   "execution_count": null,
   "metadata": {},
   "outputs": [],
   "source": [
    "word = 'lasagne'"
   ]
  },
  {
   "cell_type": "code",
   "execution_count": null,
   "metadata": {},
   "outputs": [],
   "source": [
    "def play_hangman(word):\n",
    "    guessed = []\n",
    "    letters = list(word)\n",
    "    print( show_letters(letters, guessed) )\n",
    "\n",
    "    while not won(letters, guessed) and missed(letters, guessed) < 8:\n",
    "        letter = input('next letter: ')\n",
    "        guessed.append(letter)\n",
    "        print( show_letters( letters, guessed), 'missed', missed(letters, guessed) )\n",
    "\n",
    "    if missed(letters, guessed) == 8:\n",
    "        print('You Lost!')\n",
    "    else:\n",
    "        print('You Won!')"
   ]
  },
  {
   "cell_type": "code",
   "execution_count": null,
   "metadata": {},
   "outputs": [],
   "source": [
    "play_hangman('airplane')\n"
   ]
  },
  {
   "cell_type": "markdown",
   "metadata": {},
   "source": [
    "Playing hangman with the same word is a little bit too easy. Therefore, we create a List of words, and the idea is to select a random word from the List for the player to guess."
   ]
  },
  {
   "cell_type": "markdown",
   "metadata": {},
   "source": [
    "#### Search for a library or a function that allows you to randomly select an item from a List."
   ]
  },
  {
   "cell_type": "markdown",
   "metadata": {},
   "source": [
    "#### Write a function `choose_word` that returns a randomly selected word from a given list of `words`"
   ]
  },
  {
   "cell_type": "code",
   "execution_count": null,
   "metadata": {},
   "outputs": [],
   "source": [
    "words = ['lasagne', 'airplane', 'groundhog', 'accident']"
   ]
  },
  {
   "cell_type": "code",
   "execution_count": null,
   "metadata": {
    "deletable": false,
    "nbgrader": {
     "cell_type": "code",
     "checksum": "7bbbcfb51ce0b8f99c3726ba0f4fc55e",
     "grade": false,
     "grade_id": "cell-873e86058c24afb5",
     "locked": false,
     "schema_version": 3,
     "solution": true,
     "task": false
    }
   },
   "outputs": [],
   "source": [
    "%%assignment\n",
    "# YOUR CODE HERE"
   ]
  },
  {
   "cell_type": "markdown",
   "metadata": {},
   "source": [
    "repeat the next cell several times to see if it returns different words."
   ]
  },
  {
   "cell_type": "code",
   "execution_count": null,
   "metadata": {},
   "outputs": [],
   "source": [
    "choose_word( words )"
   ]
  },
  {
   "cell_type": "code",
   "execution_count": null,
   "metadata": {
    "deletable": false,
    "editable": false,
    "nbgrader": {
     "cell_type": "code",
     "checksum": "ff45aeb39d2eba0f632ba58e775161e8",
     "grade": true,
     "grade_id": "cell-bfc68bddd471536d",
     "locked": true,
     "points": 1,
     "schema_version": 3,
     "solution": false,
     "task": false
    }
   },
   "outputs": [],
   "source": [
    "%%check\n",
    "len({ choose_word(list('abcdefg')) for i in range(100)}) > 1 # Your function may return the same word every time? "
   ]
  },
  {
   "cell_type": "markdown",
   "metadata": {},
   "source": [
    "#### Finally, write a function `play` that first chooses a random word, and then calls hangman. Enjoy!"
   ]
  },
  {
   "cell_type": "code",
   "execution_count": null,
   "metadata": {
    "deletable": false,
    "nbgrader": {
     "cell_type": "code",
     "checksum": "852eab73a9ceeb260cddf196219d6b94",
     "grade": false,
     "grade_id": "cell-d56da1b4d2edc45c",
     "locked": false,
     "schema_version": 3,
     "solution": true,
     "task": false
    }
   },
   "outputs": [],
   "source": [
    "%%assignment\n",
    "# YOUR CODE HERE"
   ]
  },
  {
   "cell_type": "code",
   "execution_count": null,
   "metadata": {},
   "outputs": [],
   "source": [
    "play()"
   ]
  },
  {
   "cell_type": "code",
   "execution_count": null,
   "metadata": {
    "deletable": false,
    "editable": false,
    "nbgrader": {
     "cell_type": "code",
     "checksum": "1a09e1b880a97567a84ae2b969de8ebb",
     "grade": true,
     "grade_id": "cell-8ea50453669fe2c3",
     "locked": true,
     "points": 1,
     "schema_version": 3,
     "solution": false,
     "task": false
    }
   },
   "outputs": [],
   "source": [
    "%%check\n",
    "signature play\n",
    "mandatory choose_word play_hangman"
   ]
  },
  {
   "cell_type": "code",
   "execution_count": null,
   "metadata": {},
   "outputs": [],
   "source": []
  }
 ],
 "metadata": {
  "kernelspec": {
   "display_name": "nbgrader",
   "language": "python",
   "name": "nbgrader"
  },
  "language_info": {
   "codemirror_mode": {
    "name": "ipython",
    "version": 3
   },
   "file_extension": ".py",
   "mimetype": "text/x-python",
   "name": "python",
   "nbconvert_exporter": "python",
   "pygments_lexer": "ipython3",
   "version": "3.6.10"
  }
 },
 "nbformat": 4,
 "nbformat_minor": 4
}
